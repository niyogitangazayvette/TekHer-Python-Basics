{
 "cells": [
  {
   "cell_type": "markdown",
   "id": "5ff9bc70-a5d7-4889-b88b-5259eb7e1c42",
   "metadata": {},
   "source": [
    "# Exercises 1\n"
   ]
  },
  {
   "cell_type": "code",
   "execution_count": 3,
   "id": "36812ee6-7dc4-42ed-b58a-7dbf46339763",
   "metadata": {},
   "outputs": [
    {
     "name": "stdout",
     "output_type": "stream",
     "text": [
      "10\n"
     ]
    }
   ],
   "source": [
    "x=10\n",
    "print(x)"
   ]
  },
  {
   "cell_type": "markdown",
   "id": "9d9c9542-7cf9-4210-af9d-df8257e7801b",
   "metadata": {},
   "source": [
    "# Exercise 2\n"
   ]
  },
  {
   "cell_type": "code",
   "execution_count": 6,
   "id": "c912a03c-44ef-418a-8d94-c86b9a4658cf",
   "metadata": {},
   "outputs": [
    {
     "name": "stdout",
     "output_type": "stream",
     "text": [
      "True\n"
     ]
    }
   ],
   "source": [
    "is_valid = True\n",
    "print(is_valid)"
   ]
  },
  {
   "cell_type": "markdown",
   "id": "2742fd93-fca0-4077-ac7a-03d13709698a",
   "metadata": {},
   "source": [
    "# Exercise 3"
   ]
  },
  {
   "cell_type": "code",
   "execution_count": 11,
   "id": "2c59e6c6-fc15-4d3b-affc-d62356804700",
   "metadata": {},
   "outputs": [
    {
     "name": "stdout",
     "output_type": "stream",
     "text": [
      "Python Programming\n"
     ]
    }
   ],
   "source": [
    "name = \"Python Programming\"\n",
    "print(name)"
   ]
  },
  {
   "cell_type": "markdown",
   "id": "67aebd69-b26e-43da-b100-cb5245d26680",
   "metadata": {},
   "source": [
    "# Exercise 4"
   ]
  },
  {
   "cell_type": "code",
   "execution_count": 14,
   "id": "04ac9380-ee32-4d64-9138-1661f4c3bcb7",
   "metadata": {},
   "outputs": [
    {
     "name": "stdout",
     "output_type": "stream",
     "text": [
      "8\n"
     ]
    }
   ],
   "source": [
    "sum_result = 5 + 3\n",
    "print(sum_result)"
   ]
  },
  {
   "cell_type": "markdown",
   "id": "39a300d6-ee0c-4657-8af3-57b29856596c",
   "metadata": {},
   "source": [
    "# Exercise 5\n"
   ]
  },
  {
   "cell_type": "code",
   "execution_count": 17,
   "id": "d1657202-de7f-4a89-add6-8b11bd4f5c25",
   "metadata": {},
   "outputs": [
    {
     "name": "stdout",
     "output_type": "stream",
     "text": [
      "5 10 15\n"
     ]
    }
   ],
   "source": [
    "\n",
    "a, b, c = 5, 10, 15\n",
    "print(a, b, c)\n"
   ]
  },
  {
   "cell_type": "markdown",
   "id": "76000355-7535-4625-b062-848cff1f2e93",
   "metadata": {},
   "source": [
    "# Exercise 6\n"
   ]
  },
  {
   "cell_type": "code",
   "execution_count": 22,
   "id": "e7ff4d4a-5016-4905-8f5f-70ca9d3cae17",
   "metadata": {},
   "outputs": [
    {
     "name": "stdout",
     "output_type": "stream",
     "text": [
      "20\n"
     ]
    }
   ],
   "source": [
    "\n",
    "x = 20\n",
    "y = x\n",
    "print(y)\n"
   ]
  },
  {
   "cell_type": "markdown",
   "id": "c6419cd6-eeac-411f-8244-6ae5cede0962",
   "metadata": {},
   "source": [
    "# Exercise 7\n"
   ]
  },
  {
   "cell_type": "code",
   "execution_count": 26,
   "id": "4b8ea52e-ff71-4866-b470-aa12cdba8834",
   "metadata": {},
   "outputs": [
    {
     "name": "stdout",
     "output_type": "stream",
     "text": [
      "9.8\n"
     ]
    }
   ],
   "source": [
    "\n",
    "gravity = 9.8\n",
    "print(gravity)\n"
   ]
  },
  {
   "cell_type": "markdown",
   "id": "327509db-fc22-4120-83fa-3e0038be5439",
   "metadata": {},
   "source": [
    "# Exercise 8\n"
   ]
  },
  {
   "cell_type": "code",
   "execution_count": 30,
   "id": "8c77c026-1df5-4ff0-bc80-814af4860cbf",
   "metadata": {},
   "outputs": [
    {
     "name": "stdout",
     "output_type": "stream",
     "text": [
      "Rwanda\n"
     ]
    }
   ],
   "source": [
    "\n",
    "country = \"Rwanda\"\n",
    "print(country)\n"
   ]
  },
  {
   "cell_type": "markdown",
   "id": "1708d26f-04ad-48f6-ba4c-a1d71e80b011",
   "metadata": {},
   "source": [
    "# Exercise 9"
   ]
  },
  {
   "cell_type": "code",
   "execution_count": 33,
   "id": "f8d36d31-0ce5-4ec7-9e99-54829fbcbd2f",
   "metadata": {},
   "outputs": [
    {
     "name": "stdout",
     "output_type": "stream",
     "text": [
      "26\n"
     ]
    }
   ],
   "source": [
    "\n",
    "age = 25\n",
    "age = 26\n",
    "print(age)\n"
   ]
  },
  {
   "cell_type": "markdown",
   "id": "b8756ef9-5624-4fc4-909d-c911b811d686",
   "metadata": {},
   "source": [
    "# Exercise 10\n"
   ]
  },
  {
   "cell_type": "code",
   "execution_count": 36,
   "id": "34c6757e-4d70-4a9d-bf3a-f66c88173051",
   "metadata": {},
   "outputs": [
    {
     "name": "stdout",
     "output_type": "stream",
     "text": [
      "13\n"
     ]
    }
   ],
   "source": [
    "\n",
    "result = 20 - 7\n",
    "print(result)\n"
   ]
  },
  {
   "cell_type": "markdown",
   "id": "18cf94cf-44a0-4294-bfb0-b1d49c124ce9",
   "metadata": {},
   "source": [
    "### Exercise 11\n"
   ]
  },
  {
   "cell_type": "code",
   "execution_count": null,
   "id": "83064994-02e7-44dc-8f3e-a80a46073e79",
   "metadata": {},
   "outputs": [],
   "source": [
    "### Exercise 11:\n",
    "Assign an integer value and a floating-point value to two different variables.\n",
    "\n",
    "```python\n",
    "# Exercise 11"
   ]
  }
 ],
 "metadata": {
  "kernelspec": {
   "display_name": "Python [conda env:base] *",
   "language": "python",
   "name": "conda-base-py"
  },
  "language_info": {
   "codemirror_mode": {
    "name": "ipython",
    "version": 3
   },
   "file_extension": ".py",
   "mimetype": "text/x-python",
   "name": "python",
   "nbconvert_exporter": "python",
   "pygments_lexer": "ipython3",
   "version": "3.11.7"
  },
  "widgets": {
   "application/vnd.jupyter.widget-state+json": {
    "state": {},
    "version_major": 2,
    "version_minor": 0
   }
  }
 },
 "nbformat": 4,
 "nbformat_minor": 5
}
