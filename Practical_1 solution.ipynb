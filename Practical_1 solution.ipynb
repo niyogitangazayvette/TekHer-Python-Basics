{
 "cells": [
  {
   "cell_type": "markdown",
   "id": "5ff9bc70-a5d7-4889-b88b-5259eb7e1c42",
   "metadata": {},
   "source": [
    "# Exercises 1\n"
   ]
  },
  {
   "cell_type": "code",
   "execution_count": 3,
   "id": "36812ee6-7dc4-42ed-b58a-7dbf46339763",
   "metadata": {},
   "outputs": [
    {
     "name": "stdout",
     "output_type": "stream",
     "text": [
      "10\n"
     ]
    }
   ],
   "source": [
    "x=10\n",
    "print(x)"
   ]
  },
  {
   "cell_type": "markdown",
   "id": "9d9c9542-7cf9-4210-af9d-df8257e7801b",
   "metadata": {},
   "source": [
    "# Exercise 2\n"
   ]
  },
  {
   "cell_type": "code",
   "execution_count": 6,
   "id": "c912a03c-44ef-418a-8d94-c86b9a4658cf",
   "metadata": {},
   "outputs": [
    {
     "name": "stdout",
     "output_type": "stream",
     "text": [
      "True\n"
     ]
    }
   ],
   "source": [
    "is_valid = True\n",
    "print(is_valid)"
   ]
  },
  {
   "cell_type": "markdown",
   "id": "2742fd93-fca0-4077-ac7a-03d13709698a",
   "metadata": {},
   "source": [
    "# Exercise 3"
   ]
  },
  {
   "cell_type": "code",
   "execution_count": 11,
   "id": "2c59e6c6-fc15-4d3b-affc-d62356804700",
   "metadata": {},
   "outputs": [
    {
     "name": "stdout",
     "output_type": "stream",
     "text": [
      "Python Programming\n"
     ]
    }
   ],
   "source": [
    "name = \"Python Programming\"\n",
    "print(name)"
   ]
  },
  {
   "cell_type": "markdown",
   "id": "67aebd69-b26e-43da-b100-cb5245d26680",
   "metadata": {},
   "source": [
    "# Exercise 4"
   ]
  },
  {
   "cell_type": "code",
   "execution_count": 14,
   "id": "04ac9380-ee32-4d64-9138-1661f4c3bcb7",
   "metadata": {},
   "outputs": [
    {
     "name": "stdout",
     "output_type": "stream",
     "text": [
      "8\n"
     ]
    }
   ],
   "source": [
    "sum_result = 5 + 3\n",
    "print(sum_result)"
   ]
  },
  {
   "cell_type": "markdown",
   "id": "39a300d6-ee0c-4657-8af3-57b29856596c",
   "metadata": {},
   "source": [
    "# Exercise 5\n"
   ]
  },
  {
   "cell_type": "code",
   "execution_count": 17,
   "id": "d1657202-de7f-4a89-add6-8b11bd4f5c25",
   "metadata": {},
   "outputs": [
    {
     "name": "stdout",
     "output_type": "stream",
     "text": [
      "5 10 15\n"
     ]
    }
   ],
   "source": [
    "\n",
    "a, b, c = 5, 10, 15\n",
    "print(a, b, c)\n"
   ]
  },
  {
   "cell_type": "markdown",
   "id": "76000355-7535-4625-b062-848cff1f2e93",
   "metadata": {},
   "source": [
    "# Exercise 6\n"
   ]
  },
  {
   "cell_type": "code",
   "execution_count": 22,
   "id": "e7ff4d4a-5016-4905-8f5f-70ca9d3cae17",
   "metadata": {},
   "outputs": [
    {
     "name": "stdout",
     "output_type": "stream",
     "text": [
      "20\n"
     ]
    }
   ],
   "source": [
    "\n",
    "x = 20\n",
    "y = x\n",
    "print(y)\n"
   ]
  },
  {
   "cell_type": "markdown",
   "id": "c6419cd6-eeac-411f-8244-6ae5cede0962",
   "metadata": {},
   "source": [
    "# Exercise 7\n"
   ]
  },
  {
   "cell_type": "code",
   "execution_count": 26,
   "id": "4b8ea52e-ff71-4866-b470-aa12cdba8834",
   "metadata": {},
   "outputs": [
    {
     "name": "stdout",
     "output_type": "stream",
     "text": [
      "9.8\n"
     ]
    }
   ],
   "source": [
    "\n",
    "gravity = 9.8\n",
    "print(gravity)\n"
   ]
  },
  {
   "cell_type": "markdown",
   "id": "327509db-fc22-4120-83fa-3e0038be5439",
   "metadata": {},
   "source": [
    "# Exercise 8\n"
   ]
  },
  {
   "cell_type": "code",
   "execution_count": 30,
   "id": "8c77c026-1df5-4ff0-bc80-814af4860cbf",
   "metadata": {},
   "outputs": [
    {
     "name": "stdout",
     "output_type": "stream",
     "text": [
      "Rwanda\n"
     ]
    }
   ],
   "source": [
    "\n",
    "country = \"Rwanda\"\n",
    "print(country)\n"
   ]
  },
  {
   "cell_type": "markdown",
   "id": "1708d26f-04ad-48f6-ba4c-a1d71e80b011",
   "metadata": {},
   "source": [
    "# Exercise 9"
   ]
  },
  {
   "cell_type": "code",
   "execution_count": 33,
   "id": "f8d36d31-0ce5-4ec7-9e99-54829fbcbd2f",
   "metadata": {},
   "outputs": [
    {
     "name": "stdout",
     "output_type": "stream",
     "text": [
      "26\n"
     ]
    }
   ],
   "source": [
    "\n",
    "age = 25\n",
    "age = 26\n",
    "print(age)\n"
   ]
  },
  {
   "cell_type": "markdown",
   "id": "b8756ef9-5624-4fc4-909d-c911b811d686",
   "metadata": {},
   "source": [
    "# Exercise 10\n"
   ]
  },
  {
   "cell_type": "code",
   "execution_count": 36,
   "id": "34c6757e-4d70-4a9d-bf3a-f66c88173051",
   "metadata": {},
   "outputs": [
    {
     "name": "stdout",
     "output_type": "stream",
     "text": [
      "13\n"
     ]
    }
   ],
   "source": [
    "\n",
    "result = 20 - 7\n",
    "print(result)\n"
   ]
  },
  {
   "cell_type": "markdown",
   "id": "18cf94cf-44a0-4294-bfb0-b1d49c124ce9",
   "metadata": {},
   "source": [
    "### Exercise 11\n"
   ]
  },
  {
   "cell_type": "code",
   "execution_count": 1,
   "id": "83064994-02e7-44dc-8f3e-a80a46073e79",
   "metadata": {},
   "outputs": [
    {
     "name": "stdout",
     "output_type": "stream",
     "text": [
      "The integer value is: 10\n",
      "The floating-point value is: 3.14\n"
     ]
    }
   ],
   "source": [
    "\n",
    "my_integer = 10\n",
    "\n",
    "my_float = 3.14\n",
    "\n",
    "print(\"The integer value is:\", my_integer)\n",
    "print(\"The floating-point value is:\", my_float)\n"
   ]
  },
  {
   "cell_type": "markdown",
   "id": "dd852e60-ea19-4dbc-a73a-671bf5dbebc9",
   "metadata": {},
   "source": [
    "# Exercises 12"
   ]
  },
  {
   "cell_type": "code",
   "execution_count": 4,
   "id": "c5b20d02-e208-464f-a1fb-d6b015a68067",
   "metadata": {},
   "outputs": [
    {
     "name": "stdout",
     "output_type": "stream",
     "text": [
      "Is completed? False\n"
     ]
    }
   ],
   "source": [
    "\n",
    "is_completed = False\n",
    "print(\"Is completed?\", is_completed)\n"
   ]
  },
  {
   "cell_type": "markdown",
   "id": "fdd57833-e88a-47ce-82e9-fcd4c0def9cd",
   "metadata": {},
   "source": [
    "# Exercises 13\n"
   ]
  },
  {
   "cell_type": "code",
   "execution_count": 7,
   "id": "d561fb81-b128-4d63-ad4a-4acadbcaf4f5",
   "metadata": {},
   "outputs": [
    {
     "name": "stdout",
     "output_type": "stream",
     "text": [
      "After swapping:\n",
      "x = 10\n",
      "y = 5\n"
     ]
    }
   ],
   "source": [
    "\n",
    "\n",
    "x = 5\n",
    "y = 10\n",
    "\n",
    "# Swapping values\n",
    "x, y = y, x\n",
    "\n",
    "print(\"After swapping:\")\n",
    "print(\"x =\", x)\n",
    "print(\"y =\", y)\n"
   ]
  },
  {
   "cell_type": "markdown",
   "id": "6a5c16a7-4c2b-43d3-9619-d85114c0fb3d",
   "metadata": {},
   "source": [
    "# Exercise 14\n"
   ]
  },
  {
   "cell_type": "code",
   "execution_count": 10,
   "id": "8ade377a-a675-464b-87aa-be5d6357065e",
   "metadata": {},
   "outputs": [
    {
     "name": "stdout",
     "output_type": "stream",
     "text": [
      "The complex number is: (3+4j)\n"
     ]
    }
   ],
   "source": [
    " \n",
    "complex_num = 3 + 4j\n",
    "print(\"The complex number is:\", complex_num)\n"
   ]
  },
  {
   "cell_type": "markdown",
   "id": "c28047b2-82dc-465c-86ad-de70a4da28ef",
   "metadata": {},
   "source": [
    "# Exercise 15\n"
   ]
  },
  {
   "cell_type": "code",
   "execution_count": 13,
   "id": "ae8cbde5-f0fb-4edc-b401-8e6b75ec01bc",
   "metadata": {},
   "outputs": [
    {
     "name": "stdout",
     "output_type": "stream",
     "text": [
      "Initially: 42 <class 'int'>\n",
      "After reassignment: forty-two <class 'str'>\n"
     ]
    }
   ],
   "source": [
    "\n",
    "my_var = 42          \n",
    "print(\"Initially:\", my_var, type(my_var))\n",
    "\n",
    "my_var = \"forty-two\"  \n",
    "print(\"After reassignment:\", my_var, type(my_var))\n"
   ]
  },
  {
   "cell_type": "markdown",
   "id": "9f674912-16f9-4b40-99ab-f9cc37212dee",
   "metadata": {},
   "source": [
    "# Exercise 16\n",
    "\n"
   ]
  },
  {
   "cell_type": "code",
   "execution_count": 18,
   "id": "6343fdf0-92f7-4b27-8a70-82185e50ab8b",
   "metadata": {},
   "outputs": [
    {
     "name": "stdout",
     "output_type": "stream",
     "text": [
      "Yvette Niyogitangaza\n"
     ]
    }
   ],
   "source": [
    "\n",
    "first_name = \"Yvette\"\n",
    "last_name = \"Niyogitangaza\"\n",
    "\n",
    "print( first_name+\" \"+last_name)\n",
    "\n"
   ]
  },
  {
   "cell_type": "markdown",
   "id": "26398155-7874-4088-8a66-06b0e9ce5af3",
   "metadata": {},
   "source": [
    "# Exercise 17"
   ]
  },
  {
   "cell_type": "code",
   "execution_count": 28,
   "id": "c559a0d1-1e8e-4c9f-a510-44e6c80a8632",
   "metadata": {},
   "outputs": [
    {
     "name": "stdout",
     "output_type": "stream",
     "text": [
      "temperature is: 35.5\n"
     ]
    }
   ],
   "source": [
    "\n",
    "temperature = 35.5\n",
    "print(\"temperature is:\", temperature)\n"
   ]
  },
  {
   "cell_type": "markdown",
   "id": "760721aa-18ae-489b-b5db-5f6ef5ff6f14",
   "metadata": {},
   "source": [
    "# Exercise 18"
   ]
  },
  {
   "cell_type": "code",
   "execution_count": 26,
   "id": "947828fc-9ec3-4ce7-b449-fdc9c5031fa2",
   "metadata": {},
   "outputs": [
    {
     "name": "stdout",
     "output_type": "stream",
     "text": [
      "The product is: 48\n"
     ]
    }
   ],
   "source": [
    "\n",
    "product = 8 * 6\n",
    "print(\"The product is:\", product)\n"
   ]
  },
  {
   "cell_type": "markdown",
   "id": "b4ec946f-9c81-4c3c-bd71-9ce86e84f4cd",
   "metadata": {},
   "source": [
    "# Exercise 19\n"
   ]
  },
  {
   "cell_type": "code",
   "execution_count": 31,
   "id": "523718b4-c45a-4478-bfe9-1ce40a4bc4c6",
   "metadata": {},
   "outputs": [
    {
     "name": "stdout",
     "output_type": "stream",
     "text": [
      "Sentence: Learning Python is fun and powerful!\n"
     ]
    }
   ],
   "source": [
    "\n",
    "sentence = \"Learning Python is fun and powerful!\"\n",
    "print(\"Sentence:\", sentence)\n"
   ]
  },
  {
   "cell_type": "markdown",
   "id": "f1b39923-0438-4ecb-8178-0e7782cb4c06",
   "metadata": {},
   "source": [
    "# Exercise 20\n"
   ]
  },
  {
   "cell_type": "code",
   "execution_count": 34,
   "id": "50d540fe-6e84-462c-ae9f-1040b7167d5b",
   "metadata": {},
   "outputs": [
    {
     "name": "stdout",
     "output_type": "stream",
     "text": [
      "The integer value is: 50\n"
     ]
    }
   ],
   "source": [
    "\n",
    "int_value = int('50')\n",
    "print(\"The integer value is:\", int_value)\n"
   ]
  },
  {
   "cell_type": "markdown",
   "id": "733274d3-506b-4f2b-841e-a831182b3ab7",
   "metadata": {},
   "source": [
    "# Exercise 21"
   ]
  },
  {
   "cell_type": "code",
   "execution_count": 37,
   "id": "59cbc685-4146-441b-84eb-e22db12d23e5",
   "metadata": {},
   "outputs": [
    {
     "name": "stdout",
     "output_type": "stream",
     "text": [
      "The quotient is: 12.0\n"
     ]
    }
   ],
   "source": [
    "\n",
    "quotient = 144 / 12\n",
    "print(\"The quotient is:\", quotient)\n"
   ]
  },
  {
   "cell_type": "markdown",
   "id": "910619df-00b1-4330-9ce7-0dc28699f4ce",
   "metadata": {},
   "source": [
    "# Exercise 22\n"
   ]
  },
  {
   "cell_type": "code",
   "execution_count": 40,
   "id": "55c68068-41b9-4693-baea-af558008e23a",
   "metadata": {},
   "outputs": [
    {
     "name": "stdout",
     "output_type": "stream",
     "text": [
      "The remainder is: 2\n"
     ]
    }
   ],
   "source": [
    "\n",
    "remainder = 47 % 5\n",
    "print(\"The remainder is:\", remainder)\n"
   ]
  },
  {
   "cell_type": "markdown",
   "id": "a58979ca-aaf4-4bdd-abea-6e96aa8fa4c1",
   "metadata": {},
   "source": [
    "# Exercise 23\n"
   ]
  },
  {
   "cell_type": "code",
   "execution_count": 45,
   "id": "5658f56c-21cc-42e4-8cb8-a0d255db52bf",
   "metadata": {},
   "outputs": [
    {
     "name": "stdout",
     "output_type": "stream",
     "text": [
      "True\n"
     ]
    }
   ],
   "source": [
    "\n",
    "is_student = True\n",
    "print(is_student)\n"
   ]
  },
  {
   "cell_type": "markdown",
   "id": "4383ab73-0854-45df-afad-b8e6f38e225c",
   "metadata": {},
   "source": [
    "# Exercise 24\n"
   ]
  },
  {
   "cell_type": "code",
   "execution_count": 50,
   "id": "63351ee6-e570-4e69-b388-bdb99459c4d8",
   "metadata": {},
   "outputs": [
    {
     "name": "stdout",
     "output_type": "stream",
     "text": [
      "1\n"
     ]
    }
   ],
   "source": [
    "\n",
    "mod_result = 45 % 4\n",
    "print( mod_result)\n"
   ]
  },
  {
   "cell_type": "markdown",
   "id": "e61156bb-898c-4464-998a-6e2a58046833",
   "metadata": {},
   "source": [
    "# Exercise 25"
   ]
  },
  {
   "cell_type": "code",
   "execution_count": 53,
   "id": "01bd1ddf-0703-4605-962a-5186f859fd43",
   "metadata": {},
   "outputs": [
    {
     "name": "stdout",
     "output_type": "stream",
     "text": [
      "The value of pi is: 3.14159\n"
     ]
    }
   ],
   "source": [
    "\n",
    "pi = 3.14159\n",
    "print(\"The value of pi is:\", pi)\n"
   ]
  },
  {
   "cell_type": "markdown",
   "id": "2b915e5b-a2d6-4b6c-8207-9aaa5635fc8a",
   "metadata": {},
   "source": [
    "# Exercise 26"
   ]
  },
  {
   "cell_type": "code",
   "execution_count": 56,
   "id": "4b74157a-74c8-4582-b421-a2c750026c70",
   "metadata": {},
   "outputs": [
    {
     "name": "stdout",
     "output_type": "stream",
     "text": [
      "The area of the rectangle is: 50\n"
     ]
    }
   ],
   "source": [
    "\n",
    "length = 10\n",
    "width = 5\n",
    "area = length * width\n",
    "print(\"The area of the rectangle is:\", area)\n"
   ]
  },
  {
   "cell_type": "markdown",
   "id": "343ce2c3-f444-474e-911e-1bf7c8eb53a1",
   "metadata": {},
   "source": [
    "# Exercise 27"
   ]
  },
  {
   "cell_type": "code",
   "execution_count": 59,
   "id": "4dc15053-4c89-403a-bbe7-1bcc404c13f6",
   "metadata": {},
   "outputs": [
    {
     "name": "stdout",
     "output_type": "stream",
     "text": [
      "Negative value: -15\n"
     ]
    }
   ],
   "source": [
    "\n",
    "negative_value = -15\n",
    "print(\"Negative value:\", negative_value)\n"
   ]
  },
  {
   "cell_type": "markdown",
   "id": "7311976e-d56e-432f-9247-954bfa881901",
   "metadata": {},
   "source": [
    "# Exercise 28"
   ]
  },
  {
   "cell_type": "code",
   "execution_count": 66,
   "id": "cef25d08-d3b6-4a79-ba39-402a74cc7889",
   "metadata": {},
   "outputs": [
    {
     "name": "stdout",
     "output_type": "stream",
     "text": [
      "Greeting: Hello, World!\n"
     ]
    }
   ],
   "source": [
    "\n",
    "greeting = \"Hello, World!\"\n",
    "print(\"Greeting:\", greeting)\n"
   ]
  },
  {
   "cell_type": "markdown",
   "id": "e227b883-6780-4d02-814f-b5aeb031c6f6",
   "metadata": {},
   "source": [
    "# Exercise 29"
   ]
  },
  {
   "cell_type": "code",
   "execution_count": 71,
   "id": "74e51089-ef11-4a25-8eac-f5caab901703",
   "metadata": {},
   "outputs": [
    {
     "name": "stdout",
     "output_type": "stream",
     "text": [
      "Population is: 7900000000\n"
     ]
    }
   ],
   "source": [
    "\n",
    "population = 7_900_000_000  # Approximate world population in billions\n",
    "print(\"Population is:\", population)\n"
   ]
  },
  {
   "cell_type": "markdown",
   "id": "18495d98-adff-494b-91b2-08c467fb10e4",
   "metadata": {},
   "source": [
    "\n",
    "\n",
    "# Exercise 30"
   ]
  },
  {
   "cell_type": "code",
   "execution_count": 76,
   "id": "46e1ed48-e9bb-4abb-8567-0ec195420a08",
   "metadata": {},
   "outputs": [
    {
     "name": "stdout",
     "output_type": "stream",
     "text": [
      "256\n"
     ]
    }
   ],
   "source": [
    "\n",
    "power_result = 2 ** 8\n",
    "print( power_result)\n"
   ]
  },
  {
   "cell_type": "code",
   "execution_count": null,
   "id": "4b56e5b9-4a16-474b-b03c-1c561d29e5e5",
   "metadata": {},
   "outputs": [],
   "source": []
  }
 ],
 "metadata": {
  "kernelspec": {
   "display_name": "Python [conda env:base] *",
   "language": "python",
   "name": "conda-base-py"
  },
  "language_info": {
   "codemirror_mode": {
    "name": "ipython",
    "version": 3
   },
   "file_extension": ".py",
   "mimetype": "text/x-python",
   "name": "python",
   "nbconvert_exporter": "python",
   "pygments_lexer": "ipython3",
   "version": "3.11.7"
  },
  "widgets": {
   "application/vnd.jupyter.widget-state+json": {
    "state": {},
    "version_major": 2,
    "version_minor": 0
   }
  }
 },
 "nbformat": 4,
 "nbformat_minor": 5
}
