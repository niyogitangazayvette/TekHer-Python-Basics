{
 "cells": [
  {
   "cell_type": "markdown",
   "id": "d68c1dee",
   "metadata": {},
   "source": [
    "# Practical_2: String and files"
   ]
  },
  {
   "cell_type": "markdown",
   "id": "d848ee34-63f5-4633-ba12-bad09435c6cc",
   "metadata": {},
   "source": [
    "# Exercise 1:"
   ]
  },
  {
   "cell_type": "code",
   "execution_count": 10,
   "id": "2dfe0d57-08af-404b-b32b-4c493a8dc1a3",
   "metadata": {},
   "outputs": [
    {
     "name": "stdout",
     "output_type": "stream",
     "text": [
      "Python is amazing!\n"
     ]
    }
   ],
   "source": [
    "#Create a string variable text and assign it the value \"Python is amazing!\"\n",
    "\n",
    "text = \"Python is amazing!\"\n",
    "print(text)\n"
   ]
  },
  {
   "cell_type": "markdown",
   "id": "dd97227c-78ec-4124-bde6-0293705c79c2",
   "metadata": {},
   "source": [
    "# Exercise 2"
   ]
  },
  {
   "cell_type": "code",
   "execution_count": 15,
   "id": "0baaee28-d161-450d-b497-67004c4a7f1e",
   "metadata": {},
   "outputs": [
    {
     "name": "stdout",
     "output_type": "stream",
     "text": [
      "13\n"
     ]
    }
   ],
   "source": [
    "# Find the length of the string \"Hello, World!\" and store it in a variable called length.\n",
    "\n",
    "length = len(\"Hello, World!\")\n",
    "print(length)  # Output: 13\n"
   ]
  },
  {
   "cell_type": "markdown",
   "id": "0b67b260-1153-4502-9b4b-bddcbe891374",
   "metadata": {},
   "source": [
    "# Exercise 3"
   ]
  },
  {
   "cell_type": "code",
   "execution_count": 18,
   "id": "e5a20e32-f158-4adf-8117-507ed5d9ee85",
   "metadata": {},
   "outputs": [
    {
     "name": "stdout",
     "output_type": "stream",
     "text": [
      "PYTHON PROGRAMMING\n"
     ]
    }
   ],
   "source": [
    "\n",
    "# Convert the string \"python programming\" to uppercase and store it in a variable called upper_text.\n",
    "upper_text = \"python programming\".upper()\n",
    "print(upper_text)  # Output: PYTHON PROGRAMMING\n"
   ]
  },
  {
   "cell_type": "markdown",
   "id": "329e201f-f268-4e13-833f-d9e0fb8d40b4",
   "metadata": {},
   "source": [
    "# Exercise 4"
   ]
  },
  {
   "cell_type": "code",
   "execution_count": 21,
   "id": "f9216a75-cba9-47fb-bb78-64fedabb95dc",
   "metadata": {},
   "outputs": [
    {
     "name": "stdout",
     "output_type": "stream",
     "text": [
      "Artif\n"
     ]
    }
   ],
   "source": [
    "\n",
    "# Extract the first 5 characters from the string \"Artificial Intelligence\".\n",
    "text = \"Artificial Intelligence\"\n",
    "first_five = text[:5]\n",
    "print(first_five)  # Output: Artif\n"
   ]
  },
  {
   "cell_type": "markdown",
   "id": "e49834ce-0ee5-4949-a20e-64fe485ae18f",
   "metadata": {},
   "source": [
    "# Exercise 5"
   ]
  },
  {
   "cell_type": "code",
   "execution_count": 24,
   "id": "3652614c-4daf-4d8a-93a4-42a822973e40",
   "metadata": {},
   "outputs": [
    {
     "name": "stdout",
     "output_type": "stream",
     "text": [
      "Hello World\n"
     ]
    }
   ],
   "source": [
    "\n",
    "# Concatenate the strings \"Hello\" and \"World\" with a space in between.\n",
    "greeting = \"Hello\" + \" \" + \"World\"\n",
    "print(greeting)  # Output: Hello World\n"
   ]
  },
  {
   "cell_type": "markdown",
   "id": "50b46ae6-a644-400f-ad68-4e1a42c25bc3",
   "metadata": {},
   "source": [
    "# Exercise 6\n"
   ]
  },
  {
   "cell_type": "code",
   "execution_count": 29,
   "id": "fe5b5737-9710-4d36-8a78-85bd8b159fce",
   "metadata": {},
   "outputs": [
    {
     "name": "stdout",
     "output_type": "stream",
     "text": [
      "The quick brown cat jumps over the lazy cat.\n"
     ]
    }
   ],
   "source": [
    "\n",
    "# Replace the word \"dog\" with \"cat\" in the string.\n",
    "text = \"The quick brown dog jumps over the lazy dog.\"\n",
    "new_text = text.replace(\"dog\", \"cat\")\n",
    "print(new_text)  \n"
   ]
  },
  {
   "cell_type": "markdown",
   "id": "ac427c55-8ea7-4a4e-ac7c-ce9d74bdb584",
   "metadata": {},
   "source": [
    "# Exercise 7 "
   ]
  },
  {
   "cell_type": "code",
   "execution_count": 34,
   "id": "613df406-c5b1-424f-9762-15a6c0b0625e",
   "metadata": {},
   "outputs": [
    {
     "name": "stdout",
     "output_type": "stream",
     "text": [
      "['apple', 'banana', 'orange']\n"
     ]
    }
   ],
   "source": [
    "\n",
    "# Split the string by commas and store in a list.\n",
    "fruits_list = \"apple,banana,orange\".split(\",\")\n",
    "print(fruits_list)  \n"
   ]
  },
  {
   "cell_type": "markdown",
   "id": "3357ca7a-c678-41ad-9b84-0a3727d20fe1",
   "metadata": {},
   "source": [
    "# Exercise 8"
   ]
  },
  {
   "cell_type": "code",
   "execution_count": 39,
   "id": "e4b73175-31ed-4c68-8de4-962b44ef9af5",
   "metadata": {},
   "outputs": [
    {
     "name": "stdout",
     "output_type": "stream",
     "text": [
      "My name is Yvette and I am 23 years old.\n"
     ]
    }
   ],
   "source": [
    "\n",
    "# Use string formatting with variables.\n",
    "name = \"Yvette\"\n",
    "age = 23\n",
    "sentence = f\"My name is {name} and I am {age} years old.\"\n",
    "print(sentence)  "
   ]
  },
  {
   "cell_type": "markdown",
   "id": "4f358ac6-dce8-44a2-b199-a06f02dd1492",
   "metadata": {},
   "source": [
    "# Exercise 9\n"
   ]
  },
  {
   "cell_type": "code",
   "execution_count": 44,
   "id": "a2238562-4c71-47a9-919d-dc507f9ee2d5",
   "metadata": {},
   "outputs": [
    {
     "name": "stdout",
     "output_type": "stream",
     "text": [
      "True\n"
     ]
    }
   ],
   "source": [
    "\n",
    "# Check if \"python\" is in the sentence.\n",
    "sentence = \"I love python programming\"\n",
    "contains_python = \"python\" in sentence\n",
    "print(contains_python)\n"
   ]
  },
  {
   "cell_type": "markdown",
   "id": "36e50d45-acd3-42dd-b7ff-ac78269f0edb",
   "metadata": {},
   "source": [
    "# Exercise 10\n"
   ]
  },
  {
   "cell_type": "code",
   "execution_count": 47,
   "id": "65aea9c8-958a-406f-bf14-979b20514ead",
   "metadata": {},
   "outputs": [
    {
     "name": "stdout",
     "output_type": "stream",
     "text": [
      "3\n"
     ]
    }
   ],
   "source": [
    "\n",
    "# Count the occurrences of the letter \"e\".\n",
    "text = \"Elephant is an elegant animal\"\n",
    "count_e = text.count(\"e\")\n",
    "print(count_e)  # Output: 3"
   ]
  },
  {
   "cell_type": "markdown",
   "id": "adcdf312-a76c-4080-830e-57ebb74e9a36",
   "metadata": {},
   "source": [
    "# Exercise 11\n"
   ]
  },
  {
   "cell_type": "code",
   "execution_count": 52,
   "id": "a710a73f-945d-4b1e-97bb-20eeb6b550cd",
   "metadata": {},
   "outputs": [
    {
     "name": "stdout",
     "output_type": "stream",
     "text": [
      "Data Science\n"
     ]
    }
   ],
   "source": [
    "\n",
    "# Remove leading and trailing spaces.\n",
    "raw_text = \"   Data Science   \"\n",
    "clean_text = raw_text.strip()\n",
    "print(clean_text)  "
   ]
  },
  {
   "cell_type": "markdown",
   "id": "d42f464f-3ec3-4dd8-891a-2f998616118f",
   "metadata": {},
   "source": [
    "# Exercise 12\n"
   ]
  },
  {
   "cell_type": "code",
   "execution_count": 55,
   "id": "01570980-bfd5-4a67-9747-b656db85ccbf",
   "metadata": {},
   "outputs": [
    {
     "name": "stdout",
     "output_type": "stream",
     "text": [
      "100\n"
     ]
    }
   ],
   "source": [
    "\n",
    "# Convert the string \"100\" to an integer.\n",
    "int_value = int(\"100\")\n",
    "print(int_value) "
   ]
  },
  {
   "cell_type": "markdown",
   "id": "67abdbce-7813-4ae1-aa6e-2f0caddf62ee",
   "metadata": {},
   "source": [
    " # Exercise 13"
   ]
  },
  {
   "cell_type": "code",
   "execution_count": 62,
   "id": "ba49e76c-2837-4670-a545-bca6b841abc8",
   "metadata": {},
   "outputs": [
    {
     "name": "stdout",
     "output_type": "stream",
     "text": [
      "pro\n"
     ]
    }
   ],
   "source": [
    "\n",
    "# Extract the substring \"pro\".\n",
    "word = \"programming\"\n",
    "substring = word[:3]\n",
    "print(substring)"
   ]
  },
  {
   "cell_type": "markdown",
   "id": "608f18a3-5e52-4711-abc3-8321c1ba2047",
   "metadata": {},
   "source": [
    "# Exercise 14\n",
    "\n",
    "True\r\n",
    " True\r\n",
    "ing)"
   ]
  },
  {
   "cell_type": "code",
   "execution_count": 70,
   "id": "10d29c8f-6717-49ae-a10a-fb81961021b9",
   "metadata": {},
   "outputs": [
    {
     "name": "stdout",
     "output_type": "stream",
     "text": [
      "True\n"
     ]
    }
   ],
   "source": [
    "\n",
    "# Check if \"data\" starts with \"da\" and ends with \"ta\".\n",
    "string = \"data\"\n",
    "starts_correct = string.startswith(\"da\")\n",
    "ends_correct = string.endswith(\"ta\")\n",
    "print(starts_correct and ends_correct) \n"
   ]
  },
  {
   "cell_type": "markdown",
   "id": "31ee943d-d267-4be6-82b9-e70511a73c0f",
   "metadata": {},
   "source": [
    "# Exercise 15"
   ]
  },
  {
   "cell_type": "code",
   "execution_count": 73,
   "id": "a07bb25f-a164-4995-8d29-43956b7dcb08",
   "metadata": {},
   "outputs": [
    {
     "name": "stdout",
     "output_type": "stream",
     "text": [
      "gninrael enihcam\n"
     ]
    }
   ],
   "source": [
    "\n",
    "# Reverse the string.\n",
    "text = \"machine learning\"\n",
    "reversed_text = text[::-1]\n",
    "print(reversed_text) "
   ]
  },
  {
   "cell_type": "markdown",
   "id": "3c9d819f-170d-4e90-9b0c-c872ead06fb4",
   "metadata": {},
   "source": [
    "# Exercise 16"
   ]
  },
  {
   "cell_type": "code",
   "execution_count": 76,
   "id": "e7a51839-04e5-4997-8672-8f190003768f",
   "metadata": {},
   "outputs": [
    {
     "name": "stdout",
     "output_type": "stream",
     "text": [
      "Machine Learning Is Fun\n"
     ]
    }
   ],
   "source": [
    "\n",
    "# Capitalize first letter of each word.\n",
    "text = \"machine learning is fun\"\n",
    "capitalized_text = text.title()\n",
    "print(capitalized_text)"
   ]
  },
  {
   "cell_type": "markdown",
   "id": "1a574afa-b718-41c2-a2ab-ab0c6971de27",
   "metadata": {},
   "source": [
    "# Exercise 17"
   ]
  },
  {
   "cell_type": "code",
   "execution_count": 79,
   "id": "f98ff52a-442c-4c43-ae61-b86d0041bc52",
   "metadata": {},
   "outputs": [
    {
     "name": "stdout",
     "output_type": "stream",
     "text": [
      "Roses are red,\n",
      "Violets are blue,\n",
      "Python is fun,\n",
      "And so are you.\n"
     ]
    }
   ],
   "source": [
    "\n",
    "# Create a multiline string (poem).\n",
    "poem = \"\"\"Roses are red,\n",
    "Violets are blue,\n",
    "Python is fun,\n",
    "And so are you.\"\"\"\n",
    "print(poem)"
   ]
  },
  {
   "cell_type": "code",
   "execution_count": null,
   "id": "780e8118-5865-4dd6-9547-754803aa32d9",
   "metadata": {},
   "outputs": [],
   "source": [
    "# Exercise 18\n",
    "# Write a string to \"output.txt\".\n",
    "with open(\"output.txt\", \"w\") as file:\n",
    "    file.write(\"This is the output file.\")"
   ]
  },
  {
   "cell_type": "markdown",
   "id": "005de561-1ade-4bf6-b119-69e7771faaa2",
   "metadata": {},
   "source": [
    "# Exercise 18\n"
   ]
  },
  {
   "cell_type": "code",
   "execution_count": 84,
   "id": "6c3b31ba-5309-494d-a8f8-20fbb188bfdd",
   "metadata": {},
   "outputs": [],
   "source": [
    "\n",
    "# Write a string to \"output.txt\".\n",
    "with open(\"output.txt\", \"w\") as file:\n",
    "    file.write(\"This is the output file.\")"
   ]
  },
  {
   "cell_type": "markdown",
   "id": "61a28d01-7728-42a6-9927-1c182ebc8e16",
   "metadata": {},
   "source": [
    "# Exercise 19\n"
   ]
  },
  {
   "cell_type": "code",
   "execution_count": 87,
   "id": "44850eef-ed72-47b3-b3dd-7b67a2b737c8",
   "metadata": {},
   "outputs": [
    {
     "name": "stdout",
     "output_type": "stream",
     "text": [
      "data.txt not found.\n"
     ]
    }
   ],
   "source": [
    "\n",
    "# Read and print \"data.txt\" line by line.\n",
    "try:\n",
    "    with open(\"data.txt\", \"r\") as file:\n",
    "        for line in file:\n",
    "            print(line.strip())\n",
    "except FileNotFoundError:\n",
    "    print(\"data.txt not found.\")"
   ]
  },
  {
   "cell_type": "markdown",
   "id": "95ac6d6b-0472-4c30-a9fc-6e5d137ab56a",
   "metadata": {},
   "source": [
    "# Exercise 20\n"
   ]
  },
  {
   "cell_type": "code",
   "execution_count": 90,
   "id": "7e9faecf-c4ae-43c2-a3d2-b63ad95249cb",
   "metadata": {},
   "outputs": [
    {
     "name": "stdout",
     "output_type": "stream",
     "text": [
      "example.txt does not exist.\n"
     ]
    }
   ],
   "source": [
    "\n",
    "# Check if \"example.txt\" exists.\n",
    "import os\n",
    "\n",
    "if os.path.exists(\"example.txt\"):\n",
    "    with open(\"example.txt\", \"r\") as file:\n",
    "        print(file.read())\n",
    "else:\n",
    "    print(\"example.txt does not exist.\")"
   ]
  },
  {
   "cell_type": "markdown",
   "id": "ee44019a-22a0-4d65-a447-d4a0d3952238",
   "metadata": {},
   "source": [
    "# Exercise 21\n"
   ]
  },
  {
   "cell_type": "code",
   "execution_count": 95,
   "id": "e17303f5-2f41-4331-957e-f51c52a89d6d",
   "metadata": {},
   "outputs": [
    {
     "name": "stdout",
     "output_type": "stream",
     "text": [
      "# Append a new line to \"notes.txt\"\n",
      "with open(\"notes.txt\", \"a\") as file:\n",
      "    file.write(\"\\nThis is a new line\")\n"
     ]
    }
   ],
   "source": [
    "print(\"\"\"# Append a new line to \"notes.txt\"\n",
    "with open(\"notes.txt\", \"a\") as file:\n",
    "    file.write(\"\\\\nThis is a new line\")\"\"\")\n"
   ]
  },
  {
   "cell_type": "markdown",
   "id": "c7a4d75d-2e2c-4bc2-9871-d781724c0a69",
   "metadata": {},
   "source": [
    "# Exercise 22\n"
   ]
  },
  {
   "cell_type": "code",
   "execution_count": 100,
   "id": "c6324364-8057-4f1d-a2a5-893bdc141688",
   "metadata": {},
   "outputs": [
    {
     "name": "stdout",
     "output_type": "stream",
     "text": [
      "# Read contents of \"log.txt\" into a list\n",
      "with open(\"log.txt\", \"r\") as file:\n",
      "    log_lines = file.readlines()\n",
      "\n",
      "print(log_lines)\n"
     ]
    }
   ],
   "source": [
    "print(\"\"\"# Read contents of \"log.txt\" into a list\n",
    "with open(\"log.txt\", \"r\") as file:\n",
    "    log_lines = file.readlines()\n",
    "\n",
    "print(log_lines)\"\"\")\n"
   ]
  },
  {
   "cell_type": "markdown",
   "id": "178db58e-bbeb-4342-8c2c-347ce394565e",
   "metadata": {},
   "source": [
    "# Exercise 23\n"
   ]
  },
  {
   "cell_type": "code",
   "execution_count": 107,
   "id": "7626dc55-1c2d-4b15-aaf4-7301f24cc7b3",
   "metadata": {},
   "outputs": [
    {
     "name": "stdout",
     "output_type": "stream",
     "text": [
      "Data analysis report\n"
     ]
    }
   ],
   "source": [
    "with open(\"report.txt\", \"w\") as file:\n",
    "    file.write(\"Data analysis report\")\n",
    "\n",
    "print(\"Data analysis report\")\n"
   ]
  },
  {
   "cell_type": "markdown",
   "id": "5cb2fb9c-56a2-449b-bce2-a920c1647410",
   "metadata": {},
   "source": [
    "# Exercise 24"
   ]
  },
  {
   "cell_type": "code",
   "execution_count": 116,
   "id": "9cfecd38-38f8-47d9-983f-a00b7d2c042e",
   "metadata": {},
   "outputs": [
    {
     "name": "stdout",
     "output_type": "stream",
     "text": [
      "Replacements done\n"
     ]
    }
   ],
   "source": [
    "# Create the file first with sample content\n",
    "with open(\"log.txt\", \"w\") as file:\n",
    "    file.write(\"There was an error in the system.\\nAnother error occurred.\")\n",
    "\n",
    "# Now read and replace \"error\" with \"issue\"\n",
    "with open(\"log.txt\", \"r\") as file:\n",
    "    content = file.read()\n",
    "\n",
    "content = content.replace(\"error\", \"issue\")\n",
    "\n",
    "with open(\"log.txt\", \"w\") as file:\n",
    "    file.write(content)\n",
    "\n",
    "print(\"Replacements done\")\n"
   ]
  },
  {
   "cell_type": "markdown",
   "id": "a8898db5-c942-4387-b026-6459ee99c2cf",
   "metadata": {},
   "source": [
    "# Exercise 25"
   ]
  },
  {
   "cell_type": "code",
   "execution_count": 121,
   "id": "5604bb06-c172-470a-86e6-babaa19b03d2",
   "metadata": {},
   "outputs": [
    {
     "name": "stdout",
     "output_type": "stream",
     "text": [
      "8\n"
     ]
    }
   ],
   "source": [
    "\n",
    "# Count words in \"document.txt\"\n",
    "# First, create the file with some sample content\n",
    "with open(\"document.txt\", \"w\") as file:\n",
    "    file.write(\"Python is amazing. It is simple and powerful.\")\n",
    "\n",
    "# Now, count words in \"document.txt\"\n",
    "with open(\"document.txt\", \"r\") as file:\n",
    "    words = file.read().split()\n",
    "    word_count = len(words)\n",
    "\n",
    "print(word_count)\n"
   ]
  },
  {
   "cell_type": "markdown",
   "id": "21c67707-f193-4d71-9434-482bf68bd441",
   "metadata": {},
   "source": [
    "# Exercise 26"
   ]
  },
  {
   "cell_type": "code",
   "execution_count": 129,
   "id": "9e658074-776e-40c6-ae3a-09774a305ce2",
   "metadata": {},
   "outputs": [
    {
     "name": "stdout",
     "output_type": "stream",
     "text": [
      "Lines: 2\n",
      "Words: 20\n",
      "Characters: 135\n"
     ]
    }
   ],
   "source": [
    "# Exercise 26\n",
    "# Step 1: Create \"essay.txt\" with sample text\n",
    "with open(\"essay.txt\", \"w\") as file:\n",
    "    file.write(\"Data science is a growing field. It combines statistics, coding, and critical thinking.\\n\")\n",
    "    file.write(\"Learning Python is essential for data science.\\n\")\n",
    "\n",
    "# Step 2: Read \"essay.txt\" and count lines, words, characters\n",
    "with open(\"essay.txt\", \"r\") as file:\n",
    "    text = file.read()\n",
    "    lines = text.splitlines()\n",
    "    words = text.split()\n",
    "    characters = len(text)\n",
    "\n",
    "print(\"Lines:\", len(lines))\n",
    "print(\"Words:\", len(words))\n",
    "print(\"Characters:\", characters)\n"
   ]
  },
  {
   "cell_type": "markdown",
   "id": "f1857c18-482c-4d42-b28a-3b35e60f0b9a",
   "metadata": {},
   "source": [
    "# Exercise 27\n"
   ]
  },
  {
   "cell_type": "code",
   "execution_count": 134,
   "id": "eb8385db-5c74-48e6-8617-da41089f50c7",
   "metadata": {},
   "outputs": [
    {
     "name": "stdout",
     "output_type": "stream",
     "text": [
      "File copied successfully.\n"
     ]
    }
   ],
   "source": [
    "\n",
    "# Copy contents from one file to another\n",
    "# Step 1: Create \"source.txt\" with some sample content\n",
    "with open(\"source.txt\", \"w\") as src:\n",
    "    src.write(\"This is the content of the source file.\\nIt has multiple lines.\\n\")\n",
    "\n",
    "# Step 2: Copy contents from \"source.txt\" to \"destination.txt\"\n",
    "with open(\"source.txt\", \"r\") as src, open(\"destination.txt\", \"w\") as dest:\n",
    "    dest.write(src.read())\n",
    "\n",
    "print(\"File copied successfully.\")\n",
    "\n"
   ]
  },
  {
   "cell_type": "markdown",
   "id": "81e332d2-ffd8-4363-aa01-a69fa67acbb6",
   "metadata": {},
   "source": [
    "# Exercise 28\n"
   ]
  },
  {
   "cell_type": "code",
   "execution_count": 140,
   "id": "d0731faf-f2e3-4e7b-b5bb-06b9840d5b3a",
   "metadata": {},
   "outputs": [
    {
     "name": "stdout",
     "output_type": "stream",
     "text": [
      "Number of lines: 3\n"
     ]
    }
   ],
   "source": [
    "\n",
    "# Function to return number of lines in a file\n",
    "# Create a sample file\n",
    "with open(\"sample.txt\", \"w\") as file:\n",
    "    file.write(\"Line 1\\nLine 2\\nLine 3\\n\")\n",
    "\n",
    "# Function to return number of lines in a file\n",
    "def count_lines(filename):\n",
    "    with open(filename, \"r\") as file:\n",
    "        return len(file.readlines())\n",
    "\n",
    "# Call the function and print the result\n",
    "lines_count = count_lines(\"sample.txt\")\n",
    "print(\"Number of lines:\", lines_count)\n"
   ]
  },
  {
   "cell_type": "markdown",
   "id": "5e843272-d163-44ff-a53a-66e51f08d38e",
   "metadata": {},
   "source": [
    "# Exercise 29\n"
   ]
  },
  {
   "cell_type": "code",
   "execution_count": 149,
   "id": "8f084060-8d80-4a96-bf76-fe40bd96ce70",
   "metadata": {},
   "outputs": [
    {
     "name": "stdout",
     "output_type": "stream",
     "text": [
      "['Python', 'programming', 'powerful.', 'allows', 'developers', 'complex', 'problems.']\n"
     ]
    }
   ],
   "source": [
    "# Step 1: Create \"article.txt\" with sample content\n",
    "with open(\"article.txt\", \"w\") as file:\n",
    "    file.write(\"Python programming is fun and very powerful. It allows developers to solve complex problems.\")\n",
    "\n",
    "# Step 2: Extract words with more than 5 characters\n",
    "with open(\"article.txt\", \"r\") as file:\n",
    "    words = file.read().split()\n",
    "    long_words = [word for word in words if len(word) > 5]\n",
    "\n",
    "print(long_words)\n"
   ]
  },
  {
   "cell_type": "markdown",
   "id": "d5eb7d9d-f98e-4b02-a1f3-e95297f56a5d",
   "metadata": {},
   "source": [
    "# Exercise 30\n"
   ]
  },
  {
   "cell_type": "code",
   "execution_count": 156,
   "id": "32f2f2c5-a203-4f69-b40a-a0f07cb97a06",
   "metadata": {},
   "outputs": [
    {
     "name": "stdout",
     "output_type": "stream",
     "text": [
      "THIS IS A SAMPLE NOTE.\n",
      "IT WILL BE CONVERTED TO UPPERCASE.\n"
     ]
    }
   ],
   "source": [
    "# Exercise 30\n",
    "# Convert file content to uppercase and save\n",
    "\n",
    "# Create sample \"notes.txt\" first (if it doesn't exist)\n",
    "with open(\"notes.txt\", \"w\") as file:\n",
    "    file.write(\"This is a sample note.\\nIt will be converted to uppercase.\")\n",
    "\n",
    "# Read, convert to uppercase, and save to \"uppercase_notes.txt\"\n",
    "with open(\"notes.txt\", \"r\") as file:\n",
    "    content = file.read().upper()\n",
    "\n",
    "with open(\"uppercase_notes.txt\", \"w\") as file:\n",
    "    file.write(content)\n",
    "\n",
    "# Print the uppercase content\n",
    "print(content)\n"
   ]
  },
  {
   "cell_type": "markdown",
   "id": "dced5a72-7225-44a3-a6f8-2db3ac9ceb15",
   "metadata": {},
   "source": [
    "# Exercise 31"
   ]
  },
  {
   "cell_type": "code",
   "execution_count": 161,
   "id": "7d55515f-b8f3-4e34-bf21-65c2428c3889",
   "metadata": {},
   "outputs": [
    {
     "name": "stdout",
     "output_type": "stream",
     "text": [
      "Empty lines removed successfully.\n"
     ]
    }
   ],
   "source": [
    "# Step 1: Create \"input.txt\" with some content including empty lines\n",
    "with open(\"input.txt\", \"w\") as file:\n",
    "    file.write(\"First line\\n\\nSecond line\\n\\n\\nThird line\\n\")\n",
    "\n",
    "# Step 2: Remove all empty lines from \"input.txt\"\n",
    "with open(\"input.txt\", \"r\") as file:\n",
    "    lines = file.readlines()\n",
    "\n",
    "with open(\"input.txt\", \"w\") as file:\n",
    "    file.writelines([line for line in lines if line.strip()])\n",
    "\n",
    "print(\"Empty lines removed successfully.\")\n"
   ]
  },
  {
   "cell_type": "markdown",
   "id": "98a2d908-69b9-42b8-b869-a2e1514755c7",
   "metadata": {},
   "source": [
    "# Exercise 32\n"
   ]
  },
  {
   "cell_type": "code",
   "execution_count": 170,
   "id": "ce67f5da-182f-4a71-9f0d-f0df9eede4f8",
   "metadata": {},
   "outputs": [
    {
     "name": "stdout",
     "output_type": "stream",
     "text": [
      "Before writing:\n",
      "Initial configuration data\n",
      "\n",
      "After writing:\n",
      "Initial configuration data\n",
      "Added new configuration.\n",
      "\n"
     ]
    }
   ],
   "source": [
    "# Create the file with initial content\n",
    "with open(\"config.txt\", \"w\") as f:\n",
    "    f.write(\"Initial configuration data\\n\")\n",
    "\n",
    "# Open file in read/write mode\n",
    "with open(\"config.txt\", \"r+\") as file:\n",
    "    content = file.read()   # Read existing content\n",
    "    print(\"Before writing:\")\n",
    "    print(content)\n",
    "    \n",
    "    # Move the cursor to the end to append new data\n",
    "    file.seek(0, 2)  \n",
    "    file.write(\"Added new configuration.\\n\")\n",
    "\n",
    "# Open again to confirm changes and print\n",
    "with open(\"config.txt\", \"r\") as file:\n",
    "    content = file.read()\n",
    "    print(\"After writing:\")\n",
    "    print(content)\n"
   ]
  },
  {
   "cell_type": "markdown",
   "id": "10d81346-aea8-45a6-9859-58ae56313558",
   "metadata": {},
   "source": [
    "# Exercise 33\n"
   ]
  },
  {
   "cell_type": "code",
   "execution_count": 177,
   "id": "cb990472-a882-401c-90f3-5e7395b637be",
   "metadata": {},
   "outputs": [
    {
     "name": "stdout",
     "output_type": "stream",
     "text": [
      "This is a much longer line than the others\n"
     ]
    }
   ],
   "source": [
    "\n",
    "# Print the longest line in the file\n",
    "# Step 1: Create the file with some sample lines\n",
    "with open(\"sample.txt\", \"w\") as file:\n",
    "    file.write(\"Short line\\n\")\n",
    "    file.write(\"This is a much longer line than the others\\n\")\n",
    "    file.write(\"Medium length\\n\")\n",
    "\n",
    "# Step 2: Define the function\n",
    "def print_longest_line(filename):\n",
    "    with open(filename, \"r\") as file:\n",
    "        lines = file.readlines()\n",
    "        longest = max(lines, key=len)\n",
    "        print(longest.strip())\n",
    "\n",
    "\n",
    "print_longest_line(\"sample.txt\")\n"
   ]
  },
  {
   "cell_type": "markdown",
   "id": "b032f5d4-0235-49a2-8214-b4e5845ea6bb",
   "metadata": {},
   "source": [
    "# Exercise 34"
   ]
  },
  {
   "cell_type": "code",
   "execution_count": 184,
   "id": "89241866-9b36-4fd0-8632-d08fbd5c6780",
   "metadata": {},
   "outputs": [
    {
     "name": "stdout",
     "output_type": "stream",
     "text": [
      "Counter({'e': 6, 's': 6, 't': 5, 'l': 4, 'o': 3, 'a': 3, 'h': 2, 'i': 2, 'm': 2, 'p': 1, 'g': 1, 'c': 1, 'u': 1, 'n': 1, 'r': 1})\n"
     ]
    }
   ],
   "source": [
    "\n",
    "\n",
    "# Step 1: Create \"message.txt\" with some content\n",
    "with open(\"message.txt\", \"w\") as file:\n",
    "    file.write(\"Hello, this is a sample message to count letters!\")\n",
    "\n",
    "# Step 2: Read the file and count letter frequencies\n",
    "with open(\"message.txt\", \"r\") as file:\n",
    "    text = file.read().lower()\n",
    "    letter_counts = Counter(c for c in text if c.isalpha())\n",
    "\n",
    "print(letter_counts)\n"
   ]
  },
  {
   "cell_type": "markdown",
   "id": "d12c7f24-302d-4b4f-a2cc-6a2f02c0dd13",
   "metadata": {},
   "source": [
    "# Exercise 35\n"
   ]
  },
  {
   "cell_type": "code",
   "execution_count": 189,
   "id": "ca57d62c-fac0-48b7-b951-fac32bc95b6c",
   "metadata": {},
   "outputs": [
    {
     "name": "stdout",
     "output_type": "stream",
     "text": [
      "Characters (excluding spaces): 51\n"
     ]
    }
   ],
   "source": [
    "\n",
    "# Count characters excluding spaces\n",
    "# Step 1: Create \"text.txt\" with sample content\n",
    "with open(\"text.txt\", \"w\") as file:\n",
    "    file.write(\"This is a sample text file.\\nIt has multiple lines and spaces.\")\n",
    "\n",
    "# Step 2: Count characters excluding spaces\n",
    "with open(\"text.txt\", \"r\") as file:\n",
    "    text = file.read().replace(\" \", \"\")\n",
    "    print(\"Characters (excluding spaces):\", len(text))\n",
    "\n"
   ]
  },
  {
   "cell_type": "markdown",
   "id": "1d031e58-6adf-4668-bc43-7a2f982655f0",
   "metadata": {},
   "source": [
    "# Exercise 36"
   ]
  },
  {
   "cell_type": "code",
   "execution_count": 196,
   "id": "444122f8-37c6-4b3d-beaf-ae02ae8029b1",
   "metadata": {},
   "outputs": [
    {
     "name": "stdout",
     "output_type": "stream",
     "text": [
      "The file is empty.\n"
     ]
    }
   ],
   "source": [
    "\n",
    "# Check if file is empty\n",
    "\n",
    "# Step 1: Create the file (optional: with or without content)\n",
    "with open(\"file.txt\", \"w\") as file:\n",
    "    pass  # Leave it empty; or write something like: file.write(\"Hello\")\n",
    "\n",
    "# Step 2: Check if file is empty\n",
    "if os.path.getsize(\"file.txt\") == 0:\n",
    "    print(\"The file is empty.\")\n",
    "else:\n",
    "    print(\"The file is not empty.\")\n"
   ]
  },
  {
   "cell_type": "markdown",
   "id": "1d8161f7-da64-4b39-a8b7-dd8ace61d720",
   "metadata": {},
   "source": [
    "# Exercise 38\n"
   ]
  },
  {
   "cell_type": "code",
   "execution_count": 201,
   "id": "6bcbe692-e37e-4246-8d1f-8bf64e2eb8fd",
   "metadata": {},
   "outputs": [
    {
     "name": "stdout",
     "output_type": "stream",
     "text": [
      "File content:\n",
      "Python is fun\n",
      "Files are powerful\n",
      "Practice makes perfect\n",
      "\n"
     ]
    }
   ],
   "source": [
    "# Write list of strings to file\n",
    "\n",
    "def write_list_to_file(filename, lines):\n",
    "    with open(filename, \"w\") as file:\n",
    "        for line in lines:\n",
    "            file.write(line + \"\\n\")\n",
    "\n",
    "# Step 1: Define list of strings\n",
    "my_lines = [\"Python is fun\", \"Files are powerful\", \"Practice makes perfect\"]\n",
    "\n",
    "# Step 2: Write to file\n",
    "write_list_to_file(\"myfile.txt\", my_lines)\n",
    "\n",
    "# Step 3: Read and print the result\n",
    "with open(\"myfile.txt\", \"r\") as file:\n",
    "    content = file.read()\n",
    "    print(\"File content:\\n\" + content)\n"
   ]
  },
  {
   "cell_type": "markdown",
   "id": "f1e3d256-b630-42bf-ae03-bfd974a6e3f9",
   "metadata": {},
   "source": [
    "# Exercise 39\n"
   ]
  },
  {
   "cell_type": "code",
   "execution_count": 206,
   "id": "1e44dd48-1858-4a37-b874-9c5f634bfa5a",
   "metadata": {},
   "outputs": [
    {
     "name": "stdout",
     "output_type": "stream",
     "text": [
      "Lines starting with A: 0\n"
     ]
    }
   ],
   "source": [
    "\n",
    "# Count lines starting with a specific letter\n",
    "with open(\"file.txt\", \"r\") as file:\n",
    "    count = sum(1 for line in file if line.startswith(\"A\"))\n",
    "print(\"Lines starting with A:\", count)\n"
   ]
  },
  {
   "cell_type": "markdown",
   "id": "013f5f3e-fe03-4042-840a-ed43795259c1",
   "metadata": {},
   "source": [
    "# Exercise 40\n"
   ]
  },
  {
   "cell_type": "code",
   "execution_count": 211,
   "id": "1d9cbdef-9e4d-4a70-a7a4-0fc6cd6fb743",
   "metadata": {},
   "outputs": [
    {
     "name": "stdout",
     "output_type": "stream",
     "text": [
      "dlroW olleH\n"
     ]
    }
   ],
   "source": [
    "# Write reversed string to file and print the reversed string\n",
    "def write_reversed(text):\n",
    "    reversed_text = text[::-1]\n",
    "    with open(\"output.txt\", \"w\") as file:\n",
    "        file.write(reversed_text)\n",
    "    print(reversed_text)\n",
    "\n",
    "# Example usage:\n",
    "write_reversed(\"Hello World\")\n"
   ]
  },
  {
   "cell_type": "markdown",
   "id": "b9c28f71-063a-4ea5-980b-17f7caeb391d",
   "metadata": {},
   "source": [
    "# Exercise 41"
   ]
  },
  {
   "cell_type": "code",
   "execution_count": 216,
   "id": "59d35515-33b2-4038-8d23-9796015c53ab",
   "metadata": {},
   "outputs": [
    {
     "name": "stdout",
     "output_type": "stream",
     "text": [
      "Python is a great language.\n",
      "Python makes things easier.\n"
     ]
    }
   ],
   "source": [
    "# Step 1: Create \"file.txt\" with sample lines\n",
    "with open(\"file.txt\", \"w\") as file:\n",
    "    file.write(\"Python is a great language.\\n\")\n",
    "    file.write(\"I love coding.\\n\")\n",
    "    file.write(\"Python makes things easier.\\n\")\n",
    "    file.write(\"This line does not mention it.\\n\")\n",
    "\n",
    "# Step 2: Print lines containing \"Python\"\n",
    "with open(\"file.txt\", \"r\") as file:\n",
    "    for line in file:\n",
    "        if \"Python\" in line:\n",
    "            print(line.strip())\n"
   ]
  },
  {
   "cell_type": "markdown",
   "id": "0c3085f1-b0bf-4f34-b7e4-6d827cab5e29",
   "metadata": {},
   "source": [
    "# Exercise 42\n"
   ]
  },
  {
   "cell_type": "code",
   "execution_count": 222,
   "id": "8340dc90-dafe-4cc1-aa1f-cbbbd599dcf5",
   "metadata": {},
   "outputs": [
    {
     "name": "stdout",
     "output_type": "stream",
     "text": [
      "Python is a great language.\n",
      "I love coding.\n",
      "Python makes things easier.\n",
      "This line does not mention it.\n",
      "\n"
     ]
    }
   ],
   "source": [
    "\n",
    "# Remove numeric digits from content\n",
    "with open(\"file.txt\", \"r\") as file:\n",
    "    content = file.read()\n",
    "cleaned = ''.join(c for c in content if not c.isdigit())\n",
    "print(cleaned)"
   ]
  },
  {
   "cell_type": "markdown",
   "id": "125fb547-f134-449c-a3be-bd96c5bf6ded",
   "metadata": {},
   "source": [
    "# Exercise 43\n"
   ]
  },
  {
   "cell_type": "code",
   "execution_count": 227,
   "id": "26e63d30-7fe5-46cb-9720-b4367b5cb254",
   "metadata": {},
   "outputs": [
    {
     "name": "stdout",
     "output_type": "stream",
     "text": [
      "Most frequent word: python\n"
     ]
    }
   ],
   "source": [
    "\n",
    "# Most frequent word in file\n",
    "from collections import Counter\n",
    "\n",
    "# Step 1: Create \"book.txt\" with sample text\n",
    "with open(\"book.txt\", \"w\") as file:\n",
    "    file.write(\"Python is simple. Python is powerful. Python is popular.\\n\")\n",
    "\n",
    "# Step 2: Count most frequent word\n",
    "with open(\"book.txt\", \"r\") as file:\n",
    "    words = file.read().lower().split()\n",
    "    word_counts = Counter(words)\n",
    "\n",
    "most_common = word_counts.most_common(1)\n",
    "print(\"Most frequent word:\", most_common[0][0])\n"
   ]
  },
  {
   "cell_type": "markdown",
   "id": "e27344aa-0608-4b44-a8bd-794a31931c2d",
   "metadata": {},
   "source": [
    "# Exercise 44\n"
   ]
  },
  {
   "cell_type": "code",
   "execution_count": 230,
   "id": "498bc3bc-43cc-48a8-b88d-3478c2029384",
   "metadata": {},
   "outputs": [
    {
     "name": "stdout",
     "output_type": "stream",
     "text": [
      "Python is a great language.\n"
     ]
    }
   ],
   "source": [
    "\n",
    "# Print lines with exactly 5 words\n",
    "with open(\"file.txt\", \"r\") as file:\n",
    "    for line in file:\n",
    "        if len(line.split()) == 5:\n",
    "            print(line.strip())"
   ]
  },
  {
   "cell_type": "markdown",
   "id": "c67d1ec0-489c-41be-8168-af0f43272805",
   "metadata": {},
   "source": [
    "# Exercise 45"
   ]
  },
  {
   "cell_type": "code",
   "execution_count": 232,
   "id": "40794229-6d57-4d24-8619-020de2cb7d9c",
   "metadata": {},
   "outputs": [
    {
     "name": "stdout",
     "output_type": "stream",
     "text": [
      "First: Python is a great language.\n",
      "Last: This line does not mention it.\n"
     ]
    }
   ],
   "source": [
    "# Print first and last line of a file\n",
    "with open(\"file.txt\", \"r\") as file:\n",
    "    lines = file.readlines()\n",
    "    if lines:\n",
    "        print(\"First:\", lines[0].strip())\n",
    "        print(\"Last:\", lines[-1].strip())"
   ]
  },
  {
   "cell_type": "markdown",
   "id": "4185eef2-05c7-4e3d-ae16-80ae06d1fe45",
   "metadata": {},
   "source": [
    "# Exercise 46\n"
   ]
  },
  {
   "cell_type": "code",
   "execution_count": 243,
   "id": "8d07e421-9d7c-4fbe-9214-54dff5a105d9",
   "metadata": {},
   "outputs": [
    {
     "name": "stdout",
     "output_type": "stream",
     "text": [
      "The file is not writable.\n"
     ]
    }
   ],
   "source": [
    "\n",
    "# Check if file is writable\n",
    "if os.access(\"students.txt\", os.W_OK):\n",
    "    print(\"The file is writable.\")\n",
    "else:\n",
    "    print(\"The file is not writable.\")"
   ]
  },
  {
   "cell_type": "markdown",
   "id": "18ed3691-1ca4-4c23-a8d4-ee31fc536bf6",
   "metadata": {},
   "source": [
    "# Exercise 47"
   ]
  },
  {
   "cell_type": "code",
   "execution_count": 248,
   "id": "63d5181a-63a3-42ca-bc2d-bba5b45a7199",
   "metadata": {},
   "outputs": [
    {
     "name": "stdout",
     "output_type": "stream",
     "text": [
      "Unique word count: 8\n"
     ]
    }
   ],
   "source": [
    "\n",
    "# Count unique words in a file\n",
    "# Step 1: Create a file with sample content\n",
    "with open(\"sample.txt\", \"w\") as file:\n",
    "    file.write(\"Python is fun. Python is easy to learn. Learning is good.\")\n",
    "\n",
    "# Step 2: Define the function\n",
    "def count_unique_words(filename):\n",
    "    with open(filename, \"r\") as file:\n",
    "        words = file.read().lower().split()\n",
    "        return len(set(words))\n",
    "\n",
    "# Step 3: Call the function and print the result\n",
    "unique_word_count = count_unique_words(\"sample.txt\")\n",
    "print(\"Unique word count:\", unique_word_count)\n"
   ]
  },
  {
   "cell_type": "markdown",
   "id": "fa14bde2-fcd7-4fae-a155-f7990ae86eb3",
   "metadata": {},
   "source": [
    "# Exercise 48\n"
   ]
  },
  {
   "cell_type": "code",
   "execution_count": 251,
   "id": "c1591d59-49a9-4b96-8f5c-75fa8382199f",
   "metadata": {},
   "outputs": [
    {
     "name": "stdout",
     "output_type": "stream",
     "text": [
      "This line does not mention it.\n",
      "Python makes things easier.\n",
      "I love coding.\n",
      "Python is a great language.\n"
     ]
    }
   ],
   "source": [
    "\n",
    "# Print lines in reverse order\n",
    "with open(\"file.txt\", \"r\") as file:\n",
    "    lines = file.readlines()\n",
    "for line in reversed(lines):\n",
    "    print(line.strip())\n"
   ]
  },
  {
   "cell_type": "markdown",
   "id": "732ab802-76d5-4844-9d9f-fcf3ba7c4e7e",
   "metadata": {},
   "source": [
    "# Exercise 49\n"
   ]
  },
  {
   "cell_type": "code",
   "execution_count": 254,
   "id": "5fb48554-5d83-49f3-820b-c291928fc875",
   "metadata": {},
   "outputs": [
    {
     "name": "stdout",
     "output_type": "stream",
     "text": [
      "Most common letter: n\n"
     ]
    }
   ],
   "source": [
    "\n",
    "# Most common letter in a file\n",
    "with open(\"file.txt\", \"r\") as file:\n",
    "    text = file.read().lower()\n",
    "    letters = [c for c in text if c.isalpha()]\n",
    "    most_common = Counter(letters).most_common(1)\n",
    "    print(\"Most common letter:\", most_common[0][0])"
   ]
  },
  {
   "cell_type": "markdown",
   "id": "a1343950-bdb7-4c64-9091-1db57e4e95a6",
   "metadata": {},
   "source": [
    "# Exercise 50\n"
   ]
  },
  {
   "cell_type": "code",
   "execution_count": 259,
   "id": "1b8ecb57-93ed-4d0d-a090-c0055b8030bc",
   "metadata": {},
   "outputs": [
    {
     "name": "stdout",
     "output_type": "stream",
     "text": [
      "Updated content:\n",
      "Java is amazing.\n",
      "I enjoy Java programming.\n"
     ]
    }
   ],
   "source": [
    "\n",
    "# Replace \"Python\" with \"Java\"\n",
    "# Step 1: Create file.txt with some \"Python\" text\n",
    "with open(\"file.txt\", \"w\") as file:\n",
    "    file.write(\"Python is amazing.\\nI enjoy Python programming.\")\n",
    "\n",
    "# Step 2: Replace \"Python\" with \"Java\"\n",
    "with open(\"file.txt\", \"r\") as file:\n",
    "    content = file.read().replace(\"Python\", \"Java\")\n",
    "with open(\"file.txt\", \"w\") as file:\n",
    "    file.write(content)\n",
    "\n",
    "# Step 3: Read the updated file and print it\n",
    "with open(\"file.txt\", \"r\") as file:\n",
    "    updated_content = file.read()\n",
    "    print(\"Updated content:\\n\" + updated_content)\n"
   ]
  },
  {
   "cell_type": "code",
   "execution_count": null,
   "id": "f4e73f74-4b32-4df6-97fa-af2997dd08f9",
   "metadata": {},
   "outputs": [],
   "source": []
  },
  {
   "cell_type": "code",
   "execution_count": null,
   "id": "40c5ee0f-3c7e-4ef9-8f87-21c830160d1d",
   "metadata": {},
   "outputs": [],
   "source": []
  },
  {
   "cell_type": "markdown",
   "id": "8fe331a5-5211-47ff-a063-460d5d4e78e0",
   "metadata": {},
   "source": [
    "---\n",
    "\n",
    "### Exercise 1:\n",
    "Create a string variable `text` and assign it the value `\"Python is amazing!\"`.\n",
    "```python\n",
    "# Exercise 1\n",
    "```\n",
    "\n",
    "---\n",
    "\n",
    "### Exercise 2:\n",
    "Find the length of the string `\"Hello, World!\"` and store it in a variable `length`.\n",
    "\n",
    "```python\n",
    "# Exercise 2\n",
    "```\n",
    "\n",
    "---\n",
    "\n",
    "### Exercise 3:\n",
    "Convert the string `\"python programming\"` to uppercase and store it in a variable `upper_text`.\n",
    "\n",
    "```python\n",
    "# Exercise 3\n",
    "```\n",
    "\n",
    "---\n",
    "\n",
    "### Exercise 4:\n",
    "Extract the first 5 characters from the string `\"Artificial Intelligence\"`.\n",
    "\n",
    "```python\n",
    "# Exercise 4\n",
    "```\n",
    "\n",
    "---\n",
    "\n",
    "### Exercise 5:\n",
    "Concatenate the strings `\"Hello\"` and `\"World\"` with a space in between.\n",
    "\n",
    "```python\n",
    "# Exercise 5\n",
    "```\n",
    "\n",
    "---\n",
    "\n",
    "### Exercise 6:\n",
    "Replace the word `\"dog\"` with `\"cat\"` in the string `\"The quick brown dog jumps over the lazy dog.\"`.\n",
    "\n",
    "```python\n",
    "# Exercise 6\n",
    "```\n",
    "\n",
    "---\n",
    "\n",
    "### Exercise 7:\n",
    "Split the string `\"apple,banana,orange\"` by commas and store the result in a list `fruits_list`.\n",
    "\n",
    "```python\n",
    "# Exercise 7\n",
    "```\n",
    "\n",
    "---\n",
    "\n",
    "### Exercise 8:\n",
    "Use string formatting to create the sentence `\"My name is Alice and I am 25 years old.\"`, where the name and age are variables.\n",
    "\n",
    "```python\n",
    "# Exercise 8\n",
    "```\n",
    "\n",
    "---\n",
    "\n",
    "### Exercise 9:\n",
    "Check if the string `\"python\"` is present in the sentence `\"I love python programming\"`.\n",
    "\n",
    "```python\n",
    "# Exercise 9\n",
    "```\n",
    "\n",
    "---\n",
    "\n",
    "### Exercise 10:\n",
    "Count the number of occurrences of the letter `\"e\"` in the string `\"Elephant is an elegant animal\"`.\n",
    "\n",
    "```python\n",
    "# Exercise 10\n",
    "```\n",
    "\n",
    "---\n",
    "\n",
    "### Exercise 11:\n",
    "Remove any leading and trailing spaces from the string `\"   Data Science   \"`.\n",
    "\n",
    "```python\n",
    "# Exercise 11\n",
    "```\n",
    "\n",
    "---\n",
    "\n",
    "### Exercise 12:\n",
    "Convert the string `\"100\"` into an integer and store it in a variable `int_value`.\n",
    "\n",
    "```python\n",
    "# Exercise 12\n",
    "```\n",
    "\n",
    "---\n",
    "\n",
    "### Exercise 13:\n",
    "Extract the substring `\"pro\"` from the string `\"programming\"`.\n",
    "\n",
    "```python\n",
    "# Exercise 13\n",
    "```\n",
    "\n",
    "---\n",
    "\n",
    "### Exercise 14:\n",
    "Check if the string `\"data\"` starts with `\"da\"` and ends with `\"ta\"`.\n",
    "\n",
    "```python\n",
    "# Exercise 14\n",
    "```\n",
    "\n",
    "---\n",
    "\n",
    "### Exercise 15:\n",
    "Reverse the string `\"machine learning\"` and store the result in `reversed_text`.\n",
    "\n",
    "```python\n",
    "# Exercise 15\n",
    "```\n",
    "\n",
    "---\n",
    "\n",
    "### Exercise 16:\n",
    "Convert the first letter of each word in the string `\"machine learning is fun\"` to uppercase.\n",
    "\n",
    "```python\n",
    "# Exercise 16\n",
    "```\n",
    "\n",
    "---\n",
    "\n",
    "### Exercise 17:\n",
    "Create a multiline string representing a poem and store it in a variable `poem`.\n",
    "\n",
    "```python\n",
    "# Exercise 17\n",
    "```\n",
    "\n",
    "---\n",
    "\n",
    "### Exercise 18:\n",
    "Write a string to a file named `\"output.txt\"`.\n",
    "\n",
    "```python\n",
    "# Exercise 18\n",
    "```\n",
    "\n",
    "---\n",
    "\n",
    "### Exercise 19:\n",
    "Read the contents of a file named `\"data.txt\"` and print it line by line.\n",
    "\n",
    "```python\n",
    "# Exercise 19\n",
    "```\n",
    "\n",
    "---\n",
    "\n",
    "### Exercise 20:\n",
    "Check if a file `\"example.txt\"` exists before opening it.\n",
    "\n",
    "```python\n",
    "# Exercise 20\n",
    "```\n",
    "\n",
    "---\n",
    "\n",
    "### Exercise 21:\n",
    "Append a new line `\"This is a new line\"` to an existing file `\"notes.txt\"`.\n",
    "\n",
    "```python\n",
    "# Exercise 21\n",
    "```\n",
    "\n",
    "---\n",
    "\n",
    "### Exercise 22:\n",
    "Read the contents of a file `\"log.txt\"` and store each line in a list `log_lines`.\n",
    "\n",
    "```python\n",
    "# Exercise 22\n",
    "```\n",
    "\n",
    "---\n",
    "\n",
    "### Exercise 23:\n",
    "Create a new file `\"report.txt\"` and write the string `\"Data analysis report\"` to it.\n",
    "\n",
    "```python\n",
    "# Exercise 23\n",
    "```\n",
    "\n",
    "---\n",
    "\n",
    "### Exercise 24:\n",
    "Replace the word `\"error\"` with `\"issue\"` in a file `\"log.txt\"`.\n",
    "\n",
    "```python\n",
    "# Exercise 24\n",
    "```\n",
    "\n",
    "---\n",
    "\n",
    "### Exercise 25:\n",
    "Count the number of words in a text file `\"document.txt\"`.\n",
    "\n",
    "```python\n",
    "# Exercise 25\n",
    "```\n",
    "\n",
    "---\n",
    "\n",
    "### Exercise 26:\n",
    "Write a Python script that reads a file `\"essay.txt\"` and prints the total number of lines, words, and characters.\n",
    "\n",
    "```python\n",
    "# Exercise 26\n",
    "```\n",
    "\n",
    "---\n",
    "\n",
    "### Exercise 27:\n",
    "Copy the contents of one file `\"source.txt\"` to another file `\"destination.txt\"`.\n",
    "\n",
    "```python\n",
    "# Exercise 27\n",
    "```\n",
    "\n",
    "---\n",
    "\n",
    "### Exercise 28:\n",
    "Write a Python function that takes a filename as input and returns the number of lines in the file.\n",
    "\n",
    "```python\n",
    "# Exercise 28\n",
    "```\n",
    "\n",
    "---\n",
    "\n",
    "### Exercise 29:\n",
    "Extract all the words from a text file `\"article.txt\"` that contain more than 5 characters.\n",
    "\n",
    "```python\n",
    "# Exercise 29\n",
    "```\n",
    "\n",
    "---\n",
    "\n",
    "### Exercise 30:\n",
    "Convert the contents of a file `\"notes.txt\"` to uppercase and save the result in another file `\"uppercase_notes.txt\"`.\n",
    "\n",
    "```python\n",
    "# Exercise 30\n",
    "```\n",
    "\n",
    "---\n",
    "\n",
    "### Exercise 31:\n",
    "Write a Python script that reads a file and removes all empty lines.\n",
    "\n",
    "```python\n",
    "# Exercise 31\n",
    "```\n",
    "\n",
    "---\n",
    "\n",
    "### Exercise 32:\n",
    "Open a file `\"config.txt\"` in both read and write mode.\n",
    "\n",
    "```python\n",
    "# Exercise 32\n",
    "```\n",
    "\n",
    "---\n",
    "\n",
    "### Exercise 33:\n",
    "Write a Python function that reads a file and prints the longest line in the file.\n",
    "\n",
    "```python\n",
    "# Exercise 33\n",
    "```\n",
    "\n",
    "---\n",
    "\n",
    "### Exercise 34:\n",
    "Write a Python script to count the frequency of each letter in a text file `\"message.txt\"`.\n",
    "\n",
    "```python\n",
    "# Exercise 34\n",
    "```\n",
    "\n",
    "---\n",
    "\n",
    "### Exercise 35:\n",
    "Write a Python script that reads a file and prints the total number of characters, excluding spaces.\n",
    "\n",
    "```python\n",
    "# Exercise 35\n",
    "```\n",
    "\n",
    "---\n",
    "\n",
    "### Exercise 36:\n",
    "Create a Python script to check whether a file is empty or not.\n",
    "\n",
    "```python\n",
    "# Exercise 36\n",
    "```\n",
    "\n",
    "---\n",
    "\n",
    "### Exercise 37:\n",
    "Write a Python function that reads a file and removes all punctuation marks from the text.\n",
    "\n",
    "```python\n",
    "# Exercise 37\n",
    "```\n",
    "\n",
    "---\n",
    "\n",
    "### Exercise 38:\n",
    "Create a Python function that writes a list of strings to a file, each string on a new line.\n",
    "\n",
    "```python\n",
    "# Exercise 38\n",
    "```\n",
    "\n",
    "---\n",
    "\n",
    "### Exercise 39:\n",
    "Write a Python script to count the number of lines that start with a specific letter (e.g., \"A\") in a text file.\n",
    "\n",
    "```python\n",
    "# Exercise 39\n",
    "```\n",
    "\n",
    "---\n",
    "\n",
    "### Exercise 40:\n",
    "Write a Python function that takes a string as input and writes it to a file `\"output.txt\"` in reverse order.\n",
    "\n",
    "```python\n",
    "# Exercise 40\n",
    "```\n",
    "\n",
    "---\n",
    "\n",
    "### Exercise 41:\n",
    "Write a Python script that reads a file and prints all the lines that contain the word `\"Python\"`.\n",
    "\n",
    "```python\n",
    "# Exercise 41\n",
    "```\n",
    "\n",
    "---\n",
    "\n",
    "### Exercise 42:\n",
    "Write a Python script that opens a file and removes all numeric digits from the file's content.\n",
    "\n",
    "```python\n",
    "# Exercise 42\n",
    "```\n",
    "\n",
    "---\n",
    "\n",
    "### Exercise 43:\n",
    "Write a Python script to find the most frequent word in a text file `\"book.txt\"`.\n",
    "\n",
    "```python\n",
    "# Exercise 43\n",
    "```\n",
    "\n",
    "---\n",
    "\n",
    "### Exercise 44:\n",
    "Write a Python script that reads a file and prints all the lines that contain exactly 5 words.\n",
    "\n",
    "```python\n",
    "# Exercise 44\n",
    "```\n",
    "\n",
    "---\n",
    "\n",
    "### Exercise 45:\n",
    "Write a Python script to read a file and print the first and last line of the file.\n",
    "\n",
    "```python\n",
    "# Exercise 45\n",
    "```\n",
    "\n",
    "---\n",
    "\n",
    "### Exercise 46:\n",
    "Write a Python script that checks if a file `\"students.txt\"` is writable.\n",
    "\n",
    "```python\n",
    "# Exercise 46\n",
    "```\n",
    "\n",
    "---\n",
    "\n",
    "### Exercise 47:\n",
    "Create a Python function that opens a file and returns the number of unique words in the file.\n",
    "\n",
    "```python\n",
    "# Exercise 47\n",
    "```\n",
    "\n",
    "---\n",
    "\n",
    "### Exercise 48:\n",
    "Write a Python script that reads a file and prints all lines in reverse order.\n",
    "\n",
    "```python\n",
    "# Exercise 48\n",
    "```\n",
    "\n",
    "---\n",
    "\n",
    "### Exercise 49:\n",
    "Write a Python function that reads a file and returns the most common letter in the text.\n",
    "\n",
    "```python\n",
    "# Exercise 49\n",
    "```\n",
    "\n",
    "---\n",
    "\n",
    "### Exercise 50:\n",
    "Write a Python script that reads a file and replaces every occurrence of `\"Python\"` with `\"Java\"`.\n",
    "\n",
    "```python\n",
    "# Exercise 50\n",
    "```\n",
    "\n",
    "---\n",
    "\n"
   ]
  },
  {
   "cell_type": "code",
   "execution_count": null,
   "id": "b3a554ad-e821-4949-8d1e-e21b56ca353f",
   "metadata": {},
   "outputs": [],
   "source": []
  },
  {
   "cell_type": "markdown",
   "id": "5abf158d-e05f-44dd-a3c5-2f80f5252895",
   "metadata": {},
   "source": [
    "---\n",
    "\n",
    "### Exercise 1:\n",
    "Create a string variable `text` and assign it the value `\"Python is amazing!\"`.\n",
    "\n",
    "```python\n",
    "# Exercise 1\n",
    "```\n",
    "\n",
    "---\n",
    "\n",
    "### Exercise 2:\n",
    "Find the length of the string `\"Hello, World!\"` and store it in a variable `length`.\n",
    "\n",
    "```python\n",
    "# Exercise 2\n",
    "```\n",
    "\n",
    "---\n",
    "\n",
    "### Exercise 3:\n",
    "Convert the string `\"python programming\"` to uppercase and store it in a variable `upper_text`.\n",
    "\n",
    "```python\n",
    "# Exercise 3\n",
    "```\n",
    "\n",
    "---\n",
    "\n",
    "### Exercise 4:\n",
    "Extract the first 5 characters from the string `\"Artificial Intelligence\"`.\n",
    "\n",
    "```python\n",
    "# Exercise 4\n",
    "```\n",
    "\n",
    "---\n",
    "\n",
    "### Exercise 5:\n",
    "Concatenate the strings `\"Hello\"` and `\"World\"` with a space in between.\n",
    "\n",
    "```python\n",
    "# Exercise 5\n",
    "```\n",
    "\n",
    "---\n",
    "\n",
    "### Exercise 6:\n",
    "Replace the word `\"dog\"` with `\"cat\"` in the string `\"The quick brown dog jumps over the lazy dog.\"`.\n",
    "\n",
    "```python\n",
    "# Exercise 6\n",
    "```\n",
    "\n",
    "---\n",
    "\n",
    "### Exercise 7:\n",
    "Split the string `\"apple,banana,orange\"` by commas and store the result in a list `fruits_list`.\n",
    "\n",
    "```python\n",
    "# Exercise 7\n",
    "```\n",
    "\n",
    "---\n",
    "\n",
    "### Exercise 8:\n",
    "Use string formatting to create the sentence `\"My name is Alice and I am 25 years old.\"`, where the name and age are variables.\n",
    "\n",
    "```python\n",
    "# Exercise 8\n",
    "```\n",
    "\n",
    "---\n",
    "\n",
    "### Exercise 9:\n",
    "Check if the string `\"python\"` is present in the sentence `\"I love python programming\"`.\n",
    "\n",
    "```python\n",
    "# Exercise 9\n",
    "```\n",
    "\n",
    "---\n",
    "\n",
    "### Exercise 10:\n",
    "Count the number of occurrences of the letter `\"e\"` in the string `\"Elephant is an elegant animal\"`.\n",
    "\n",
    "```python\n",
    "# Exercise 10\n",
    "```\n",
    "\n",
    "---\n",
    "\n",
    "### Exercise 11:\n",
    "Remove any leading and trailing spaces from the string `\"   Data Science   \"`.\n",
    "\n",
    "```python\n",
    "# Exercise 11\n",
    "```\n",
    "\n",
    "---\n",
    "\n",
    "\n",
    "### Exercise 12:\n",
    "Convert the string `\"100\"` into an integer and store it in a variable `int_value`.\n",
    "\n",
    "```python\n",
    "# Exercise 12\n",
    "```\n",
    "\n",
    "---\n",
    "\n",
    "### Exercise 13:\n",
    "Extract the substring `\"pro\"` from the string `\"programming\"`.\n",
    "\n",
    "```python\n",
    "# Exercise 13\n",
    "```\n",
    "\n",
    "---\n",
    "\n",
    "### Exercise 14:\n",
    "Check if the string `\"data\"` starts with `\"da\"` and ends with `\"ta\"`.\n",
    "\n",
    "```python\n",
    "# Exercise 14\n",
    "```\n",
    "\n",
    "---\n",
    "\n",
    "### Exercise 15:\n",
    "Reverse the string `\"machine learning\"` and store the result in `reversed_text`.\n",
    "\n",
    "```python\n",
    "# Exercise 15\n",
    "```\n",
    "\n",
    "---\n",
    "\n",
    "### Exercise 16:\n",
    "Convert the first letter of each word in the string `\"machine learning is fun\"` to uppercase.\n",
    "\n",
    "```python\n",
    "# Exercise 16\n",
    "```\n",
    "\n",
    "---\n",
    "\n",
    "### Exercise 17:\n",
    "Create a multiline string representing a poem and store it in a variable `poem`.\n",
    "\n",
    "```python\n",
    "# Exercise 17\n",
    "```\n",
    "\n",
    "---\n",
    "\n",
    "### Exercise 18:\n",
    "Write a string to a file named `\"output.txt\"`.\n",
    "\n",
    "```python\n",
    "# Exercise 18\n",
    "```\n",
    "\n",
    "---\n",
    "\n",
    "### Exercise 19:\n",
    "Read the contents of a file named `\"data.txt\"` and print it line by line.\n",
    "\n",
    "```python\n",
    "# Exercise 19\n",
    "```\n",
    "\n",
    "---\n",
    "\n",
    "### Exercise 20:\n",
    "Check if a file `\"example.txt\"` exists before opening it.\n",
    "\n",
    "```python\n",
    "# Exercise 20\n",
    "```\n",
    "\n",
    "---\n",
    "\n",
    "### Exercise 21:\n",
    "Append a new line `\"This is a new line\"` to an existing file `\"notes.txt\"`.\n",
    "\n",
    "```python\n",
    "# Exercise 21\n",
    "```\n",
    "\n",
    "---\n",
    "\n",
    "### Exercise 22:\n",
    "Read the contents of a file `\"log.txt\"` and store each line in a list `log_lines`.\n",
    "\n",
    "```python\n",
    "# Exercise 22\n",
    "```\n",
    "\n",
    "---\n",
    "\n",
    "### Exercise 23:\n",
    "Create a new file `\"report.txt\"` and write the string `\"Data analysis report\"` to it.\n",
    "\n",
    "```python\n",
    "# Exercise 23\n",
    "```\n",
    "\n",
    "---\n",
    "\n",
    "### Exercise 24:\n",
    "Replace the word `\"error\"` with `\"issue\"` in a file `\"log.txt\"`.\n",
    "\n",
    "```python\n",
    "# Exercise 24\n",
    "```\n",
    "\n",
    "---\n",
    "\n",
    "### Exercise 25:\n",
    "Count the number of words in a text file `\"document.txt\"`.\n",
    "\n",
    "```python\n",
    "# Exercise 25\n",
    "```\n",
    "\n",
    "---\n",
    "\n",
    "### Exercise 26:\n",
    "Write a Python script that reads a file `\"essay.txt\"` and prints the total number of lines, words, and characters.\n",
    "\n",
    "```python\n",
    "# Exercise 26\n",
    "```\n",
    "\n",
    "---\n",
    "\n",
    "### Exercise 27:\n",
    "Copy the contents of one file `\"source.txt\"` to another file `\"destination.txt\"`.\n",
    "\n",
    "```python\n",
    "# Exercise 27\n",
    "```\n",
    "\n",
    "---\n",
    "\n",
    "### Exercise 28:\n",
    "Write a Python function that takes a filename as input and returns the number of lines in the file.\n",
    "\n",
    "```python\n",
    "# Exercise 28\n",
    "```\n",
    "\n",
    "---\n",
    "\n",
    "### Exercise 29:\n",
    "Extract all the words from a text file `\"article.txt\"` that contain more than 5 characters.\n",
    "\n",
    "```python\n",
    "# Exercise 29\n",
    "```\n",
    "\n",
    "---\n",
    "\n",
    "### Exercise 30:\n",
    "Convert the contents of a file `\"notes.txt\"` to uppercase and save the result in another file `\"uppercase_notes.txt\"`.\n",
    "\n",
    "```python\n",
    "# Exercise 30\n",
    "```\n",
    "\n",
    "---\n",
    "\n",
    "### Exercise 31:\n",
    "Write a Python script that reads a file and removes all empty lines.\n",
    "\n",
    "```python\n",
    "# Exercise 31\n",
    "```\n",
    "\n",
    "---\n",
    "\n",
    "### Exercise 32:\n",
    "Open a file `\"config.txt\"` in both read and write mode.\n",
    "\n",
    "```python\n",
    "# Exercise 32\n",
    "```\n",
    "\n",
    "---\n",
    "\n",
    "### Exercise 33:\n",
    "Write a Python function that reads a file and prints the longest line in the file.\n",
    "\n",
    "```python\n",
    "# Exercise 33\n",
    "```\n",
    "\n",
    "---\n",
    "\n",
    "### Exercise 34:\n",
    "Write a Python script to count the frequency of each letter in a text file `\"message.txt\"`.\n",
    "\n",
    "```python\n",
    "# Exercise 34\n",
    "```\n",
    "\n",
    "---\n",
    "\n",
    "### Exercise 35:\n",
    "Write a Python script that reads a file and prints the total number of characters, excluding spaces.\n",
    "\n",
    "```python\n",
    "# Exercise 35\n",
    "```\n",
    "\n",
    "---\n",
    "\n",
    "### Exercise 36:\n",
    "Create a Python script to check whether a file is empty or not.\n",
    "\n",
    "```python\n",
    "# Exercise 36\n",
    "```\n",
    "\n",
    "---\n",
    "\n",
    "### Exercise 37:\n",
    "Write a Python function that reads a file and removes all punctuation marks from the text.\n",
    "\n",
    "```python\n",
    "# Exercise 37\n",
    "```\n",
    "\n",
    "---\n",
    "\n",
    "### Exercise 38:\n",
    "Create a Python function that writes a list of strings to a file, each string on a new line.\n",
    "\n",
    "```python\n",
    "# Exercise 38\n",
    "```\n",
    "\n",
    "---\n",
    "\n",
    "### Exercise 39:\n",
    "Write a Python script to count the number of lines that start with a specific letter (e.g., \"A\") in a text file.\n",
    "\n",
    "```python\n",
    "# Exercise 39\n",
    "```\n",
    "\n",
    "---\n",
    "\n",
    "### Exercise 40:\n",
    "Write a Python function that takes a string as input and writes it to a file `\"output.txt\"` in reverse order.\n",
    "\n",
    "```python\n",
    "# Exercise 40\n",
    "```\n",
    "\n",
    "---\n",
    "\n",
    "### Exercise 41:\n",
    "Write a Python script that reads a file and prints all the lines that contain the word `\"Python\"`.\n",
    "\n",
    "```python\n",
    "# Exercise 41\n",
    "```\n",
    "\n",
    "---\n",
    "\n",
    "### Exercise 42:\n",
    "Write a Python script that opens a file and removes all numeric digits from the file's content.\n",
    "\n",
    "```python\n",
    "# Exercise 42\n",
    "```\n",
    "\n",
    "---\n",
    "\n",
    "### Exercise 43:\n",
    "Write a Python script to find the most frequent word in a text file `\"book.txt\"`.\n",
    "\n",
    "```python\n",
    "# Exercise 43\n",
    "```\n",
    "\n",
    "---\n",
    "\n",
    "### Exercise 44:\n",
    "Write a Python script that reads a file and prints all the lines that contain exactly 5 words.\n",
    "\n",
    "```python\n",
    "# Exercise 44\n",
    "```\n",
    "\n",
    "---\n",
    "\n",
    "### Exercise 45:\n",
    "Write a Python script to read a file and print the first and last line of the file.\n",
    "\n",
    "```python\n",
    "# Exercise 45\n",
    "```\n",
    "\n",
    "---\n",
    "\n",
    "### Exercise 46:\n",
    "Write a Python script that checks if a file `\"students.txt\"` is writable.\n",
    "\n",
    "```python\n",
    "# Exercise 46\n",
    "```\n",
    "\n",
    "---\n",
    "\n",
    "### Exercise 47:\n",
    "Create a Python function that opens a file and returns the number of unique words in the file.\n",
    "\n",
    "```python\n",
    "# Exercise 47\n",
    "```\n",
    "\n",
    "---\n",
    "\n",
    "### Exercise 48:\n",
    "Write a Python script that reads a file and prints all lines in reverse order.\n",
    "\n",
    "```python\n",
    "# Exercise 48\n",
    "```\n",
    "\n",
    "---\n",
    "\n",
    "### Exercise 49:\n",
    "Write a Python function that reads a file and returns the most common letter in the text.\n",
    "\n",
    "```python\n",
    "# Exercise 49\n",
    "```\n",
    "\n",
    "---\n",
    "\n",
    "### Exercise 50:\n",
    "Write a Python script that reads a file and replaces every occurrence of `\"Python\"` with `\"Java\"`.\n",
    "\n",
    "```python\n",
    "# Exercise 50\n",
    "```\n",
    "\n",
    "---\n",
    "\n"
   ]
  },
  {
   "cell_type": "code",
   "execution_count": null,
   "id": "0f1757ab-82e8-4732-955e-ba7afe5c1275",
   "metadata": {},
   "outputs": [],
   "source": []
  },
  {
   "cell_type": "code",
   "execution_count": null,
   "id": "85c6d971-86c9-4696-b2a9-681604e68c62",
   "metadata": {},
   "outputs": [],
   "source": []
  },
  {
   "cell_type": "code",
   "execution_count": null,
   "id": "d7a57a19-d5ac-4ceb-b3d1-dc07ee057a06",
   "metadata": {},
   "outputs": [],
   "source": []
  }
 ],
 "metadata": {
  "kernelspec": {
   "display_name": "Python [conda env:base] *",
   "language": "python",
   "name": "conda-base-py"
  },
  "language_info": {
   "codemirror_mode": {
    "name": "ipython",
    "version": 3
   },
   "file_extension": ".py",
   "mimetype": "text/x-python",
   "name": "python",
   "nbconvert_exporter": "python",
   "pygments_lexer": "ipython3",
   "version": "3.11.7"
  },
  "widgets": {
   "application/vnd.jupyter.widget-state+json": {
    "state": {},
    "version_major": 2,
    "version_minor": 0
   }
  }
 },
 "nbformat": 4,
 "nbformat_minor": 5
}
