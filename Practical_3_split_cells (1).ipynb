{
 "cells": [
  {
   "cell_type": "markdown",
   "id": "cb9ebacc",
   "metadata": {},
   "source": [
    "# Practical_3: Iterable objects or Containers"
   ]
  },
  {
   "cell_type": "markdown",
   "id": "95af436e",
   "metadata": {},
   "source": [
    "\n",
    "---\n",
    "\n",
    "### Exercise 1:\n",
    "Create a list of integers from 1 to 10.\n"
   ]
  },
  {
   "cell_type": "code",
   "execution_count": 1,
   "id": "c99db8f5",
   "metadata": {},
   "outputs": [
    {
     "name": "stdout",
     "output_type": "stream",
     "text": [
      "[1, 2, 3, 4, 5, 6, 7, 8, 9]\n"
     ]
    }
   ],
   "source": [
    "# Exerc\n",
    "x = list(range(1,10))\n",
    "print(x)"
   ]
  },
  {
   "cell_type": "markdown",
   "id": "03698ae8",
   "metadata": {},
   "source": [
    "\n",
    "---\n",
    "\n",
    "### Exercise 2:\n",
    "Create a tuple containing the elements `\"apple\"`, `\"banana\"`, and `\"cherry\"`.\n"
   ]
  },
  {
   "cell_type": "code",
   "execution_count": 2,
   "id": "e8bad276",
   "metadata": {},
   "outputs": [
    {
     "name": "stdout",
     "output_type": "stream",
     "text": [
      "('apple', 'banana', 'cherry')\n"
     ]
    }
   ],
   "source": [
    "# Exercise \n",
    "element = (\"apple\",\"banana\",\"cherry\")\n",
    "print(element)"
   ]
  },
  {
   "cell_type": "markdown",
   "id": "f966d443",
   "metadata": {},
   "source": [
    "\n",
    "---\n",
    "\n",
    "### Exercise 3:\n",
    "Convert the list `numbers = [10, 20, 30, 40]` into a tuple.\n"
   ]
  },
  {
   "cell_type": "code",
   "execution_count": 4,
   "id": "82f344f9",
   "metadata": {},
   "outputs": [
    {
     "name": "stdout",
     "output_type": "stream",
     "text": [
      "(10, 20, 30, 40)\n"
     ]
    }
   ],
   "source": [
    "# Exercise 3\n",
    "numbers = [10, 20, 30, 40]\n",
    "x = tuple(numbers)\n",
    "print(x)"
   ]
  },
  {
   "cell_type": "markdown",
   "id": "e7116820",
   "metadata": {},
   "source": [
    "\n",
    "---\n",
    "\n",
    "### Exercise 4:\n",
    "Create a set containing the elements `1, 2, 3, 4, 5`.\n"
   ]
  },
  {
   "cell_type": "code",
   "execution_count": 5,
   "id": "eeb3faad",
   "metadata": {},
   "outputs": [
    {
     "name": "stdout",
     "output_type": "stream",
     "text": [
      "{1, 2, 3, 4, 5}\n"
     ]
    }
   ],
   "source": [
    "# Exercise 4\n",
    "my_set = [1,2,3,4,5]\n",
    "m = set(my_set)\n",
    "print(m)"
   ]
  },
  {
   "cell_type": "markdown",
   "id": "6ff44a5e",
   "metadata": {},
   "source": [
    "\n",
    "---\n",
    "\n",
    "### Exercise 5:\n",
    "Create a dictionary `student` with the keys `\"name\"`, `\"age\"`, and `\"grade\"` and corresponding values `\"Alice\"`, `20`, and `\"A\"`.\n"
   ]
  },
  {
   "cell_type": "code",
   "execution_count": 7,
   "id": "4343c280",
   "metadata": {},
   "outputs": [
    {
     "name": "stdout",
     "output_type": "stream",
     "text": [
      "{'name': 'Alice', 'age': 20, 'grade': 'A'}\n"
     ]
    }
   ],
   "source": [
    "# Exercise 5\n",
    "student = {'name': 'Alice','age':20 ,'grade':'A'}\n",
    "print(student)"
   ]
  },
  {
   "cell_type": "markdown",
   "id": "e6133eec",
   "metadata": {},
   "source": [
    "\n",
    "---\n",
    "\n",
    "### Exercise 6:\n",
    "Access the second element of the list `[10, 20, 30, 40, 50]` using indexing.\n"
   ]
  },
  {
   "cell_type": "code",
   "execution_count": 8,
   "id": "98325501",
   "metadata": {},
   "outputs": [
    {
     "name": "stdout",
     "output_type": "stream",
     "text": [
      "20\n"
     ]
    }
   ],
   "source": [
    "# Exercise 6\n",
    "num = [10, 20, 30, 40, 50]\n",
    "m =num[1]\n",
    "print(m)"
   ]
  },
  {
   "cell_type": "markdown",
   "id": "6ad0cee3",
   "metadata": {},
   "source": [
    "\n",
    "---\n",
    "\n",
    "### Exercise 7:\n",
    "Change the third element of the list `fruits = [\"apple\", \"banana\", \"cherry\", \"orange\"]` to `\"mango\"`.\n"
   ]
  },
  {
   "cell_type": "code",
   "execution_count": 9,
   "id": "edf8e912",
   "metadata": {},
   "outputs": [
    {
     "name": "stdout",
     "output_type": "stream",
     "text": [
      "['apple', 'banana', 'cherry', 'mango']\n"
     ]
    }
   ],
   "source": [
    "# Exercise 7\n",
    "fruits = [\"apple\", \"banana\", \"cherry\", \"orange\"]\n",
    "fruits [3]= \"mango\"\n",
    "print(fruits)"
   ]
  },
  {
   "cell_type": "markdown",
   "id": "113d5721",
   "metadata": {},
   "source": [
    "\n",
    "---\n",
    "\n",
    "### Exercise 8:\n",
    "Add the number `6` to the set `numbers = {1, 2, 3, 4, 5}`.\n"
   ]
  },
  {
   "cell_type": "code",
   "execution_count": 14,
   "id": "201e7dd8",
   "metadata": {},
   "outputs": [
    {
     "name": "stdout",
     "output_type": "stream",
     "text": [
      "{1, 2, 3, 4, 5, 6}\n"
     ]
    }
   ],
   "source": [
    "# Exercise 8\n",
    "numbers = {1, 2, 3, 4, 5}\n",
    "numbers.add(6)\n",
    "print(numbers)"
   ]
  },
  {
   "cell_type": "markdown",
   "id": "1fbe664f",
   "metadata": {},
   "source": [
    "\n",
    "---\n",
    "\n",
    "### Exercise 9:\n",
    "Remove the key `\"age\"` from the dictionary `person = {\"name\": \"John\", \"age\": 25, \"city\": \"New York\"}`.\n"
   ]
  },
  {
   "cell_type": "code",
   "execution_count": 16,
   "id": "9df67448",
   "metadata": {},
   "outputs": [
    {
     "name": "stdout",
     "output_type": "stream",
     "text": [
      "{'name': 'John', 'city': 'New York'}\n"
     ]
    }
   ],
   "source": [
    "# Exercise 9\n",
    "person = {\"name\": \"John\", \"age\": 25, \"city\": \"New York\"}\n",
    "del person[\"age\"]\n",
    "print(person)"
   ]
  },
  {
   "cell_type": "markdown",
   "id": "7b3e4700",
   "metadata": {},
   "source": [
    "\n",
    "---\n",
    "\n",
    "### Exercise 10:\n",
    "Create a range object starting from 0 to 9.\n"
   ]
  },
  {
   "cell_type": "code",
   "execution_count": 22,
   "id": "5debcc0f",
   "metadata": {},
   "outputs": [
    {
     "data": {
      "text/plain": [
       "[0, 1, 2, 3, 4, 5, 6, 7, 8, 9]"
      ]
     },
     "execution_count": 22,
     "metadata": {},
     "output_type": "execute_result"
    }
   ],
   "source": [
    "# Exercise 10\n",
    "my_range = range(10)\n",
    "list(my_range)"
   ]
  },
  {
   "cell_type": "markdown",
   "id": "c252718b",
   "metadata": {},
   "source": [
    "\n",
    "---\n",
    "\n",
    "### Exercise 11:\n",
    "Use a list comprehension to create a list of squares of numbers from 1 to 10.\n"
   ]
  },
  {
   "cell_type": "code",
   "execution_count": 24,
   "id": "05398773",
   "metadata": {},
   "outputs": [
    {
     "name": "stdout",
     "output_type": "stream",
     "text": [
      "[1, 4, 9, 16, 25, 36, 49, 64, 81, 100]\n"
     ]
    }
   ],
   "source": [
    "# Exercise 11\n",
    "square_list = [x**2 for x in range(1,11)]\n",
    "print(square_list)"
   ]
  },
  {
   "cell_type": "markdown",
   "id": "3768839d",
   "metadata": {},
   "source": [
    "\n",
    "---\n",
    "\n",
    "### Exercise 12:\n",
    "Create a tuple of even numbers between 2 and 10 using a tuple comprehension.\n"
   ]
  },
  {
   "cell_type": "code",
   "execution_count": 27,
   "id": "b835355f",
   "metadata": {},
   "outputs": [
    {
     "data": {
      "text/plain": [
       "(2, 4, 6, 8, 10)"
      ]
     },
     "execution_count": 27,
     "metadata": {},
     "output_type": "execute_result"
    }
   ],
   "source": [
    "# Exercise 12\n",
    "even_num = tuple(i for i in range(2,11)if i %2 ==0)\n",
    "even_num"
   ]
  },
  {
   "cell_type": "markdown",
   "id": "101d1b59",
   "metadata": {},
   "source": [
    "\n",
    "---\n",
    "\n",
    "### Exercise 13:\n",
    "Use a for loop to iterate through the list `fruits = [\"apple\", \"banana\", \"cherry\"]` and print each element.\n"
   ]
  },
  {
   "cell_type": "code",
   "execution_count": 28,
   "id": "27fccbc4",
   "metadata": {},
   "outputs": [
    {
     "name": "stdout",
     "output_type": "stream",
     "text": [
      "apple\n",
      "banana\n",
      "cherry\n"
     ]
    }
   ],
   "source": [
    "# Exercise 13\n",
    "fruits = [\"apple\", \"banana\", \"cherry\"]\n",
    "for i in fruits:\n",
    "    print(i)\n"
   ]
  },
  {
   "cell_type": "markdown",
   "id": "a44c67a3",
   "metadata": {},
   "source": [
    "\n",
    "---\n",
    "\n",
    "### Exercise 14:\n",
    "Check if the value `3` exists in the set `numbers = {1, 2, 3, 4, 5}`.\n"
   ]
  },
  {
   "cell_type": "code",
   "execution_count": 31,
   "id": "72e1068d",
   "metadata": {},
   "outputs": [
    {
     "name": "stdout",
     "output_type": "stream",
     "text": [
      "{1, 2, 3, 4, 5}\n"
     ]
    }
   ],
   "source": [
    "# Exercise 14\n",
    "numbers = {1, 2, 3, 4, 5}\n",
    "if 3 in numbers:\n",
    "    print(numbers)"
   ]
  },
  {
   "cell_type": "markdown",
   "id": "c80a4ba4",
   "metadata": {},
   "source": [
    "\n",
    "---\n",
    "\n",
    "### Exercise 15:\n",
    "Use the `len()` function to find the length of the tuple `numbers = (10, 20, 30)`.\n"
   ]
  },
  {
   "cell_type": "code",
   "execution_count": 32,
   "id": "82d5bb30",
   "metadata": {},
   "outputs": [
    {
     "name": "stdout",
     "output_type": "stream",
     "text": [
      "3\n"
     ]
    }
   ],
   "source": [
    "# Exercise 15\n",
    "numbers = (10, 20, 30)\n",
    "length = len(numbers)\n",
    "print(length)"
   ]
  },
  {
   "cell_type": "markdown",
   "id": "5b491bb0",
   "metadata": {},
   "source": [
    "\n",
    "---\n",
    "\n",
    "### Exercise 16:\n",
    "Add the value `100` at the end of the list `scores = [80, 85, 90, 95]`.\n"
   ]
  },
  {
   "cell_type": "code",
   "execution_count": 34,
   "id": "3a6f2e42",
   "metadata": {},
   "outputs": [
    {
     "name": "stdout",
     "output_type": "stream",
     "text": [
      "[80, 85, 90, 95, 100]\n"
     ]
    }
   ],
   "source": [
    "# Exercise 16\n",
    "scores = [80, 85, 90, 95]\n",
    "scores.append(100)\n",
    "print(scores)"
   ]
  },
  {
   "cell_type": "markdown",
   "id": "0ee5adfc",
   "metadata": {},
   "source": [
    "\n",
    "---\n",
    "\n",
    "### Exercise 17:\n",
    "Write a function that takes a list as input and returns the sum of all elements in the list.\n"
   ]
  },
  {
   "cell_type": "code",
   "execution_count": 35,
   "id": "c345753d",
   "metadata": {},
   "outputs": [
    {
     "name": "stdout",
     "output_type": "stream",
     "text": [
      "15\n"
     ]
    }
   ],
   "source": [
    "# Exercise 17\n",
    "def sum_list(input_list):\n",
    "    return sum(input_list)\n",
    "\n",
    "input_list = [1,2,3,4,5]\n",
    "result = sum_list(input_list)\n",
    "print(result)"
   ]
  },
  {
   "cell_type": "markdown",
   "id": "35d5d0b1",
   "metadata": {},
   "source": [
    "\n",
    "---\n",
    "\n",
    "### Exercise 18:\n",
    "Create a set containing the unique elements of the list `numbers = [1, 2, 2, 3, 4, 4, 5]`.\n"
   ]
  },
  {
   "cell_type": "code",
   "execution_count": 36,
   "id": "e2f801ad",
   "metadata": {},
   "outputs": [
    {
     "name": "stdout",
     "output_type": "stream",
     "text": [
      "{1, 2, 3, 4, 5}\n"
     ]
    }
   ],
   "source": [
    "# Exercise 18\n",
    "numbers = [1, 2, 2, 3, 4, 4, 5]\n",
    "unique = set(numbers)\n",
    "print(unique)"
   ]
  },
  {
   "cell_type": "markdown",
   "id": "6c102900",
   "metadata": {},
   "source": [
    "\n",
    "---\n",
    "\n",
    "### Exercise 19:\n",
    "Convert the string `\"hello\"` into a list of characters.\n"
   ]
  },
  {
   "cell_type": "code",
   "execution_count": 37,
   "id": "07c63fed",
   "metadata": {},
   "outputs": [
    {
     "name": "stdout",
     "output_type": "stream",
     "text": [
      "['h', 'e', 'l', 'l', 'o']\n"
     ]
    }
   ],
   "source": [
    "# Exercise 19\n",
    "text = 'hello'\n",
    "my_list =list(text)\n",
    "print(my_list)"
   ]
  },
  {
   "cell_type": "markdown",
   "id": "c22d6b97",
   "metadata": {},
   "source": [
    "\n",
    "---\n",
    "\n",
    "### Exercise 20:\n",
    "Write a Python function that reverses a tuple `(1, 2, 3, 4)`.\n"
   ]
  },
  {
   "cell_type": "code",
   "execution_count": 50,
   "id": "e2a7b1be",
   "metadata": {},
   "outputs": [
    {
     "name": "stdout",
     "output_type": "stream",
     "text": [
      "(4, 3, 2, 1)\n"
     ]
    }
   ],
   "source": [
    "def reverse_tuple(t):\n",
    "    return t[::-1]\n",
    "\n",
    "m= (1,2,3,4)\n",
    "reverse_tuple= reverse_tuple(m)\n",
    "print(reverse_tuple)\n"
   ]
  },
  {
   "cell_type": "markdown",
   "id": "4c12cf45",
   "metadata": {},
   "source": [
    "\n",
    "---\n",
    "\n",
    "### Exercise 21:\n",
    "Merge two dictionaries `dict1 = {\"a\": 1, \"b\": 2}` and `dict2 = {\"c\": 3, \"d\": 4}` into a single dictionary.\n"
   ]
  },
  {
   "cell_type": "code",
   "execution_count": 48,
   "id": "537c61a1",
   "metadata": {},
   "outputs": [
    {
     "name": "stdout",
     "output_type": "stream",
     "text": [
      "{'a': 1, 'b': 2, 'c': 3, 'd': 4}\n"
     ]
    }
   ],
   "source": [
    "# Exercise 21\n",
    "dict1 = {\"a\": 1, \"b\": 2}\n",
    "dict2 = {\"c\": 3, \"d\": 4}\n",
    "concat = dict1.copy()\n",
    "concat.update(dict2)\n",
    "print(concat)\n"
   ]
  },
  {
   "cell_type": "markdown",
   "id": "752fc2f0",
   "metadata": {},
   "source": [
    "\n",
    "---\n",
    "\n",
    "### Exercise 22:\n",
    "Create a dictionary where keys are numbers from 1 to 5, and values are their squares.\n"
   ]
  },
  {
   "cell_type": "code",
   "execution_count": 53,
   "id": "f4b8b50a",
   "metadata": {},
   "outputs": [
    {
     "data": {
      "text/plain": [
       "{1: 1, 2: 4, 3: 9, 4: 16, 5: 25}"
      ]
     },
     "execution_count": 53,
     "metadata": {},
     "output_type": "execute_result"
    }
   ],
   "source": [
    "# Exercise 22\n",
    "dict_num = {k:k**2 for k in range(1, 6)}\n",
    "dict_num"
   ]
  },
  {
   "cell_type": "markdown",
   "id": "87925b31",
   "metadata": {},
   "source": [
    "\n",
    "---\n",
    "\n",
    "### Exercise 23:\n",
    "Write a Python program to iterate through a dictionary and print each key-value pair.\n"
   ]
  },
  {
   "cell_type": "code",
   "execution_count": 55,
   "id": "65c5827c",
   "metadata": {},
   "outputs": [
    {
     "name": "stdout",
     "output_type": "stream",
     "text": [
      "key: name , value: Alice\n",
      "key: age , value: 25\n",
      "key: country , value: Rwanda\n"
     ]
    }
   ],
   "source": [
    "# Exercise 23\n",
    "my_dict = {\"name\": \"Alice\",\"age\": 25,\"country\": \"Rwanda\"}\n",
    "for key, value in my_dict.items():\n",
    "    print(f\"key: {key} , value: {value}\")"
   ]
  },
  {
   "cell_type": "markdown",
   "id": "291aba22",
   "metadata": {},
   "source": [
    "\n",
    "---\n",
    "\n",
    "### Exercise 24:\n",
    "Create a list of the first 5 letters of the alphabet using the `chr()` function.\n"
   ]
  },
  {
   "cell_type": "code",
   "execution_count": 56,
   "id": "ad91182e",
   "metadata": {},
   "outputs": [
    {
     "name": "stdout",
     "output_type": "stream",
     "text": [
      "['a', 'b', 'c', 'd', 'e']\n"
     ]
    }
   ],
   "source": [
    "# Exercise 24\n",
    "letters = [chr(i) for i in range(97, 97 + 5)]\n",
    "print(letters)\n",
    "\n"
   ]
  },
  {
   "cell_type": "markdown",
   "id": "b26fbe9e",
   "metadata": {},
   "source": [
    "\n",
    "---\n",
    "\n",
    "### Exercise 25:\n",
    "Use the `zip()` function to combine two lists `[1, 2, 3]` and `[\"a\", \"b\", \"c\"]` into a list of tuples.\n"
   ]
  },
  {
   "cell_type": "code",
   "execution_count": 59,
   "id": "acbd5a20",
   "metadata": {},
   "outputs": [
    {
     "name": "stdout",
     "output_type": "stream",
     "text": [
      "[(1, 'a'), (2, 'b'), (3, 'c')]\n"
     ]
    }
   ],
   "source": [
    "# Exercise 25\n",
    "list1 = [1, 2, 3]\n",
    "list2 = [\"a\", \"b\", \"c\"]\n",
    "combined =list(zip(list1, list2))\n",
    "print(combined)"
   ]
  },
  {
   "cell_type": "markdown",
   "id": "fb1b544b",
   "metadata": {},
   "source": [
    "\n",
    "---\n",
    "\n",
    "### Exercise 26:\n",
    "Find the index of the value `50` in the list `[10, 20, 30, 40, 50]`.\n"
   ]
  },
  {
   "cell_type": "code",
   "execution_count": 68,
   "id": "4be341e2",
   "metadata": {},
   "outputs": [
    {
     "data": {
      "text/plain": [
       "4"
      ]
     },
     "execution_count": 68,
     "metadata": {},
     "output_type": "execute_result"
    }
   ],
   "source": [
    "# Exercise 26\n",
    "my_list =[10, 20, 30, 40, 50]\n",
    "result = my_list.index(50)\n",
    "result"
   ]
  },
  {
   "cell_type": "markdown",
   "id": "cc1f1bbc",
   "metadata": {},
   "source": [
    "\n",
    "---\n",
    "\n",
    "### Exercise 27:\n",
    "Sort the list `names = [\"Alice\", \"Bob\", \"Charlie\", \"David\"]` in alphabetical order.\n"
   ]
  },
  {
   "cell_type": "code",
   "execution_count": 66,
   "id": "5da06905",
   "metadata": {},
   "outputs": [
    {
     "name": "stdout",
     "output_type": "stream",
     "text": [
      "['Alice', 'Bob', 'Charlie', 'David']\n"
     ]
    }
   ],
   "source": [
    "# Exercise 27\n",
    "names = [\"Alice\", \"Bob\", \"Charlie\", \"David\"]\n",
    "names.sort()\n",
    "print(names)"
   ]
  },
  {
   "cell_type": "markdown",
   "id": "cac11304",
   "metadata": {},
   "source": [
    "\n",
    "---\n",
    "\n",
    "### Exercise 28:\n",
    "Write a Python function that takes a list of integers as input and returns the largest number.\n"
   ]
  },
  {
   "cell_type": "code",
   "execution_count": 70,
   "id": "1bfc6919",
   "metadata": {},
   "outputs": [
    {
     "name": "stdout",
     "output_type": "stream",
     "text": [
      "The largest number is: 60\n"
     ]
    }
   ],
   "source": [
    "# Exercise 28\n",
    "def find_largest(numbers):\n",
    "    return max(numbers)\n",
    "\n",
    "nums = [1, 32, 56, 21, 60]\n",
    "largest = find_largest(nums)\n",
    "print(\"The largest number is:\", largest)\n"
   ]
  },
  {
   "cell_type": "markdown",
   "id": "d90195b7",
   "metadata": {},
   "source": [
    "\n",
    "---\n",
    "\n",
    "### Exercise 29:\n",
    "Use the `count()` method to count how many times `\"apple\"` appears in the list `fruits = [\"apple\", \"banana\", \"apple\", \"orange\"]`.\n"
   ]
  },
  {
   "cell_type": "code",
   "execution_count": 72,
   "id": "8a8448c7",
   "metadata": {},
   "outputs": [
    {
     "name": "stdout",
     "output_type": "stream",
     "text": [
      "2\n"
     ]
    }
   ],
   "source": [
    "# Exercise 29\n",
    "fruits = [\"apple\", \"banana\", \"apple\", \"orange\"]\n",
    "my_count= fruits.count('apple')\n",
    "print(my_count)"
   ]
  },
  {
   "cell_type": "markdown",
   "id": "45c41ffe",
   "metadata": {},
   "source": [
    "\n",
    "---\n",
    "\n",
    "### Exercise 30:\n",
    "Create a dictionary `person` where keys are `\"name\"`, `\"age\"`, and `\"city\"`, and values are `\"Alice\"`, `25`, and `\"New York\"` respectively. Then access the value of the `\"city\"` key.\n"
   ]
  },
  {
   "cell_type": "code",
   "execution_count": 74,
   "id": "01c8b6e2",
   "metadata": {},
   "outputs": [
    {
     "name": "stdout",
     "output_type": "stream",
     "text": [
      "city: New York\n"
     ]
    }
   ],
   "source": [
    "# Exercise 30\n",
    "person= {\"name\": \"Alice\", \"age\": 25, \"city\": \"New York\" }\n",
    "result= person['city']\n",
    "print(\"city:\", result)\n"
   ]
  },
  {
   "cell_type": "markdown",
   "id": "0b95c68b",
   "metadata": {},
   "source": [
    "\n",
    "---\n",
    "\n",
    "### Exercise 31:\n",
    "Write a Python function that takes a list as input and returns a new list with all duplicates removed.\n"
   ]
  },
  {
   "cell_type": "code",
   "execution_count": 75,
   "id": "5fc377d7",
   "metadata": {},
   "outputs": [
    {
     "name": "stdout",
     "output_type": "stream",
     "text": [
      "[1, 2, 3, 4, 5]\n"
     ]
    }
   ],
   "source": [
    "# Exercise 31\n",
    "def remove_dup(input_list):\n",
    "    return list(set(input_list))\n",
    "\n",
    "my_list = [1, 2, 2, 3, 4, 4, 5]\n",
    "m = remove_dup(my_list)\n",
    "print(m)\n"
   ]
  },
  {
   "cell_type": "markdown",
   "id": "8ee587cd",
   "metadata": {},
   "source": [
    "\n",
    "---\n",
    "\n",
    "### Exercise 32:\n",
    "Write a Python function that takes two lists and returns their intersection.\n"
   ]
  },
  {
   "cell_type": "code",
   "execution_count": 76,
   "id": "dd7c0e7a",
   "metadata": {},
   "outputs": [
    {
     "name": "stdout",
     "output_type": "stream",
     "text": [
      "Intersection: [3, 4]\n"
     ]
    }
   ],
   "source": [
    "# Exercise 32\n",
    "def list_inter(list1, list2):\n",
    "    return list(set(list1) & set(list2))\n",
    "\n",
    "a = [1, 2, 3, 4]\n",
    "b = [3, 4, 5, 6]\n",
    "result = list_inter(a, b)\n",
    "print(\"Intersection:\", result)"
   ]
  },
  {
   "cell_type": "markdown",
   "id": "57d89740",
   "metadata": {},
   "source": [
    "\n",
    "---\n",
    "\n",
    "### Exercise 33:\n",
    "Create a generator that yields the squares of numbers from 1 to 10.\n"
   ]
  },
  {
   "cell_type": "code",
   "execution_count": 77,
   "id": "b83f66a7",
   "metadata": {},
   "outputs": [
    {
     "name": "stdout",
     "output_type": "stream",
     "text": [
      "1\n",
      "4\n",
      "9\n",
      "16\n",
      "25\n",
      "36\n",
      "49\n",
      "64\n",
      "81\n",
      "100\n"
     ]
    }
   ],
   "source": [
    "# Exercise 33\n",
    "def square_generator():\n",
    "    for i in range(1, 11):\n",
    "        yield i ** 2\n",
    "for square in square_generator():\n",
    "    print(square)"
   ]
  },
  {
   "cell_type": "markdown",
   "id": "662d4f36",
   "metadata": {},
   "source": [
    "\n",
    "---\n",
    "\n",
    "### Exercise 34:\n",
    "Write a Python function that takes a dictionary as input and returns the sum of all its values.\n"
   ]
  },
  {
   "cell_type": "code",
   "execution_count": 79,
   "id": "7c119210",
   "metadata": {},
   "outputs": [
    {
     "name": "stdout",
     "output_type": "stream",
     "text": [
      "Sum of values: 80\n"
     ]
    }
   ],
   "source": [
    "# Exercise 34\n",
    "def sum_dict_values(input_dict):\n",
    "    return sum(input_dict.values())\n",
    "\n",
    "# Example usage\n",
    "my_dict = {\"a\": 10, \"b\": 20, \"c\": 50}\n",
    "total = sum_dict_values(my_dict)\n",
    "print(\"Sum of values:\", total)"
   ]
  },
  {
   "cell_type": "markdown",
   "id": "6e6330bd",
   "metadata": {},
   "source": [
    "\n",
    "---\n",
    "\n",
    "### Exercise 35:\n",
    "Use the `sorted()` function to sort the list `[3, 1, 4, 1, 5, 9]` in ascending order.\n"
   ]
  },
  {
   "cell_type": "code",
   "execution_count": 83,
   "id": "cc89b4b3",
   "metadata": {},
   "outputs": [
    {
     "name": "stdout",
     "output_type": "stream",
     "text": [
      "Sorted list: [1, 1, 3, 4, 5, 9]\n"
     ]
    }
   ],
   "source": [
    "# Exercise\n",
    "numbers = [3, 1, 4, 1, 5, 9]\n",
    "sorted_numbers = sorted(numbers)\n",
    "print(\"Sorted list:\", sorted_numbers)"
   ]
  },
  {
   "cell_type": "markdown",
   "id": "a0faab20",
   "metadata": {},
   "source": [
    "\n",
    "---\n",
    "\n",
    "### Exercise 36:\n",
    "Write a Python function that takes a list of strings as input and returns the longest string.\n"
   ]
  },
  {
   "cell_type": "code",
   "execution_count": 85,
   "id": "f9f10963",
   "metadata": {},
   "outputs": [
    {
     "name": "stdout",
     "output_type": "stream",
     "text": [
      "longest string: Tuyizere Samuel\n"
     ]
    }
   ],
   "source": [
    "# Exercise 36\n",
    "def longest_string(string):\n",
    "    return max(string, key=len)\n",
    "\n",
    "word = [\"apple\", \"banana\", \"cherry\", \"watermelon\",\"Tuyizere Samuel\"]\n",
    "longest = longest_string(word)\n",
    "print(\"longest string:\" , longest)"
   ]
  },
  {
   "cell_type": "markdown",
   "id": "b607894e",
   "metadata": {},
   "source": [
    "\n",
    "---\n",
    "\n",
    "### Exercise 37:\n",
    "Check if all the elements in the list `[1, 2, 3, 4, 5]` are greater than 0 using the `all()` function.\n"
   ]
  },
  {
   "cell_type": "code",
   "execution_count": 87,
   "id": "2c70c929",
   "metadata": {},
   "outputs": [
    {
     "name": "stdout",
     "output_type": "stream",
     "text": [
      "True\n"
     ]
    }
   ],
   "source": [
    "# Exercise 37\n",
    "my_list = [1, 2, 3, 4, 5]\n",
    "result = all(n>0 for n in my_list)\n",
    "print(result)\n"
   ]
  },
  {
   "cell_type": "markdown",
   "id": "c7a96b9d",
   "metadata": {},
   "source": [
    "\n",
    "---\n",
    "\n",
    "### Exercise 38:\n",
    "Create a list of tuples where each tuple contains a number and its square for numbers from 1 to 5.\n"
   ]
  },
  {
   "cell_type": "code",
   "execution_count": 88,
   "id": "5957f979",
   "metadata": {},
   "outputs": [
    {
     "name": "stdout",
     "output_type": "stream",
     "text": [
      "[(1, 1), (2, 4), (3, 9), (4, 16), (5, 25)]\n"
     ]
    }
   ],
   "source": [
    "# Exercise 38\n",
    "square = [(x, x**2) for x in range(1,6)]\n",
    "print(square)\n"
   ]
  },
  {
   "cell_type": "markdown",
   "id": "81c8b43e",
   "metadata": {},
   "source": [
    "\n",
    "---\n",
    "\n",
    "### Exercise 39:\n",
    "Write a Python function that takes a list of tuples and returns a list of the second elements from each tuple.\n"
   ]
  },
  {
   "cell_type": "code",
   "execution_count": 93,
   "id": "524043c8",
   "metadata": {},
   "outputs": [
    {
     "name": "stdout",
     "output_type": "stream",
     "text": [
      "['a', 'b', 'c']\n"
     ]
    }
   ],
   "source": [
    "# Exercise 39\n",
    "# Function to get second elements from each tuple\n",
    "def second_elements(tuple_list):\n",
    "    return [t[1] for t in tuple_list]\n",
    "sample_tuples = [(1, 'a'), (2, 'b'), (3, 'c')]\n",
    "result =second_elements(sample_tuples)\n",
    "\n",
    "print(result)"
   ]
  },
  {
   "cell_type": "markdown",
   "id": "48bc26d7",
   "metadata": {},
   "source": [
    "\n",
    "---\n",
    "\n",
    "### Exercise 40:\n",
    "Write a Python function that flattens a list of lists into a single list.\n"
   ]
  },
  {
   "cell_type": "code",
   "execution_count": 94,
   "id": "b944b52c",
   "metadata": {},
   "outputs": [
    {
     "name": "stdout",
     "output_type": "stream",
     "text": [
      "[1, 2, 3, 4, 5, 6]\n"
     ]
    }
   ],
   "source": [
    "# Exercise 40\n",
    "def flatten_list(nested_list):\n",
    "    flat_list = []\n",
    "    for sublist in nested_list:\n",
    "        for item in sublist:\n",
    "            flat_list.append(item)\n",
    "    return flat_list\n",
    "\n",
    "nested = [[1, 2], [3, 4], [5, 6]]\n",
    "result = flatten_list(nested)\n",
    "\n",
    "# Printing the result\n",
    "print(result)"
   ]
  },
  {
   "cell_type": "markdown",
   "id": "89e77dfb",
   "metadata": {},
   "source": [
    "\n",
    "---\n",
    "\n",
    "### Exercise 41:\n",
    "Use the `enumerate()` function to iterate through the list `[\"apple\", \"banana\", \"cherry\"]` and print the index and value.\n"
   ]
  },
  {
   "cell_type": "code",
   "execution_count": 95,
   "id": "287d36e1",
   "metadata": {},
   "outputs": [
    {
     "name": "stdout",
     "output_type": "stream",
     "text": [
      "Index: 0, Value: apple\n",
      "Index: 1, Value: banana\n",
      "Index: 2, Value: cherry\n"
     ]
    }
   ],
   "source": [
    "# Exercise 41\n",
    "x = [\"apple\", \"banana\", \"cherry\"]\n",
    "\n",
    "for index, value in enumerate(x):\n",
    "    print(f\"Index: {index}, Value: {value}\")"
   ]
  },
  {
   "cell_type": "markdown",
   "id": "ce43eb37",
   "metadata": {},
   "source": [
    "\n",
    "---\n",
    "\n",
    "### Exercise 42:\n",
    "Write a Python program that checks if a tuple is empty.\n"
   ]
  },
  {
   "cell_type": "code",
   "execution_count": 96,
   "id": "dffe61c2",
   "metadata": {},
   "outputs": [
    {
     "name": "stdout",
     "output_type": "stream",
     "text": [
      "The tuple is empty.\n"
     ]
    }
   ],
   "source": [
    "# Exercise 42\n",
    "my_tuple = ()\n",
    "if not my_tuple:\n",
    "    print(\"The tuple is empty.\")\n",
    "else:\n",
    "    print(\"The tuple is not empty.\")\n"
   ]
  },
  {
   "cell_type": "markdown",
   "id": "b77d431a",
   "metadata": {},
   "source": [
    "\n",
    "---\n",
    "\n",
    "### Exercise 43:\n",
    "Create a list of even numbers between 1 and 20 using the `range()` function.\n"
   ]
  },
  {
   "cell_type": "code",
   "execution_count": 97,
   "id": "e7668e50",
   "metadata": {},
   "outputs": [
    {
     "name": "stdout",
     "output_type": "stream",
     "text": [
      "[2, 4, 6, 8, 10, 12, 14, 16, 18, 20]\n"
     ]
    }
   ],
   "source": [
    "# Exercise 43\n",
    "even_numbers = list(range(2, 21, 2))\n",
    "print(even_numbers)"
   ]
  },
  {
   "cell_type": "markdown",
   "id": "acdaed92",
   "metadata": {},
   "source": [
    "\n",
    "---\n",
    "\n",
    "### Exercise 44:\n",
    "Write a Python function that takes a list of numbers as input and returns the list in reverse order.\n"
   ]
  },
  {
   "cell_type": "code",
   "execution_count": 102,
   "id": "d67bdd24",
   "metadata": {},
   "outputs": [
    {
     "name": "stdout",
     "output_type": "stream",
     "text": [
      "[50, 40, 30, 20, 10]\n"
     ]
    }
   ],
   "source": [
    "# Exercise 44\n",
    "def reverse_list(numbers):\n",
    "    return numbers[::-1]\n",
    "my_list = [10, 20, 30, 40, 50]\n",
    "reversed_list = reverse_list(my_list)\n",
    "print(reversed_list)"
   ]
  },
  {
   "cell_type": "markdown",
   "id": "5354b3c4",
   "metadata": {},
   "source": [
    "\n",
    "---\n",
    "\n",
    "### Exercise 45:\n",
    "Create a dictionary comprehension that maps numbers from 1 to 5 to their cubes.\n"
   ]
  },
  {
   "cell_type": "code",
   "execution_count": 103,
   "id": "231f0012",
   "metadata": {},
   "outputs": [
    {
     "name": "stdout",
     "output_type": "stream",
     "text": [
      "{1: 1, 2: 8, 3: 27, 4: 64, 5: 125}\n"
     ]
    }
   ],
   "source": [
    "# Exercise 45\n",
    "cubes = {n: n**3 for n in range(1, 6)}\n",
    "\n",
    "# Printing the result\n",
    "print(cubes)"
   ]
  },
  {
   "cell_type": "markdown",
   "id": "faabb654",
   "metadata": {},
   "source": [
    "\n",
    "---\n",
    "\n",
    "### Exercise 46:\n",
    "Write a Python program that creates a new list containing only the unique elements of the list `[1, 2, 2, 3, 4, 4, 5]`.\n"
   ]
  },
  {
   "cell_type": "code",
   "execution_count": 104,
   "id": "3b769de9",
   "metadata": {},
   "outputs": [
    {
     "name": "stdout",
     "output_type": "stream",
     "text": [
      "[1, 2, 3, 4, 5]\n"
     ]
    }
   ],
   "source": [
    "# Exercise 46\n",
    "my_list = [1, 2, 2, 3, 4, 4, 5]\n",
    "\n",
    "# Creating a new list with unique elements\n",
    "unique_list = list(set(my_list))\n",
    "\n",
    "# Printing the result\n",
    "print(unique_list)"
   ]
  },
  {
   "cell_type": "markdown",
   "id": "dbe53215",
   "metadata": {},
   "source": [
    "\n",
    "---\n",
    "\n",
    "### Exercise 47:\n",
    "Write a Python function that takes a list of dictionaries and returns a list of the values for a given key.\n"
   ]
  },
  {
   "cell_type": "code",
   "execution_count": 108,
   "id": "f560389e",
   "metadata": {},
   "outputs": [
    {
     "name": "stdout",
     "output_type": "stream",
     "text": [
      "[25, 30]\n"
     ]
    }
   ],
   "source": [
    "# Function to get values for a given key from a list of dictionaries\n",
    "def get_values(dict_list, key):\n",
    "    return [d[key] for d in dict_list if key in d]\n",
    "\n",
    "\n",
    "my_dicts = [\n",
    "    {\"name\": \"Alice\", \"age\": 25},\n",
    "    {\"name\": \"Bob\", \"age\": 30},\n",
    "    {\"name\": \"Charlie\"}\n",
    "]\n",
    "\n",
    "result = get_values(my_dicts, \"age\")\n",
    "\n",
    "print(result)\n"
   ]
  },
  {
   "cell_type": "markdown",
   "id": "297c79ff",
   "metadata": {},
   "source": [
    "\n",
    "---\n",
    "\n",
    "### Exercise 48:\n",
    "Write a Python function that uses a generator to yield the Fibonacci sequence up to `n` terms.\n"
   ]
  },
  {
   "cell_type": "code",
   "execution_count": 110,
   "id": "63380ce6",
   "metadata": {},
   "outputs": [
    {
     "name": "stdout",
     "output_type": "stream",
     "text": [
      "0 1 1 2 3 5 8 13 21 34 "
     ]
    }
   ],
   "source": [
    "# Exercise 48\n",
    "def fibonacci(n):\n",
    "    a, b = 0, 1\n",
    "    for _ in range(n):\n",
    "        yield a\n",
    "        a, b = b, a + b\n",
    "for num in fibonacci(10):\n",
    "    print(num, end=\" \")"
   ]
  },
  {
   "cell_type": "markdown",
   "id": "45f7536e",
   "metadata": {},
   "source": [
    "\n",
    "---\n",
    "\n",
    "### Exercise 49:\n",
    "Write a Python function that takes a string and returns a list of all unique characters in the string.\n"
   ]
  },
  {
   "cell_type": "code",
   "execution_count": 115,
   "id": "bab510f2",
   "metadata": {},
   "outputs": [
    {
     "name": "stdout",
     "output_type": "stream",
     "text": [
      "['h', 'e', 'l', 'o', ' ', 'w', 'r', 'd']\n"
     ]
    }
   ],
   "source": [
    "# Exercise 49\n",
    "def unique_characters(s):\n",
    "    seen = set()\n",
    "    unique_chars = []\n",
    "    for char in s:\n",
    "        if char not in seen:\n",
    "            seen.add(char)\n",
    "            unique_chars.append(char)\n",
    "    return unique_chars\n",
    "\n",
    "# Example usage\n",
    "input_string = \"hello world\"\n",
    "result = unique_characters(input_string)\n",
    "\n",
    "# Printing the result\n",
    "print(result)\n",
    "\n",
    "\n"
   ]
  },
  {
   "cell_type": "markdown",
   "id": "79cfed08",
   "metadata": {},
   "source": [
    "\n",
    "---\n",
    "\n",
    "### Exercise 50:\n",
    "Write a Python function that merges two sorted lists into a single sorted list.\n"
   ]
  },
  {
   "cell_type": "code",
   "execution_count": 117,
   "id": "7fcb6676",
   "metadata": {},
   "outputs": [
    {
     "name": "stdout",
     "output_type": "stream",
     "text": [
      "[1, 2, 3, 4, 5, 6, 7, 8]\n"
     ]
    }
   ],
   "source": [
    "# Exercise 50\n",
    "# Function to merge two sorted lists into a single sorted list\n",
    "def merge_sorted_lists(list1, list2):\n",
    "    merged = []\n",
    "    i, j = 0, 0\n",
    "\n",
    "    while i < len(list1) and j < len(list2):\n",
    "        if list1[i] <= list2[j]:\n",
    "            merged.append(list1[i])\n",
    "            i += 1\n",
    "        else:\n",
    "            merged.append(list2[j])\n",
    "            j += 1\n",
    "\n",
    "    merged.extend(list1[i:])\n",
    "    merged.extend(list2[j:])\n",
    "\n",
    "    return merged\n",
    "\n",
    "\n",
    "list_a = [1, 3, 5, 7]\n",
    "list_b = [2, 4, 6, 8]\n",
    "result = merge_sorted_lists(list_a, list_b)\n",
    "\n",
    "print(result)\n"
   ]
  },
  {
   "cell_type": "markdown",
   "id": "4359c140",
   "metadata": {},
   "source": [
    "\n",
    "---\n",
    "\n",
    "### Exercise 51:\n",
    "Use the\n",
    "\n",
    " `filter()` function to filter out odd numbers from the list `[1, 2, 3, 4, 5, 6]`.\n"
   ]
  },
  {
   "cell_type": "code",
   "execution_count": 118,
   "id": "3ec07449",
   "metadata": {},
   "outputs": [
    {
     "name": "stdout",
     "output_type": "stream",
     "text": [
      "[2, 4, 6]\n"
     ]
    }
   ],
   "source": [
    "# Exercise 51\n",
    "numbers = [1, 2, 3, 4, 5, 6]\n",
    "even_numbers = list(filter(lambda x: x % 2 == 0, numbers))\n",
    "\n",
    "# Printing the result\n",
    "print(even_numbers)"
   ]
  },
  {
   "cell_type": "markdown",
   "id": "311d2578",
   "metadata": {},
   "source": [
    "\n",
    "---\n",
    "\n",
    "### Exercise 52:\n",
    "Write a Python program that converts a list of tuples `[(1, 2), (3, 4), (5, 6)]` into a dictionary.\n"
   ]
  },
  {
   "cell_type": "code",
   "execution_count": 120,
   "id": "abb42173",
   "metadata": {},
   "outputs": [
    {
     "name": "stdout",
     "output_type": "stream",
     "text": [
      "{1: 2, 3: 4, 5: 6}\n"
     ]
    }
   ],
   "source": [
    "# Exercise 52\n",
    "tuple_list = [(1, 2), (3, 4), (5, 6)]\n",
    "result_dict = dict(tuple_list)\n",
    "print(result_dict)"
   ]
  },
  {
   "cell_type": "markdown",
   "id": "85fd7247",
   "metadata": {},
   "source": [
    "\n",
    "---\n",
    "\n",
    "### Exercise 53:\n",
    "Write a Python function that takes two sets and returns their symmetric difference.\n"
   ]
  },
  {
   "cell_type": "code",
   "execution_count": 128,
   "id": "256f45dc",
   "metadata": {},
   "outputs": [
    {
     "name": "stdout",
     "output_type": "stream",
     "text": [
      "{1, 2, 5, 6}\n"
     ]
    }
   ],
   "source": [
    "# Exercise 53\n",
    "def symmetric_difference(set1, set2):\n",
    "    return set1.symmetric_difference(set2)\n",
    "a = {1, 2, 3, 4}\n",
    "b = {3, 4, 5, 6}\n",
    "result = symmetric_difference(a, b)\n",
    "\n",
    "# Printing the result\n",
    "print(result)\n"
   ]
  },
  {
   "cell_type": "markdown",
   "id": "3583669c",
   "metadata": {},
   "source": [
    "\n",
    "---\n",
    "\n",
    "### Exercise 54:\n",
    "Write a Python program that finds the common elements in three lists `list1`, `list2`, and `list3`.\n"
   ]
  },
  {
   "cell_type": "code",
   "execution_count": 129,
   "id": "d7d8ee5e",
   "metadata": {},
   "outputs": [
    {
     "name": "stdout",
     "output_type": "stream",
     "text": [
      "Common elements: [5]\n"
     ]
    }
   ],
   "source": [
    "# Exercise 54\n",
    "list1 = [1, 2, 3, 4, 5]\n",
    "list2 = [3, 4, 5, 6, 7]\n",
    "list3 = [5, 6, 7, 8, 9]\n",
    "\n",
    "common_elements = set(list1) & set(list2) & set(list3)\n",
    "common_elements = list(common_elements)\n",
    "print(\"Common elements:\", common_elements)"
   ]
  },
  {
   "cell_type": "markdown",
   "id": "9a25e857",
   "metadata": {},
   "source": [
    "\n",
    "---\n",
    "\n",
    "### Exercise 55:\n",
    "Write a Python function that returns the factorial of a number using recursion.\n"
   ]
  },
  {
   "cell_type": "code",
   "execution_count": 133,
   "id": "ebc5c223",
   "metadata": {},
   "outputs": [
    {
     "name": "stdout",
     "output_type": "stream",
     "text": [
      "Factorial of 1 is 1\n"
     ]
    }
   ],
   "source": [
    "# Exercise 55\n",
    "def factorial(n):\n",
    "    if n == 0 or n == 1:\n",
    "        return 1  \n",
    "    else:\n",
    "        return n * factorial(n - 1)  \n",
    "number = 1\n",
    "result = factorial(number)\n",
    "print(f\"Factorial of {number} is {result}\")"
   ]
  },
  {
   "cell_type": "markdown",
   "id": "b54aac43",
   "metadata": {},
   "source": [
    "\n",
    "---\n",
    "\n",
    "### Exercise 56:\n",
    "Write a Python program that removes all empty strings from the list `[\"apple\", \"\", \"banana\", \"\", \"cherry\"]`.\n"
   ]
  },
  {
   "cell_type": "code",
   "execution_count": 138,
   "id": "7fde547c",
   "metadata": {},
   "outputs": [
    {
     "name": "stdout",
     "output_type": "stream",
     "text": [
      "['apple', 'banana', 'cherry']\n"
     ]
    }
   ],
   "source": [
    "# Exercise 56\n",
    "fruits = [\"apple\", \"\", \"banana\", \"\", \"cherry\"]\n",
    "filtered_fruits = [fruit for fruit in fruits if fruit != \"\"]\n",
    "print(filtered_fruits)\n"
   ]
  },
  {
   "cell_type": "markdown",
   "id": "a698981c",
   "metadata": {},
   "source": [
    "\n",
    "---\n",
    "\n",
    "### Exercise 57:\n",
    "Write a Python function that takes a dictionary and returns a new dictionary with the keys and values swapped.\n"
   ]
  },
  {
   "cell_type": "code",
   "execution_count": 140,
   "id": "ab632d15",
   "metadata": {},
   "outputs": [
    {
     "name": "stdout",
     "output_type": "stream",
     "text": [
      "{1: 'a', 2: 'b', 3: 'c'}\n"
     ]
    }
   ],
   "source": [
    "# Exercise 57\n",
    "\n",
    "def swap_dict(d):\n",
    "    return {value: key for key, value in d.items()}\n",
    "original_dict = {'a': 1, 'b': 2, 'c': 3}\n",
    "swapped_dict = swap_dict(original_dict)\n",
    "print(swapped_dict)"
   ]
  },
  {
   "cell_type": "markdown",
   "id": "dfdc2034",
   "metadata": {},
   "source": [
    "\n",
    "---\n",
    "\n",
    "### Exercise 58:\n",
    "Write a Python function that takes a list of integers and returns a new list with only the even numbers.\n"
   ]
  },
  {
   "cell_type": "code",
   "execution_count": 142,
   "id": "db0feb48",
   "metadata": {},
   "outputs": [
    {
     "name": "stdout",
     "output_type": "stream",
     "text": [
      "[2, 4, 6, 8]\n"
     ]
    }
   ],
   "source": [
    "# Exercise 58\n",
    "def get_evennumbers(numbers):\n",
    "    return [num for num in numbers if num % 2 == 0]\n",
    "\n",
    "original_list = [1, 2, 3, 4, 5, 6, 7, 8]\n",
    "even_numbers = get_evennumbers(original_list)\n",
    "print(even_numbers)"
   ]
  },
  {
   "cell_type": "markdown",
   "id": "5c14b9e2",
   "metadata": {},
   "source": [
    "\n",
    "---\n",
    "\n",
    "### Exercise 59:\n",
    "Write a Python function that takes a list of tuples and returns a list of the first elements of each tuple.\n"
   ]
  },
  {
   "cell_type": "code",
   "execution_count": 143,
   "id": "e481b81a",
   "metadata": {},
   "outputs": [
    {
     "name": "stdout",
     "output_type": "stream",
     "text": [
      "[1, 2, 3]\n"
     ]
    }
   ],
   "source": [
    "# Exercise 59\n",
    "def get_first_elements(tuple_list):\n",
    "    return [t[0] for t in tuple_list]\n",
    "tuples = [(1, 'a'), (2, 'b'), (3, 'c')]\n",
    "first_elements = get_first_elements(tuples)\n",
    "\n",
    "print(first_elements)"
   ]
  },
  {
   "cell_type": "markdown",
   "id": "5ffc4a73",
   "metadata": {},
   "source": [
    "\n",
    "---\n",
    "\n",
    "### Exercise 60:\n",
    "Write a Python program that removes duplicates from a list without changing the order of elements.\n"
   ]
  },
  {
   "cell_type": "code",
   "execution_count": 145,
   "id": "69b5483c",
   "metadata": {},
   "outputs": [
    {
     "name": "stdout",
     "output_type": "stream",
     "text": [
      "[1, 2, 3, 4, 5]\n"
     ]
    }
   ],
   "source": [
    "# Exercise 60\n",
    "def remove_duplicates(lst):\n",
    "    seen = set()\n",
    "    result = []\n",
    "    for item in lst:\n",
    "        if item not in seen:\n",
    "            seen.add(item)\n",
    "            result.append(item)\n",
    "    return result\n",
    "original_list = [1, 2, 2, 3, 4, 3, 5, 1]\n",
    "unique_list = remove_duplicates(original_list)\n",
    "\n",
    "# Printing the result\n",
    "print(unique_list)\n"
   ]
  },
  {
   "cell_type": "markdown",
   "id": "1b9b50b4",
   "metadata": {},
   "source": [
    "\n",
    "---\n",
    "\n",
    "### Exercise 61:\n",
    "Use the `map()` function to convert a list of strings to a list of their lengths.\n"
   ]
  },
  {
   "cell_type": "code",
   "execution_count": 148,
   "id": "4a4781f3",
   "metadata": {},
   "outputs": [
    {
     "name": "stdout",
     "output_type": "stream",
     "text": [
      "[6, 8, 7]\n"
     ]
    }
   ],
   "source": [
    "# Exercise 61\n",
    "words = [\"Samuel\", \"Delphine\", \"Migisha\"]\n",
    "lengths = list(map(len, words))\n",
    "print(lengths)"
   ]
  },
  {
   "cell_type": "markdown",
   "id": "320f3aca",
   "metadata": {},
   "source": [
    "\n",
    "---\n",
    "\n",
    "### Exercise 62:\n",
    "Write a Python program that calculates the average of a list of numbers.\n"
   ]
  },
  {
   "cell_type": "code",
   "execution_count": 151,
   "id": "0ddf6294",
   "metadata": {},
   "outputs": [
    {
     "name": "stdout",
     "output_type": "stream",
     "text": [
      "Average: 33.2\n"
     ]
    }
   ],
   "source": [
    "# Exercise 62\n",
    "def calculate_average(n):\n",
    "    if not n:\n",
    "        return 0  \n",
    "    return sum(n) / len(n)\n",
    "num_list = [80, 6, 30, 0, 50]\n",
    "average = calculate_average(num_list)\n",
    "\n",
    "print(f\"Average: {average}\")\n"
   ]
  },
  {
   "cell_type": "markdown",
   "id": "ada7c412",
   "metadata": {},
   "source": [
    "\n",
    "---\n",
    "\n",
    "### Exercise 63:\n",
    "Write a Python function that generates a list of the first `n` Fibonacci numbers.\n"
   ]
  },
  {
   "cell_type": "code",
   "execution_count": 152,
   "id": "5c1281c7",
   "metadata": {},
   "outputs": [
    {
     "name": "stdout",
     "output_type": "stream",
     "text": [
      "First 10 Fibonacci numbers: [0, 1, 1, 2, 3, 5, 8, 13, 21, 34]\n"
     ]
    }
   ],
   "source": [
    "# Exercise 63\n",
    "def generate_fibonacci(n):\n",
    "    if n <= 0:\n",
    "        return []\n",
    "    elif n == 1:\n",
    "        return [0]\n",
    "    fib = [0, 1]\n",
    "    for _ in range(2, n):\n",
    "        fib.append(fib[-1] + fib[-2])\n",
    "    return fib\n",
    "n = 10\n",
    "fibonacci_list = generate_fibonacci(n)\n",
    "print(f\"First {n} Fibonacci numbers:\", fibonacci_list)\n"
   ]
  },
  {
   "cell_type": "markdown",
   "id": "6a67ece7",
   "metadata": {},
   "source": [
    "\n",
    "---\n",
    "\n",
    "### Exercise 64:\n",
    "Write a Python program that counts how many times each element appears in the list `[\"apple\", \"banana\", \"apple\", \"cherry\"]`.\n"
   ]
  },
  {
   "cell_type": "code",
   "execution_count": 153,
   "id": "57213561",
   "metadata": {},
   "outputs": [
    {
     "name": "stdout",
     "output_type": "stream",
     "text": [
      "{'apple': 2, 'banana': 1, 'cherry': 1}\n"
     ]
    }
   ],
   "source": [
    "# Exercise 64\n",
    "def count_elements(lst):\n",
    "    counts = {}\n",
    "    for item in lst:\n",
    "        if item in counts:\n",
    "            counts[item] += 1\n",
    "        else:\n",
    "            counts[item] = 1\n",
    "    return counts\n",
    "\n",
    "# Example usage\n",
    "fruits = [\"apple\", \"banana\", \"apple\", \"cherry\"]\n",
    "result = count_elements(fruits)\n",
    "\n",
    "# Printing the result\n",
    "print(result)"
   ]
  },
  {
   "cell_type": "markdown",
   "id": "aa829fa6",
   "metadata": {},
   "source": [
    "\n",
    "---\n",
    "\n",
    "### Exercise 65:\n",
    "Write a Python program that removes all occurrences of a specific value from a list.\n"
   ]
  },
  {
   "cell_type": "code",
   "execution_count": 157,
   "id": "16b868ee",
   "metadata": {},
   "outputs": [
    {
     "name": "stdout",
     "output_type": "stream",
     "text": [
      "[1, 3, 4, 5]\n"
     ]
    }
   ],
   "source": [
    "# Exercise 65\n",
    "def remove_value(lst, value):\n",
    "    return [item for item in lst if item != value]\n",
    "original_list = [1, 2, 3, 2, 4, 2, 5]\n",
    "value_to_remove = 2\n",
    "filtered_list = remove_value(original_list, value_to_remove)\n",
    "print(filtered_list)"
   ]
  },
  {
   "cell_type": "markdown",
   "id": "d67afd7d",
   "metadata": {},
   "source": [
    "\n",
    "---\n",
    "\n",
    "### Exercise 66:\n",
    "Write a Python function that takes a list of strings and returns a list of the strings that start with a vowel.\n"
   ]
  },
  {
   "cell_type": "code",
   "execution_count": 161,
   "id": "51721e69",
   "metadata": {},
   "outputs": [
    {
     "name": "stdout",
     "output_type": "stream",
     "text": [
      "['elephant', 'igloo', 'ostrich', 'ant', 'eagle']\n"
     ]
    }
   ],
   "source": [
    "# Exercise 66\n",
    "def strings_starting_with_vowel(lst):\n",
    "    vowels = {'a', 'e', 'i', 'o', 'u'}\n",
    "    result = [s for s in lst if s and s[0].lower() in vowels]\n",
    "    return result\n",
    "    \n",
    "words = [\"elephant\", \"table\", \"igloo\", \"cup\", \"ostrich\", \"ant\",\"eagle\"]\n",
    "vowel_words = strings_starting_with_vowel(words)\n",
    "print(vowel_words)"
   ]
  },
  {
   "cell_type": "markdown",
   "id": "25cef748",
   "metadata": {},
   "source": [
    "\n",
    "---\n",
    "\n",
    "### Exercise 67:\n",
    "Write a Python program that finds the intersection of two sets `set1` and `set2`.\n"
   ]
  },
  {
   "cell_type": "code",
   "execution_count": 162,
   "id": "e72a1ab5",
   "metadata": {},
   "outputs": [
    {
     "name": "stdout",
     "output_type": "stream",
     "text": [
      "{3, 4, 6}\n"
     ]
    }
   ],
   "source": [
    "# Exercise 67\n",
    "def find_intersection(set1, set2):\n",
    "    return set1 & set2 \n",
    "\n",
    "set1 = {1, 6, 3, 4}\n",
    "set2 = {3, 4, 5, 6}\n",
    "intersection = find_intersection(set1, set2)\n",
    "print(intersection)"
   ]
  },
  {
   "cell_type": "markdown",
   "id": "7f72b8f0",
   "metadata": {},
   "source": [
    "\n",
    "---\n",
    "\n",
    "### Exercise 68:\n",
    "Write a Python function that flattens a nested list.\n"
   ]
  },
  {
   "cell_type": "code",
   "execution_count": 163,
   "id": "3f11ec5b",
   "metadata": {},
   "outputs": [
    {
     "name": "stdout",
     "output_type": "stream",
     "text": [
      "[1, 2, 3, 4, 5, 6]\n"
     ]
    }
   ],
   "source": [
    "# Exercise 68\n",
    "def flatten_list(nested_list):\n",
    "    flat_list = []\n",
    "    for sublist in nested_list:\n",
    "        for item in sublist:\n",
    "            flat_list.append(item)\n",
    "    return flat_list\n",
    "nested = [[1, 2], [3, 4], [5, 6]]\n",
    "flattened = flatten_list(nested)\n",
    "print(flattened)"
   ]
  },
  {
   "cell_type": "markdown",
   "id": "6f048ddb",
   "metadata": {},
   "source": [
    "\n",
    "---\n",
    "\n",
    "### Exercise 69:\n",
    "Write a Python program that checks if all the elements in a list are unique.\n"
   ]
  },
  {
   "cell_type": "code",
   "execution_count": 166,
   "id": "3ed01a59",
   "metadata": {},
   "outputs": [
    {
     "name": "stdout",
     "output_type": "stream",
     "text": [
      "True\n"
     ]
    }
   ],
   "source": [
    "# Exercise 69\n",
    "def all_unique(lst):\n",
    "    return len(lst) == len(set(lst))\n",
    "\n",
    "example= [1, 2, 3, 4, 5]\n",
    "print(all_unique(example1))"
   ]
  },
  {
   "cell_type": "markdown",
   "id": "39f80d26",
   "metadata": {},
   "source": [
    "\n",
    "---\n",
    "\n",
    "### Exercise 70:\n",
    "Use the `reduce()` function from the `functools` module to multiply all elements in a list.\n"
   ]
  },
  {
   "cell_type": "code",
   "execution_count": 172,
   "id": "c9392f51",
   "metadata": {},
   "outputs": [
    {
     "name": "stdout",
     "output_type": "stream",
     "text": [
      "120\n"
     ]
    }
   ],
   "source": [
    "# Exercise 70\n",
    "from functools import reduce\n",
    "def multiply(x, y):\n",
    "    return x * y\n",
    "def multiply_list(lst):\n",
    "    return reduce(multiply, lst)\n",
    "\n",
    "m = [1, 2, 3, 4, 5]\n",
    "result = multiply_list(m)\n",
    "\n",
    "print(result)\n"
   ]
  },
  {
   "cell_type": "markdown",
   "id": "405c9fac",
   "metadata": {},
   "source": [
    "\n",
    "---\n",
    "\n",
    "### Exercise 71:\n",
    "Write a Python function that takes a list of strings and returns a dictionary where keys are strings and values are their lengths.\n"
   ]
  },
  {
   "cell_type": "code",
   "execution_count": 176,
   "id": "5a22c6ba",
   "metadata": {},
   "outputs": [
    {
     "name": "stdout",
     "output_type": "stream",
     "text": [
      "{'mango': 5, 'peach': 5, 'pineapple': 9}\n"
     ]
    }
   ],
   "source": [
    "# Exercise 71\n",
    "def words_lengths(word_list):\n",
    "    return {x: len(x) for x in word_list}\n",
    "fruits = [\"mango\", \"peach\", \"pineapple\"]\n",
    "lengths_dict = words_lengths(fruits)\n",
    "\n",
    "print(lengths_dict)"
   ]
  },
  {
   "cell_type": "markdown",
   "id": "8447d495",
   "metadata": {},
   "source": [
    "\n",
    "---\n",
    "\n",
    "### Exercise 72:\n",
    "Write a Python program that counts the number of vowels in a string.\n"
   ]
  },
  {
   "cell_type": "code",
   "execution_count": 178,
   "id": "a97366b2",
   "metadata": {},
   "outputs": [
    {
     "name": "stdout",
     "output_type": "stream",
     "text": [
      "10\n"
     ]
    }
   ],
   "source": [
    "# Exercise 72\n",
    "def count_vowels(text):\n",
    "    vowels = \"aeiouAEIOU\"\n",
    "    count = 0\n",
    "    for char in text:\n",
    "        if char in vowels:\n",
    "            count += 1\n",
    "    return count\n",
    "sentence = \"Hello, how many vowels are here?\"\n",
    "vowel_count = count_vowels(sentence)\n",
    "\n",
    "print(vowel_count)"
   ]
  },
  {
   "cell_type": "markdown",
   "id": "a2daf99e",
   "metadata": {},
   "source": [
    "\n",
    "---\n",
    "\n",
    "### Exercise 73:\n",
    "Create a list of tuples where each tuple contains a number from 1 to 5 and its factorial.\n"
   ]
  },
  {
   "cell_type": "code",
   "execution_count": 179,
   "id": "26a95d77",
   "metadata": {},
   "outputs": [
    {
     "name": "stdout",
     "output_type": "stream",
     "text": [
      "[(1, 1), (2, 2), (3, 6), (4, 24), (5, 120)]\n"
     ]
    }
   ],
   "source": [
    "# Exercise 73\n",
    "import math\n",
    "factorial_list = [(num, math.factorial(num)) for num in range(1, 6)]\n",
    "print(factorial_list)"
   ]
  },
  {
   "cell_type": "markdown",
   "id": "574c7b40",
   "metadata": {},
   "source": [
    "\n",
    "---\n",
    "\n",
    "### Exercise 74:\n",
    "Write a Python program that converts a list of dictionaries into a single dictionary by merging them.\n"
   ]
  },
  {
   "cell_type": "code",
   "execution_count": 180,
   "id": "fe108bc9",
   "metadata": {},
   "outputs": [
    {
     "name": "stdout",
     "output_type": "stream",
     "text": [
      "{'a': 5, 'b': 2, 'c': 3, 'd': 4}\n"
     ]
    }
   ],
   "source": [
    "# Exercise 74\n",
    "# Function to merge a list of dictionaries into one\n",
    "def merge_dicts(dict_list):\n",
    "    merged = {}\n",
    "    for d in dict_list:\n",
    "        merged.update(d)  # update merges the current dictionary into merged\n",
    "    return merged\n",
    "\n",
    "# Example usage\n",
    "dicts = [{'a': 1, 'b': 2}, {'c': 3}, {'d': 4, 'a': 5}]\n",
    "result = merge_dicts(dicts)\n",
    "\n",
    "print(result)\n"
   ]
  },
  {
   "cell_type": "markdown",
   "id": "36381b03",
   "metadata": {},
   "source": [
    "\n",
    "---\n",
    "\n",
    "### Exercise 75:\n",
    "Write a Python function that checks if a set is a subset of another set.\n"
   ]
  },
  {
   "cell_type": "code",
   "execution_count": 181,
   "id": "a8ce9282",
   "metadata": {},
   "outputs": [
    {
     "name": "stdout",
     "output_type": "stream",
     "text": [
      "True\n",
      "False\n"
     ]
    }
   ],
   "source": [
    "# Exercise 75\n",
    "def is_subset(set1, set2):\n",
    "    return set1.issubset(set2)\n",
    "\n",
    "# Example usage\n",
    "A = {1, 2, 3}\n",
    "B = {1, 2, 3, 4, 5}\n",
    "\n",
    "print(is_subset(A, B))  # True\n",
    "print(is_subset(B, A))\n"
   ]
  },
  {
   "cell_type": "markdown",
   "id": "5fa98235",
   "metadata": {},
   "source": [
    "\n",
    "---\n",
    "\n",
    "### Exercise 76:\n",
    "Write a Python program that sorts a list of tuples based on the second element in each tuple.\n"
   ]
  },
  {
   "cell_type": "code",
   "execution_count": 184,
   "id": "547434ea",
   "metadata": {},
   "outputs": [
    {
     "name": "stdout",
     "output_type": "stream",
     "text": [
      "[(4, 1), (3, 2), (1, 3), (2, 5)]\n"
     ]
    }
   ],
   "source": [
    "# Exercise 76\n",
    "\n",
    "a = [(1, 3), (4, 1), (2, 5), (3, 2)]\n",
    "def second_element(item):\n",
    "    return item[1]\n",
    "\n",
    "# Sort the list using the function as the key\n",
    "sorted_data = sorted(a, key= second_element)\n",
    "\n",
    "print(sorted_data)"
   ]
  },
  {
   "cell_type": "markdown",
   "id": "3713ff96",
   "metadata": {},
   "source": [
    "\n",
    "---\n",
    "\n",
    "### Exercise 77:\n",
    "Write a Python function that takes a list of integers and returns a new list with only the positive integers.\n"
   ]
  },
  {
   "cell_type": "code",
   "execution_count": 186,
   "id": "6f109433",
   "metadata": {},
   "outputs": [
    {
     "name": "stdout",
     "output_type": "stream",
     "text": [
      "[3, 5, 7]\n"
     ]
    }
   ],
   "source": [
    "# Exercise 77\n",
    "def filter_positive(numbers):\n",
    "    return [num for num in numbers if num > 0]\n",
    "\n",
    "nums = [-2, 3, 0, 5, -1, 7]\n",
    "positive_nums = filter_positive(nums)\n",
    "\n",
    "print(positive_nums)"
   ]
  },
  {
   "cell_type": "markdown",
   "id": "fd1b38b2",
   "metadata": {},
   "source": [
    "\n",
    "---\n",
    "\n",
    "### Exercise 78:\n",
    "Write a Python function that takes two sets and returns their union.\n"
   ]
  },
  {
   "cell_type": "code",
   "execution_count": 188,
   "id": "9ebbf168",
   "metadata": {},
   "outputs": [
    {
     "name": "stdout",
     "output_type": "stream",
     "text": [
      "{11, 12, 13, 14, 15}\n"
     ]
    }
   ],
   "source": [
    "# Exercise 78\n",
    "def union_sets(set1, set2):\n",
    "    return set1.union(set2)\n",
    "\n",
    "A = {11, 12, 13}\n",
    "B = {13, 14, 15}\n",
    "\n",
    "result = union_sets(A, B)\n",
    "print(result)"
   ]
  },
  {
   "cell_type": "markdown",
   "id": "3810cede",
   "metadata": {},
   "source": [
    "\n",
    "---\n",
    "\n",
    "### Exercise 79:\n",
    "Write a Python function that takes a list of numbers and returns the product of all the numbers.\n"
   ]
  },
  {
   "cell_type": "code",
   "execution_count": 191,
   "id": "6051255e",
   "metadata": {},
   "outputs": [
    {
     "name": "stdout",
     "output_type": "stream",
     "text": [
      "40\n"
     ]
    }
   ],
   "source": [
    "# Exercise 79\n",
    "def product_list(n):\n",
    "    product = 1\n",
    "    for num in n:\n",
    "        product *= num\n",
    "    return product\n",
    "nums = [2, 5, 4]\n",
    "result = product_list(nums)\n",
    "print(result)"
   ]
  },
  {
   "cell_type": "markdown",
   "id": "9e0df32b",
   "metadata": {},
   "source": [
    "\n",
    "---\n",
    "\n",
    "### Exercise 80:\n",
    "Write a Python program that converts a list of characters into a string.\n"
   ]
  },
  {
   "cell_type": "code",
   "execution_count": 196,
   "id": "379112dd",
   "metadata": {},
   "outputs": [
    {
     "name": "stdout",
     "output_type": "stream",
     "text": [
      "Hello Depha\n"
     ]
    }
   ],
   "source": [
    "# Exercise 80\n",
    "def list_to_string(char_list):\n",
    "    return ''.join(char_list)\n",
    "\n",
    "# Example usage\n",
    "chars = ['H', 'e', 'l', 'l', 'o',' ','Depha']\n",
    "result = list_to_string(chars)\n",
    "print(result)"
   ]
  },
  {
   "cell_type": "markdown",
   "id": "146b572c",
   "metadata": {},
   "source": [
    "\n",
    "---\n",
    "\n",
    "### Exercise 81:\n",
    "Write a Python program that finds the second largest number in a list of integers.\n"
   ]
  },
  {
   "cell_type": "code",
   "execution_count": 197,
   "id": "676e61dd",
   "metadata": {},
   "outputs": [
    {
     "name": "stdout",
     "output_type": "stream",
     "text": [
      "7\n"
     ]
    }
   ],
   "source": [
    "# Exercise 81\n",
    "def second_largest(numbers):\n",
    "    unique_numbers = list(set(numbers))  # Remove duplicates\n",
    "    if len(unique_numbers) < 2:\n",
    "        return None  # No second largest if less than 2 unique numbers\n",
    "    unique_numbers.sort(reverse=True)  # Sort descending\n",
    "    return unique_numbers[1]\n",
    "\n",
    "# Example usage\n",
    "nums = [4, 2, 7, 1, 7, 8, 3]\n",
    "result = second_largest(nums)\n",
    "print(result)"
   ]
  },
  {
   "cell_type": "markdown",
   "id": "08bf9c38",
   "metadata": {},
   "source": [
    "\n",
    "---\n",
    "\n",
    "### Exercise 82:\n",
    "Write a Python function that takes a dictionary and returns a list of its keys in sorted order.\n"
   ]
  },
  {
   "cell_type": "code",
   "execution_count": 198,
   "id": "07840783",
   "metadata": {},
   "outputs": [
    {
     "name": "stdout",
     "output_type": "stream",
     "text": [
      "['avocado', 'beans', 'rice']\n"
     ]
    }
   ],
   "source": [
    "# Exercise 82\n",
    "def sorted_keys(d):\n",
    "    return sorted(d.keys())\n",
    "my_dict = {'avocado': 3, 'rice': 5, 'beans': 2}\n",
    "result = sorted_keys(my_dict)\n",
    "print(result)"
   ]
  },
  {
   "cell_type": "markdown",
   "id": "63dcfc04",
   "metadata": {},
   "source": [
    "\n",
    "---\n",
    "\n",
    "### Exercise 83:\n",
    "Write a Python program that finds the most common element in a list.\n"
   ]
  },
  {
   "cell_type": "code",
   "execution_count": 199,
   "id": "2abbdaa6",
   "metadata": {},
   "outputs": [
    {
     "name": "stdout",
     "output_type": "stream",
     "text": [
      "apple\n"
     ]
    }
   ],
   "source": [
    "# Exercise 83\n",
    "from collections import Counter\n",
    "\n",
    "def most_common_element(lst):\n",
    "    if not lst:\n",
    "        return None  # Return None if list is empty\n",
    "    count = Counter(lst)\n",
    "    most_common = count.most_common(1)[0][0]\n",
    "    return most_common\n",
    "\n",
    "# Example usage\n",
    "items = ['apple', 'banana', 'apple', 'cherry', 'banana', 'apple']\n",
    "result = most_common_element(items)\n",
    "print(result)"
   ]
  },
  {
   "cell_type": "markdown",
   "id": "3ac8727c",
   "metadata": {},
   "source": [
    "\n",
    "---\n",
    "\n",
    "### Exercise 84:\n",
    "Write a Python function that takes a list of tuples and returns a list of the tuples sorted by the first element.\n"
   ]
  },
  {
   "cell_type": "code",
   "execution_count": 201,
   "id": "a2f3af06",
   "metadata": {},
   "outputs": [
    {
     "name": "stdout",
     "output_type": "stream",
     "text": [
      "[(1, 'a'), (2, 'b'), (3, 'c')]\n",
      "[(1, 'a'), (2, 'b'), (3, 'c')]\n"
     ]
    }
   ],
   "source": [
    "# Exercise 84\n",
    "def sort_by_first_element(tuples_list):\n",
    "    return sorted(tuples_list, key=lambda x: x[0])\n",
    "\n",
    "# Example usage\n",
    "data = [(3, 'c'), (1, 'a'), (2, 'b')]\n",
    "result = sort_by_first_element(data)\n",
    "print(result)\n",
    "\n",
    "\n",
    "\n",
    "def get_first_element(t):\n",
    "    return t[0]\n",
    "\n",
    "def sort_by_first_element(tuples_list):\n",
    "    return sorted(tuples_list, key=get_first_element)\n",
    "\n",
    "# Example usage\n",
    "data = [(3, 'c'), (1, 'a'), (2, 'b')]\n",
    "result = sort_by_first_element(data)\n",
    "print(result)"
   ]
  },
  {
   "cell_type": "markdown",
   "id": "fe10fcd0",
   "metadata": {},
   "source": [
    "\n",
    "---\n",
    "\n",
    "### Exercise 85:\n",
    "Write a Python program that removes duplicates from a list of dictionaries.\n"
   ]
  },
  {
   "cell_type": "code",
   "execution_count": 202,
   "id": "5da29451",
   "metadata": {},
   "outputs": [
    {
     "name": "stdout",
     "output_type": "stream",
     "text": [
      "[{'name': 'Alice', 'age': 25}, {'name': 'Bob', 'age': 30}, {'name': 'Charlie', 'age': 20}]\n"
     ]
    }
   ],
   "source": [
    "# Exercise 85\n",
    "def remove_duplicates(dict_list):\n",
    "    seen = set()\n",
    "    unique_dicts = []\n",
    "    for d in dict_list:\n",
    "        # Convert dict items to a tuple of sorted key-value pairs to ensure consistent ordering\n",
    "        items_tuple = tuple(sorted(d.items()))\n",
    "        if items_tuple not in seen:\n",
    "            seen.add(items_tuple)\n",
    "            unique_dicts.append(d)\n",
    "    return unique_dicts\n",
    "\n",
    "# Example usage\n",
    "dicts = [\n",
    "    {'name': 'Alice', 'age': 25},\n",
    "    {'name': 'Bob', 'age': 30},\n",
    "    {'name': 'Alice', 'age': 25},  # duplicate\n",
    "    {'name': 'Charlie', 'age': 20}\n",
    "]\n",
    "\n",
    "result = remove_duplicates(dicts)\n",
    "print(result)\n"
   ]
  },
  {
   "cell_type": "markdown",
   "id": "76e005e6",
   "metadata": {},
   "source": [
    "\n",
    "---\n",
    "\n",
    "### Exercise 86:\n",
    "Write a Python function that takes a list of numbers and returns the minimum and maximum numbers in the list.\n"
   ]
  },
  {
   "cell_type": "code",
   "execution_count": 203,
   "id": "2573ccd9",
   "metadata": {},
   "outputs": [
    {
     "name": "stdout",
     "output_type": "stream",
     "text": [
      "Minimum: 1, Maximum: 9\n"
     ]
    }
   ],
   "source": [
    "# Exercise 86\n",
    "def min_and_max(numbers):\n",
    "    if not numbers:\n",
    "        return None, None  # Handle empty list\n",
    "    return min(numbers), max(numbers)\n",
    "\n",
    "# Example usage\n",
    "nums = [4, 7, 1, 9, 3]\n",
    "minimum, maximum = min_and_max(nums)\n",
    "print(f\"Minimum: {minimum}, Maximum: {maximum}\")"
   ]
  },
  {
   "cell_type": "markdown",
   "id": "c13d74a1",
   "metadata": {},
   "source": [
    "\n",
    "---\n",
    "\n",
    "### Exercise 87:\n",
    "Write a Python program that creates a list of tuples from two lists.\n"
   ]
  },
  {
   "cell_type": "code",
   "execution_count": 205,
   "id": "e1e91424",
   "metadata": {},
   "outputs": [
    {
     "name": "stdout",
     "output_type": "stream",
     "text": [
      "[(10, 'm'), (20, 'n'), (30, 'p')]\n"
     ]
    }
   ],
   "source": [
    "# Exercise 87\n",
    "def create_tuples(list1, list2):\n",
    "    return list(zip(list1, list2))\n",
    "\n",
    "list_a = [10, 20, 30]\n",
    "list_b = ['m', 'n', 'p']\n",
    "\n",
    "result = create_tuples(list_a, list_b)\n",
    "print(result)"
   ]
  },
  {
   "cell_type": "markdown",
   "id": "f0f3f4ad",
   "metadata": {},
   "source": [
    "\n",
    "---\n",
    "\n",
    "### Exercise 88:\n",
    "Write a Python function that takes a list of strings and returns a list of the strings in reverse order.\n"
   ]
  },
  {
   "cell_type": "code",
   "execution_count": 206,
   "id": "25b9437c",
   "metadata": {},
   "outputs": [
    {
     "name": "stdout",
     "output_type": "stream",
     "text": [
      "['cherry', 'banana', 'agape']\n"
     ]
    }
   ],
   "source": [
    "# Exercise 88\n",
    "def reverse_strings(strings):\n",
    "    return strings[::-1]\n",
    "\n",
    "# Example usage\n",
    "words = [\"agape\", \"banana\", \"cherry\"]\n",
    "reversed_list = reverse_strings(words)\n",
    "print(reversed_list)\n"
   ]
  },
  {
   "cell_type": "markdown",
   "id": "43dc3593",
   "metadata": {},
   "source": [
    "\n",
    "---\n",
    "\n",
    "### Exercise 89:\n",
    "Write a Python function that takes a list of integers and returns the sum of all odd numbers.\n"
   ]
  },
  {
   "cell_type": "code",
   "execution_count": 209,
   "id": "d44a17e4",
   "metadata": {},
   "outputs": [
    {
     "name": "stdout",
     "output_type": "stream",
     "text": [
      "9\n"
     ]
    }
   ],
   "source": [
    "# Exercise 89\n",
    "def sum_of_odds(numbers):\n",
    "    return sum(num for num in numbers if num % 2 != 0)\n",
    "\n",
    "# Example usage\n",
    "nums = [1, 2, 3, 4, 5, 6]\n",
    "result = sum_of_odds(nums)\n",
    "print(result)\n"
   ]
  },
  {
   "cell_type": "markdown",
   "id": "b494aae8",
   "metadata": {},
   "source": [
    "\n",
    "---\n",
    "\n",
    "### Exercise 90:\n",
    "Write a Python program that checks if a string is a palindrome.\n"
   ]
  },
  {
   "cell_type": "code",
   "execution_count": 210,
   "id": "73fdee3b",
   "metadata": {},
   "outputs": [
    {
     "name": "stdout",
     "output_type": "stream",
     "text": [
      "True\n",
      "False\n"
     ]
    }
   ],
   "source": [
    "# Exercise 90\n",
    "def is_palindrome(s):\n",
    "    # Normalize the string: ignore case and spaces\n",
    "    cleaned = ''.join(char.lower() for char in s if char.isalnum())\n",
    "    return cleaned == cleaned[::-1]\n",
    "\n",
    "# Example usage\n",
    "word1 = \"Racecar\"\n",
    "word2 = \"Hello\"\n",
    "\n",
    "print(is_palindrome(word1))  # True\n",
    "print(is_palindrome(word2))  # False\n"
   ]
  },
  {
   "cell_type": "markdown",
   "id": "632ba2b9",
   "metadata": {},
   "source": [
    "\n",
    "---\n",
    "\n",
    "### Exercise 91:\n",
    "Write a Python program that finds the median of a list of numbers.\n"
   ]
  },
  {
   "cell_type": "code",
   "execution_count": 211,
   "id": "e01eb242",
   "metadata": {},
   "outputs": [
    {
     "name": "stdout",
     "output_type": "stream",
     "text": [
      "3\n",
      "2.5\n"
     ]
    }
   ],
   "source": [
    "# Exercise 91\n",
    "def find_median(numbers):\n",
    "    if not numbers:\n",
    "        return None  # handle empty list\n",
    "    sorted_nums = sorted(numbers)\n",
    "    n = len(sorted_nums)\n",
    "    mid = n // 2\n",
    "\n",
    "    if n % 2 == 1:\n",
    "        # Odd length: middle element\n",
    "        return sorted_nums[mid]\n",
    "    else:\n",
    "        # Even length: average of two middle elements\n",
    "        return (sorted_nums[mid - 1] + sorted_nums[mid]) / 2\n",
    "\n",
    "# Example usage\n",
    "nums1 = [3, 1, 4, 2, 5]\n",
    "nums2 = [3, 1, 4, 2]\n",
    "\n",
    "print(find_median(nums1))  # Output: 3\n",
    "print(find_median(nums2))  # Output: 2.5\n"
   ]
  },
  {
   "cell_type": "markdown",
   "id": "cc98919a",
   "metadata": {},
   "source": [
    "\n",
    "---\n",
    "\n",
    "### Exercise 92:\n",
    "Write a Python function that takes a list of dictionaries and returns a dictionary with the total value for each key.\n"
   ]
  },
  {
   "cell_type": "code",
   "execution_count": 213,
   "id": "4b823f16",
   "metadata": {},
   "outputs": [
    {
     "name": "stdout",
     "output_type": "stream",
     "text": [
      "{'apples': 13, 'oranges': 7, 'bananas': 11}\n"
     ]
    }
   ],
   "source": [
    "# Exercise 92def total_values(dict_list):\n",
    "def total_values(dict_list):\n",
    "    totals = {}\n",
    "    for d in dict_list:\n",
    "        for key, value in d.items():\n",
    "            totals[key] = totals.get(key, 0) + value\n",
    "    return totals\n",
    "\n",
    "# Example usage\n",
    "data = [\n",
    "    {'apples': 10, 'oranges': 5},\n",
    "    {'apples': 3, 'bananas': 7},\n",
    "    {'oranges': 2, 'bananas': 4}\n",
    "]\n",
    "\n",
    "result = total_values(data)\n",
    "print(result)\n"
   ]
  },
  {
   "cell_type": "markdown",
   "id": "2a7b4a1f",
   "metadata": {},
   "source": [
    "\n",
    "---\n",
    "\n",
    "### Exercise 93:\n",
    "Write a Python program that calculates the mode of a list of numbers.\n"
   ]
  },
  {
   "cell_type": "code",
   "execution_count": 214,
   "id": "42035756",
   "metadata": {},
   "outputs": [
    {
     "name": "stdout",
     "output_type": "stream",
     "text": [
      "[3, 4]\n"
     ]
    }
   ],
   "source": [
    "# Exercise 93\n",
    "from collections import Counter\n",
    "\n",
    "def calculate_mode(numbers):\n",
    "    if not numbers:\n",
    "        return None  # handle empty list\n",
    "    count = Counter(numbers)\n",
    "    max_freq = max(count.values())\n",
    "    # Return all numbers that have the max frequency (mode can be multiple)\n",
    "    modes = [num for num, freq in count.items() if freq == max_freq]\n",
    "    if len(modes) == 1:\n",
    "        return modes[0]\n",
    "    return modes\n",
    "nums = [1, 2, 2, 3, 3, 3, 4, 4, 4]\n",
    "print(calculate_mode(nums)) \n",
    "\n"
   ]
  },
  {
   "cell_type": "markdown",
   "id": "b37470a9",
   "metadata": {},
   "source": [
    "\n",
    "---\n",
    "\n",
    "### Exercise 94:\n",
    "Write a Python function that takes a list of numbers and returns the sum of the squares of all the numbers.\n"
   ]
  },
  {
   "cell_type": "code",
   "execution_count": 215,
   "id": "6ce9e87b",
   "metadata": {},
   "outputs": [
    {
     "name": "stdout",
     "output_type": "stream",
     "text": [
      "30\n"
     ]
    }
   ],
   "source": [
    "# Exercise 94\n",
    "def sum_of_squares(numbers):\n",
    "    return sum(num ** 2 for num in numbers)\n",
    "nums = [1, 2, 3, 4]\n",
    "result = sum_of_squares(nums)\n",
    "print(result)\n"
   ]
  },
  {
   "cell_type": "markdown",
   "id": "cd40161b",
   "metadata": {},
   "source": [
    "\n",
    "---\n",
    "\n",
    "### Exercise 95:\n",
    "Write a Python program that creates a list of tuples, where each tuple contains a number and its cube for numbers from 1 to 5.\n"
   ]
  },
  {
   "cell_type": "code",
   "execution_count": 216,
   "id": "28a7bbc3-55d7-4d90-a309-a44940984b26",
   "metadata": {},
   "outputs": [
    {
     "name": "stdout",
     "output_type": "stream",
     "text": [
      "[(1, 1), (2, 8), (3, 27), (4, 64), (5, 125)]\n"
     ]
    }
   ],
   "source": [
    "# Exercise 95\n",
    "def number_and_cube_list():\n",
    "    return [(num, num ** 3) for num in range(1, 6)]\n",
    "\n",
    "# Example usage\n",
    "result = number_and_cube_list()\n",
    "print(result)\n"
   ]
  },
  {
   "cell_type": "markdown",
   "id": "ae965a3c",
   "metadata": {},
   "source": [
    "\n",
    "---\n",
    "\n",
    "### Exercise 96:\n",
    "Write a Python function that returns a list of all prime numbers up to `n`.\n"
   ]
  },
  {
   "cell_type": "code",
   "execution_count": 218,
   "id": "922ee043",
   "metadata": {},
   "outputs": [
    {
     "name": "stdout",
     "output_type": "stream",
     "text": [
      "[2, 3, 5, 7, 11, 13, 17, 19]\n"
     ]
    }
   ],
   "source": [
    "# Exercise 96\n",
    "def primes_num(n):\n",
    "    primes = []\n",
    "    for num in range(2, n + 1):\n",
    "        is_prime = True\n",
    "        for divisor in range(2, int(num**0.5) + 1):\n",
    "            if num % divisor == 0:\n",
    "                is_prime = False\n",
    "                break\n",
    "        if is_prime:\n",
    "            primes.append(num)\n",
    "    return primes\n",
    "\n",
    "# Example usage\n",
    "print(primes_num(20))\n"
   ]
  },
  {
   "cell_type": "markdown",
   "id": "d5568b95",
   "metadata": {},
   "source": [
    "\n",
    "---\n",
    "\n",
    "### Exercise 97:\n",
    "Write a Python program that finds the common keys between two dictionaries.\n"
   ]
  },
  {
   "cell_type": "code",
   "execution_count": 219,
   "id": "7dc99fcf",
   "metadata": {},
   "outputs": [
    {
     "name": "stdout",
     "output_type": "stream",
     "text": [
      "['b', 'c']\n"
     ]
    }
   ],
   "source": [
    "# Exercise 97\n",
    "def common_keys(dict1, dict2):\n",
    "    return list(set(dict1.keys()) & set(dict2.keys()))\n",
    "\n",
    "# Example usage\n",
    "d1 = {'a': 1, 'b': 2, 'c': 3}\n",
    "d2 = {'b': 20, 'c': 30, 'd': 40}\n",
    "\n",
    "result = common_keys(d1, d2)\n",
    "print(result)"
   ]
  },
  {
   "cell_type": "markdown",
   "id": "bc63aa23",
   "metadata": {},
   "source": [
    "\n",
    "---\n",
    "\n",
    "### Exercise 98:\n",
    "Write a Python function that takes a list of strings and returns a list of the strings that contain more than 5 characters.\n"
   ]
  },
  {
   "cell_type": "code",
   "execution_count": 222,
   "id": "5d279573",
   "metadata": {},
   "outputs": [
    {
     "name": "stdout",
     "output_type": "stream",
     "text": [
      "['banana', 'cherry', 'elderberry', 'pineapple']\n"
     ]
    }
   ],
   "source": [
    "# Exercise 98\n",
    "def longest_string(strings):\n",
    "    return [s for s in strings if len(s) > 5]\n",
    "\n",
    "# Example usage\n",
    "words = [\"apple\", \"banana\", \"cherry\", \"date\", \"elderberry\",\"mango\", \"pineapple\"]\n",
    "result = longest_string(words)\n",
    "print(result)\n"
   ]
  },
  {
   "cell_type": "markdown",
   "id": "d7b1bc80",
   "metadata": {},
   "source": [
    "\n",
    "---\n",
    "\n",
    "### Exercise 99:\n",
    "Write a Python program that converts a list of strings into a list of tuples, where each tuple contains the string and its length.\n"
   ]
  },
  {
   "cell_type": "code",
   "execution_count": 224,
   "id": "872e6d36",
   "metadata": {},
   "outputs": [
    {
     "name": "stdout",
     "output_type": "stream",
     "text": [
      "[('apple', 5), ('banana', 6), ('cherry', 6)]\n"
     ]
    }
   ],
   "source": [
    "# Exercise 99\n",
    "def strings_tuples(strings):\n",
    "    return [(s, len(s)) for s in strings]\n",
    "\n",
    "# Example usage\n",
    "words = [\"apple\", \"banana\", \"cherry\"]\n",
    "result = strings_tuples(words)\n",
    "print(result)"
   ]
  },
  {
   "cell_type": "markdown",
   "id": "277dc676",
   "metadata": {},
   "source": [
    "\n",
    "---\n",
    "\n",
    "### Exercise 100:\n",
    "Write a Python function that takes a list of dictionaries and returns a new dictionary by summing the values of each key across all dictionaries.\n"
   ]
  },
  {
   "cell_type": "code",
   "execution_count": 225,
   "id": "7667d86f",
   "metadata": {},
   "outputs": [
    {
     "name": "stdout",
     "output_type": "stream",
     "text": [
      "{'a': 7, 'b': 4, 'c': 11}\n"
     ]
    }
   ],
   "source": [
    "# Exercise \n",
    "def sum_dicts(dict_list):\n",
    "    result = {}\n",
    "    for d in dict_list:\n",
    "        for key, value in d.items():\n",
    "            result[key] = result.get(key, 0) + value\n",
    "    return result\n",
    "\n",
    "# Example usage\n",
    "dicts = [\n",
    "    {'a': 2, 'b': 3},\n",
    "    {'a': 5, 'c': 7},\n",
    "    {'b': 1, 'c': 4}\n",
    "]\n",
    "\n",
    "print(sum_dicts(dicts))\n"
   ]
  },
  {
   "cell_type": "markdown",
   "id": "683a0ab7",
   "metadata": {},
   "source": [
    "\n",
    "---"
   ]
  },
  {
   "cell_type": "code",
   "execution_count": null,
   "id": "4e7202b1-2504-4f93-9664-f1b1c42bf507",
   "metadata": {},
   "outputs": [],
   "source": []
  }
 ],
 "metadata": {
  "kernelspec": {
   "display_name": "Python [conda env:base] *",
   "language": "python",
   "name": "conda-base-py"
  },
  "language_info": {
   "codemirror_mode": {
    "name": "ipython",
    "version": 3
   },
   "file_extension": ".py",
   "mimetype": "text/x-python",
   "name": "python",
   "nbconvert_exporter": "python",
   "pygments_lexer": "ipython3",
   "version": "3.11.7"
  }
 },
 "nbformat": 4,
 "nbformat_minor": 5
}
