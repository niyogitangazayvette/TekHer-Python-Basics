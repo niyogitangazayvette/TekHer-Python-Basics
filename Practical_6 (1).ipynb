{
 "cells": [
  {
   "cell_type": "markdown",
   "id": "bd6f6199",
   "metadata": {},
   "source": [
    "# Practical_6: Numpy"
   ]
  },
  {
   "cell_type": "code",
   "execution_count": 2,
   "id": "c5cd4e95-79e8-401d-9f88-5ba627e9318d",
   "metadata": {},
   "outputs": [],
   "source": [
    "import numpy as np"
   ]
  },
  {
   "cell_type": "markdown",
   "id": "de325ed6",
   "metadata": {},
   "source": [
    "---\n",
    "\n",
    "### Exercise 1:\n",
    "Create a NumPy array of integers from 1 to 10.\n"
   ]
  },
  {
   "cell_type": "code",
   "execution_count": 4,
   "id": "9b904697",
   "metadata": {},
   "outputs": [
    {
     "name": "stdout",
     "output_type": "stream",
     "text": [
      "[ 1  2  3  4  5  6  7  8  9 10]\n"
     ]
    }
   ],
   "source": [
    "# Exercise 1\n",
    "a=np.arange(1,11)\n",
    "print(a)"
   ]
  },
  {
   "cell_type": "markdown",
   "id": "745710c7",
   "metadata": {},
   "source": [
    "\n",
    "---\n",
    "\n",
    "### Exercise 2:\n",
    "Create a 3x3 NumPy array filled with zeros.\n"
   ]
  },
  {
   "cell_type": "code",
   "execution_count": 6,
   "id": "875235f1",
   "metadata": {},
   "outputs": [
    {
     "name": "stdout",
     "output_type": "stream",
     "text": [
      "[[1 2 6]\n",
      " [2 4 5]\n",
      " [5 9 8]]\n"
     ]
    }
   ],
   "source": [
    "# Exercise 2\n",
    "a=np.array([[1,2,6],[2,4,5],[5,9,8]])\n",
    "print(a)"
   ]
  },
  {
   "cell_type": "markdown",
   "id": "a542ea80",
   "metadata": {},
   "source": [
    "\n",
    "---\n",
    "\n",
    "### Exercise 3:\n",
    "Create a NumPy array of 10 evenly spaced numbers between 0 and 5.\n"
   ]
  },
  {
   "cell_type": "code",
   "execution_count": 8,
   "id": "97c6ba4a",
   "metadata": {},
   "outputs": [
    {
     "name": "stdout",
     "output_type": "stream",
     "text": [
      "[0 0 1 1 2 2 3 3 4 5]\n"
     ]
    }
   ],
   "source": [
    "# Exercise 3\n",
    "n=10\n",
    "m=5\n",
    "array_num=np.linspace(0,m,n)\n",
    "array_num = np.interp(\n",
    "    np.linspace(0, n- 1, n),\n",
    "    np.arange(len(array_num)),\n",
    "    array_num\n",
    ").astype(int)\n",
    "print(array_num)"
   ]
  },
  {
   "cell_type": "markdown",
   "id": "e92d80cc",
   "metadata": {},
   "source": [
    "\n",
    "---\n",
    "\n",
    "### Exercise 4:\n",
    "Create a 5x5 identity matrix using NumPy.\n"
   ]
  },
  {
   "cell_type": "code",
   "execution_count": 12,
   "id": "c5213bd2",
   "metadata": {},
   "outputs": [
    {
     "name": "stdout",
     "output_type": "stream",
     "text": [
      "[[1. 0. 0. 0. 0.]\n",
      " [0. 1. 0. 0. 0.]\n",
      " [0. 0. 1. 0. 0.]\n",
      " [0. 0. 0. 1. 0.]\n",
      " [0. 0. 0. 0. 1.]]\n"
     ]
    }
   ],
   "source": [
    "matrix_5=np.eye(5)\n",
    "print(matrix_5)"
   ]
  },
  {
   "cell_type": "markdown",
   "id": "a16f88e7",
   "metadata": {},
   "source": [
    "\n",
    "---\n",
    "\n",
    "### Exercise 5:\n",
    "Create a 4x4 matrix with random values between 0 and 1.\n"
   ]
  },
  {
   "cell_type": "code",
   "execution_count": 14,
   "id": "2b16922b",
   "metadata": {},
   "outputs": [
    {
     "name": "stdout",
     "output_type": "stream",
     "text": [
      "[[1. 0. 0. 0.]\n",
      " [0. 1. 0. 0.]\n",
      " [0. 0. 1. 0.]\n",
      " [0. 0. 0. 1.]]\n"
     ]
    }
   ],
   "source": [
    "# Exercise 5\n",
    "matrix_4=np.eye(4)\n",
    "print(matrix_4)"
   ]
  },
  {
   "cell_type": "markdown",
   "id": "cc9af8fd",
   "metadata": {},
   "source": [
    "\n",
    "---\n",
    "\n",
    "### Exercise 6:\n",
    "Find the shape of a NumPy array.\n"
   ]
  },
  {
   "cell_type": "code",
   "execution_count": 16,
   "id": "359864d2",
   "metadata": {},
   "outputs": [
    {
     "name": "stdout",
     "output_type": "stream",
     "text": [
      "(2, 4)\n"
     ]
    }
   ],
   "source": [
    "# Exercise 6\n",
    "a=np.array([[9,6,3,4],[4,5,7,6]])\n",
    "print(a.shape)"
   ]
  },
  {
   "cell_type": "markdown",
   "id": "ada0aff6",
   "metadata": {},
   "source": [
    "\n",
    "---\n",
    "\n",
    "### Exercise 7:\n",
    "Reshape a 1D NumPy array of 16 elements into a 4x4 matrix.\n"
   ]
  },
  {
   "cell_type": "code",
   "execution_count": 18,
   "id": "43fcb4b3",
   "metadata": {},
   "outputs": [
    {
     "name": "stdout",
     "output_type": "stream",
     "text": [
      "[[ 0  1  2  3]\n",
      " [ 4  5  6  7]\n",
      " [ 8  9 10 11]\n",
      " [12 13 14 15]]\n"
     ]
    }
   ],
   "source": [
    "# Exercise 7\n",
    "x=np.arange(16)\n",
    "matrix=x.reshape(4,4)\n",
    "print(matrix)"
   ]
  },
  {
   "cell_type": "markdown",
   "id": "d384142a",
   "metadata": {},
   "source": [
    "\n",
    "---\n",
    "\n",
    "### Exercise 8:\n",
    "Find the data type of the elements in a NumPy array.\n"
   ]
  },
  {
   "cell_type": "code",
   "execution_count": 20,
   "id": "bf4dca5a",
   "metadata": {},
   "outputs": [
    {
     "name": "stdout",
     "output_type": "stream",
     "text": [
      "<class 'numpy.ndarray'>\n"
     ]
    }
   ],
   "source": [
    "# Exercise 8\n",
    "x=np.array([1,2,4,5,6,7])\n",
    "print(type(x))"
   ]
  },
  {
   "cell_type": "markdown",
   "id": "c295ca54",
   "metadata": {},
   "source": [
    "\n",
    "---\n",
    "\n",
    "### Exercise 9:\n",
    "Create a NumPy array of integers from 1 to 100 and find all even numbers in the array.\n"
   ]
  },
  {
   "cell_type": "code",
   "execution_count": 22,
   "id": "28a61c5e",
   "metadata": {},
   "outputs": [
    {
     "name": "stdout",
     "output_type": "stream",
     "text": [
      "[  2   4   6   8  10  12  14  16  18  20  22  24  26  28  30  32  34  36\n",
      "  38  40  42  44  46  48  50  52  54  56  58  60  62  64  66  68  70  72\n",
      "  74  76  78  80  82  84  86  88  90  92  94  96  98 100]\n"
     ]
    }
   ],
   "source": [
    "# Exercise 9\n",
    "x=np.arange(1,101)\n",
    "even_numbers=x[x %2==0]\n",
    "print(even_numbers)"
   ]
  },
  {
   "cell_type": "markdown",
   "id": "72103956",
   "metadata": {},
   "source": [
    "\n",
    "---\n",
    "\n",
    "### Exercise 10:\n",
    "Generate a 6x6 matrix of random integers between 10 and 50.\n"
   ]
  },
  {
   "cell_type": "code",
   "execution_count": 24,
   "id": "ce04300e",
   "metadata": {},
   "outputs": [
    {
     "name": "stdout",
     "output_type": "stream",
     "text": [
      "[[23 31 26 16 13 46]\n",
      " [10 31 12 29 37 16]\n",
      " [28 46 11 43 12 16]\n",
      " [39 21 50 26 30 27]\n",
      " [19 43 15 47 17 44]\n",
      " [50 44 28 24 17 36]]\n"
     ]
    }
   ],
   "source": [
    "# Exercise 10\n",
    "matrix=np.random.randint(10,51,size=(6,6))\n",
    "print(matrix)\n"
   ]
  },
  {
   "cell_type": "markdown",
   "id": "3dd1a085",
   "metadata": {},
   "source": [
    "\n",
    "---\n",
    "\n",
    "### Exercise 11:\n",
    "Slice a 2D NumPy array to extract a submatrix.\n"
   ]
  },
  {
   "cell_type": "code",
   "execution_count": 26,
   "id": "b8fc90ba",
   "metadata": {},
   "outputs": [
    {
     "data": {
      "text/plain": [
       "array([[ 7,  8,  9],\n",
       "       [12, 13, 14],\n",
       "       [17, 18, 19]])"
      ]
     },
     "execution_count": 26,
     "metadata": {},
     "output_type": "execute_result"
    }
   ],
   "source": [
    "# Exercise 11\n",
    "matrix = np.array([\n",
    "    [ 1,  2,  3,  4,  5],\n",
    "    [ 6,  7,  8,  9, 10],\n",
    "    [11, 12, 13, 14, 15],\n",
    "    [16, 17, 18, 19, 20],\n",
    "    [21, 22, 23, 24, 25]\n",
    "])\n",
    "sub_matrix=matrix[1:4,1:4]\n",
    "sub_matrix"
   ]
  },
  {
   "cell_type": "markdown",
   "id": "73a4344c",
   "metadata": {},
   "source": [
    "\n",
    "---\n",
    "\n",
    "### Exercise 12:\n",
    "Calculate the sum of all elements in a NumPy array.\n"
   ]
  },
  {
   "cell_type": "code",
   "execution_count": 28,
   "id": "3c417ff3",
   "metadata": {},
   "outputs": [
    {
     "name": "stdout",
     "output_type": "stream",
     "text": [
      "[[3 5]\n",
      " [7 9]]\n"
     ]
    }
   ],
   "source": [
    "# Exercise 12\n",
    "x=np.array([[1,2],[3,4]])\n",
    "y=np.array([[2,3],[4,5]])\n",
    "print(np.add(x,y))"
   ]
  },
  {
   "cell_type": "markdown",
   "id": "c2346362",
   "metadata": {},
   "source": [
    "\n",
    "---\n",
    "\n",
    "### Exercise 13:\n",
    "Calculate the mean, median, and standard deviation of a NumPy array.\n"
   ]
  },
  {
   "cell_type": "code",
   "execution_count": 30,
   "id": "95e57182",
   "metadata": {},
   "outputs": [
    {
     "name": "stdout",
     "output_type": "stream",
     "text": [
      "mean_is= 5.5\n",
      "==============\n",
      "median_is= 6.0\n",
      "==============\n",
      "standard deviation_is= 2.5\n",
      "==============\n"
     ]
    }
   ],
   "source": [
    "# Exercise 13\n",
    "x=np.array([1,3,4,6,6,7,8,9])\n",
    "x_mean=np.mean(x)\n",
    "print('mean_is=',x_mean)\n",
    "print('==============')\n",
    "\n",
    "x_median=np.median(x)\n",
    "print('median_is=',x_median)\n",
    "print('==============')\n",
    "\n",
    "x_standard=np.std(x)\n",
    "print('standard deviation_is=',x_standard)\n",
    "print('==============')"
   ]
  },
  {
   "cell_type": "markdown",
   "id": "67a4fdbd",
   "metadata": {},
   "source": [
    "\n",
    "---\n",
    "\n",
    "### Exercise 14:\n",
    "Find the maximum and minimum values in a NumPy array.\n"
   ]
  },
  {
   "cell_type": "code",
   "execution_count": 32,
   "id": "7959c765",
   "metadata": {},
   "outputs": [
    {
     "name": "stdout",
     "output_type": "stream",
     "text": [
      "9\n",
      "1\n"
     ]
    }
   ],
   "source": [
    "# Exercise 14\n",
    "x=np.array([1,3,4,6,6,7,8,9])\n",
    "x_max=np.max(x)\n",
    "x_min=np.min(x)\n",
    "print(x_max)\n",
    "print(x_min)"
   ]
  },
  {
   "cell_type": "markdown",
   "id": "8a705cd1",
   "metadata": {},
   "source": [
    "\n",
    "---\n",
    "\n",
    "### Exercise 15:\n",
    "Create a NumPy array of 20 random integers and find the index of the maximum value.\n"
   ]
  },
  {
   "cell_type": "code",
   "execution_count": 34,
   "id": "c6748d73",
   "metadata": {},
   "outputs": [
    {
     "name": "stdout",
     "output_type": "stream",
     "text": [
      "[11 11 15 40 31 23  9 38 27  8  9 26 33 28 34 40  8 12 31 45]\n",
      "20\n",
      "45\n",
      "19\n"
     ]
    }
   ],
   "source": [
    "# Exercise 15\n",
    "x=np.random.randint(1,50,size=20)\n",
    "max_x=np.argmax(x)\n",
    "print(x)\n",
    "print(len(x))\n",
    "print(x[max_x])\n",
    "print(max_x)\n"
   ]
  },
  {
   "cell_type": "markdown",
   "id": "467ca6ac",
   "metadata": {},
   "source": [
    "\n",
    "---\n",
    "\n",
    "### Exercise 16:\n",
    "Create a NumPy array and reverse its elements.\n"
   ]
  },
  {
   "cell_type": "code",
   "execution_count": 10,
   "id": "0a178eb6",
   "metadata": {},
   "outputs": [
    {
     "name": "stdout",
     "output_type": "stream",
     "text": [
      "[9 8 7 6 6 4 3 1]\n"
     ]
    }
   ],
   "source": [
    "# Exercise 16\n",
    "x=np.array([1,3,4,6,6,7,8,9])\n",
    "reverse=x[::-1]\n",
    "print(reverse)"
   ]
  },
  {
   "cell_type": "markdown",
   "id": "b7d8ec92",
   "metadata": {},
   "source": [
    "\n",
    "---\n",
    "\n",
    "### Exercise 17:\n",
    "Create a 3x3 matrix and multiply it element-wise by another 3x3 matrix.\n"
   ]
  },
  {
   "cell_type": "code",
   "execution_count": 12,
   "id": "847ddc05",
   "metadata": {},
   "outputs": [
    {
     "name": "stdout",
     "output_type": "stream",
     "text": [
      "[[15 18 18]\n",
      " [47 58 59]\n",
      " [22 28 29]]\n"
     ]
    }
   ],
   "source": [
    "# Exercise 17\n",
    "n=np.array([[1,2,3],[2,8,9],[2,3,4]])\n",
    "m=np.array([[2,4,5],[2,4,5],[3,2,1]])\n",
    "print(np.dot(n,m))"
   ]
  },
  {
   "cell_type": "markdown",
   "id": "58512446",
   "metadata": {},
   "source": [
    "\n",
    "---\n",
    "\n",
    "### Exercise 18:\n",
    "Create a diagonal matrix from a given 1D array.\n"
   ]
  },
  {
   "cell_type": "code",
   "execution_count": 16,
   "id": "bd7e9321",
   "metadata": {},
   "outputs": [
    {
     "name": "stdout",
     "output_type": "stream",
     "text": [
      "[[10  0  0  0]\n",
      " [ 0 20  0  0]\n",
      " [ 0  0 30  0]\n",
      " [ 0  0  0 40]]\n"
     ]
    }
   ],
   "source": [
    "# Exercise 18\n",
    "x=np.array([10,20,30,40])\n",
    "x_diagonal=np.diag(x)\n",
    "print(x_diagonal)"
   ]
  },
  {
   "cell_type": "markdown",
   "id": "10be19e0",
   "metadata": {},
   "source": [
    "\n",
    "---\n",
    "\n",
    "### Exercise 19:\n",
    "Perform matrix multiplication on two 2D NumPy arrays.\n"
   ]
  },
  {
   "cell_type": "code",
   "execution_count": 42,
   "id": "c287973c",
   "metadata": {},
   "outputs": [
    {
     "name": "stdout",
     "output_type": "stream",
     "text": [
      "x matrix:\n",
      " [[1 2]\n",
      " [3 4]]\n",
      "y matrix:\n",
      " [[3 5]\n",
      " [6 7]]\n",
      "solution matrix:\n",
      " [[15 19]\n",
      " [33 43]]\n"
     ]
    }
   ],
   "source": [
    "# Exercise 19\n",
    "x=np.array([[1,2],[3,4]])\n",
    "y=np.array([[3,5],[6,7]])\n",
    "solution=np.dot(x,y)\n",
    "print('x matrix:\\n',x)\n",
    "print('y matrix:\\n',y)\n",
    "print('solution matrix:\\n',solution)"
   ]
  },
  {
   "cell_type": "markdown",
   "id": "932aa100",
   "metadata": {},
   "source": [
    "\n",
    "---\n",
    "\n",
    "### Exercise 20:\n",
    "Flatten a 2D NumPy array into a 1D array.\n"
   ]
  },
  {
   "cell_type": "code",
   "execution_count": 44,
   "id": "0b2a7505",
   "metadata": {},
   "outputs": [
    {
     "name": "stdout",
     "output_type": "stream",
     "text": [
      "2D IS:\n",
      " [[1 2 3]\n",
      " [4 5 6]]\n",
      "1D IS:\n",
      " [1 2 3 4 5 6]\n"
     ]
    }
   ],
   "source": [
    "# Exercise 20\n",
    "x=np.array([[1,2,3],[4,5,6]])\n",
    "y=x.flatten()\n",
    "print('2D IS:\\n',x)\n",
    "print('1D IS:\\n',y)"
   ]
  },
  {
   "cell_type": "markdown",
   "id": "43e4204e",
   "metadata": {},
   "source": [
    "\n",
    "---\n",
    "\n",
    "### Exercise 21:\n",
    "Stack two NumPy arrays vertically.\n"
   ]
  },
  {
   "cell_type": "code",
   "execution_count": 46,
   "id": "2fab6ed6",
   "metadata": {},
   "outputs": [
    {
     "name": "stdout",
     "output_type": "stream",
     "text": [
      "x :\n",
      " [[1 2]\n",
      " [3 4]]\n",
      "y :\n",
      " [[5 6]\n",
      " [7 8]]\n",
      "Vertical stack:\n",
      " [[1 2]\n",
      " [3 4]\n",
      " [5 6]\n",
      " [7 8]]\n"
     ]
    }
   ],
   "source": [
    "# Exercise 21\n",
    "x=np.array([[1,2],[3,4]])\n",
    "y=np.array([[5,6],[7,8]])\n",
    "\n",
    "stack_vertical=np.vstack((x,y))\n",
    "print('x :\\n',x)\n",
    "print('y :\\n',y)\n",
    "print('Vertical stack:\\n',stack_vertical)"
   ]
  },
  {
   "cell_type": "markdown",
   "id": "54a62aed",
   "metadata": {},
   "source": [
    "\n",
    "---\n",
    "\n",
    "### Exercise 22:\n",
    "Stack two NumPy arrays horizontally.\n"
   ]
  },
  {
   "cell_type": "code",
   "execution_count": 48,
   "id": "38c62fcb",
   "metadata": {},
   "outputs": [
    {
     "name": "stdout",
     "output_type": "stream",
     "text": [
      "x :\n",
      " [[1 2]\n",
      " [3 4]]\n",
      "y :\n",
      " [[5 6]\n",
      " [7 8]]\n",
      "Horzontal stack:\n",
      " [[1 2 5 6]\n",
      " [3 4 7 8]]\n"
     ]
    }
   ],
   "source": [
    "# Exercise 22\n",
    "# Exercise 21\n",
    "x=np.array([[1,2],[3,4]])\n",
    "y=np.array([[5,6],[7,8]])\n",
    "\n",
    "stack_horzontal=np.hstack((x,y))\n",
    "print('x :\\n',x)\n",
    "print('y :\\n',y)\n",
    "print('Horzontal stack:\\n',stack_horzontal)"
   ]
  },
  {
   "cell_type": "markdown",
   "id": "348ee442",
   "metadata": {},
   "source": [
    "\n",
    "---\n",
    "\n",
    "### Exercise 23:\n",
    "Split a NumPy array into multiple sub-arrays.\n"
   ]
  },
  {
   "cell_type": "code",
   "execution_count": 50,
   "id": "bb591997",
   "metadata": {},
   "outputs": [
    {
     "name": "stdout",
     "output_type": "stream",
     "text": [
      "[array([1, 3]), array([4, 6]), array([7, 8])]\n"
     ]
    }
   ],
   "source": [
    "# Exercise 23\n",
    "x=np.array([1,3,4,6,7,8])\n",
    "x_split=np.split(x,3)\n",
    "print(x_split)"
   ]
  },
  {
   "cell_type": "markdown",
   "id": "b1f38f5f",
   "metadata": {},
   "source": [
    "\n",
    "---\n",
    "\n",
    "### Exercise 24:\n",
    "Generate a random NumPy array and round each element to two decimal places.\n"
   ]
  },
  {
   "cell_type": "code",
   "execution_count": 52,
   "id": "9627a34c",
   "metadata": {},
   "outputs": [
    {
     "name": "stdout",
     "output_type": "stream",
     "text": [
      "[[0.16761023 0.21186224 0.73905849]\n",
      " [0.88478605 0.53383529 0.38514676]\n",
      " [0.36413943 0.32670004 0.24083744]]\n",
      "======================\n",
      "\n",
      "[[0.17 0.21 0.74]\n",
      " [0.88 0.53 0.39]\n",
      " [0.36 0.33 0.24]]\n"
     ]
    }
   ],
   "source": [
    "# Exercise 24\n",
    "x=np.random.rand(3,3)\n",
    "x_round=np.round(x,2)\n",
    "print(x)\n",
    "print(\"======================\\n\")\n",
    "print(x_round)"
   ]
  },
  {
   "cell_type": "markdown",
   "id": "33eff49a",
   "metadata": {},
   "source": [
    "\n",
    "---\n",
    "\n",
    "### Exercise 25:\n",
    "Find the unique elements of a NumPy array.\n"
   ]
  },
  {
   "cell_type": "code",
   "execution_count": 54,
   "id": "820d6014",
   "metadata": {},
   "outputs": [
    {
     "name": "stdout",
     "output_type": "stream",
     "text": [
      "[1 2 3 4 5 6 7 8]\n"
     ]
    }
   ],
   "source": [
    "# Exercise 25\n",
    "x=np.array([1,1,2,2,3,4,5,6,7,8,3,4])\n",
    "x_unique=np.unique(x)\n",
    "print(x_unique)"
   ]
  },
  {
   "cell_type": "markdown",
   "id": "a82dfd26",
   "metadata": {},
   "source": [
    "\n",
    "---\n",
    "\n",
    "### Exercise 26:\n",
    "Replace all elements in a NumPy array that are less than a specific value with that value.\n"
   ]
  },
  {
   "cell_type": "code",
   "execution_count": 56,
   "id": "9317d8ff",
   "metadata": {},
   "outputs": [
    {
     "name": "stdout",
     "output_type": "stream",
     "text": [
      "[4 4 4 4 5 6 7 8]\n"
     ]
    }
   ],
   "source": [
    "# Exercise 26\n",
    "x=np.array([1,2,3,4,5,6,7,8])\n",
    "x[x <4]=4\n",
    "print(x)"
   ]
  },
  {
   "cell_type": "markdown",
   "id": "0b211e1c",
   "metadata": {},
   "source": [
    "\n",
    "---\n",
    "\n",
    "### Exercise 27:\n",
    "Find the cumulative sum of the elements in a NumPy array.\n"
   ]
  },
  {
   "cell_type": "code",
   "execution_count": 58,
   "id": "d03b7264",
   "metadata": {},
   "outputs": [
    {
     "name": "stdout",
     "output_type": "stream",
     "text": [
      "X is:\n",
      " [1 2 3 4 5]\n",
      "Cumulative sum:\n",
      " [ 1  3  6 10 15]\n"
     ]
    }
   ],
   "source": [
    "# Exercise 27\n",
    "x=np.array([1,2,3,4,5])\n",
    "cumulative_sum_x=np.cumsum(x)\n",
    "print('X is:\\n',x)\n",
    "print('Cumulative sum:\\n',cumulative_sum_x)"
   ]
  },
  {
   "cell_type": "markdown",
   "id": "837642b7",
   "metadata": {},
   "source": [
    "\n",
    "---\n",
    "\n",
    "### Exercise 28:\n",
    "Create a NumPy array and find the number of non-zero elements in it.\n"
   ]
  },
  {
   "cell_type": "code",
   "execution_count": 60,
   "id": "fa2565c6",
   "metadata": {},
   "outputs": [
    {
     "name": "stdout",
     "output_type": "stream",
     "text": [
      "[ 0 10  2  0  3  0  4]\n",
      "4\n"
     ]
    }
   ],
   "source": [
    "# Exercise 28\n",
    "x=np.array([0,10,2,0,3,0,4])\n",
    "non_xero_x=np.count_nonzero(x)\n",
    "print(x)\n",
    "print(non_xero_x)"
   ]
  },
  {
   "cell_type": "markdown",
   "id": "7d1f3704",
   "metadata": {},
   "source": [
    "\n",
    "---\n",
    "\n",
    "### Exercise 29:\n",
    "Create a NumPy array of random integers and sort it in ascending order.\n"
   ]
  },
  {
   "cell_type": "code",
   "execution_count": 62,
   "id": "dfa23a6e",
   "metadata": {},
   "outputs": [
    {
     "name": "stdout",
     "output_type": "stream",
     "text": [
      "[16 15 18  8 15  2 13  5  8 13]\n",
      "[ 2  5  8  8 13 13 15 15 16 18]\n"
     ]
    }
   ],
   "source": [
    "# Exercise 29\n",
    "x=np.random.randint(1,20,size=10)\n",
    "Ascending_x=np.sort(x)\n",
    "print(x)\n",
    "print(Ascending_x)"
   ]
  },
  {
   "cell_type": "markdown",
   "id": "295b7ea8",
   "metadata": {},
   "source": [
    "\n",
    "---\n",
    "\n",
    "### Exercise 30:\n",
    "Find the row-wise and column-wise sum of a 3x3 matrix.\n"
   ]
  },
  {
   "cell_type": "code",
   "execution_count": 64,
   "id": "963df701",
   "metadata": {},
   "outputs": [
    {
     "name": "stdout",
     "output_type": "stream",
     "text": [
      "X is:\n",
      " [[1 2 3]\n",
      " [4 5 6]\n",
      " [7 8 9]]\n",
      "Row wise:\n",
      " [ 6 15 24]\n",
      "Column wise:\n",
      " [12 15 18]\n"
     ]
    }
   ],
   "source": [
    "# Exercise 30\n",
    "x=np.array([[1,2,3],[4,5,6],[7,8,9]])\n",
    "row_wise=np.sum(x,axis=1)\n",
    "column_wise=np.sum(x,axis=0)\n",
    "print('X is:\\n',x)\n",
    "print('Row wise:\\n',row_wise)\n",
    "print('Column wise:\\n',column_wise)"
   ]
  },
  {
   "cell_type": "markdown",
   "id": "158756fa",
   "metadata": {},
   "source": [
    "\n",
    "---\n",
    "\n",
    "### Exercise 31:\n",
    "Generate a 2D NumPy array with random values and normalize it (scale the values between 0 and 1).\n"
   ]
  },
  {
   "cell_type": "code",
   "execution_count": 66,
   "id": "32ba8b29",
   "metadata": {},
   "outputs": [
    {
     "name": "stdout",
     "output_type": "stream",
     "text": [
      "x is:\n",
      " [[67 18 79 61]\n",
      " [22 52 98 98]\n",
      " [61 58 66 49]]\n",
      "=================================\n",
      "normarlize for x is:\n",
      " [[0.6125 0.     0.7625 0.5375]\n",
      " [0.05   0.425  1.     1.    ]\n",
      " [0.5375 0.5    0.6    0.3875]]\n"
     ]
    }
   ],
   "source": [
    "# Exercise 31\n",
    "x=np.random.randint(10,100,size=(3,4))\n",
    "x_min=x.min()\n",
    "x_max=x.max()\n",
    "normalize_x=(x - x_min)/(x_max - x_min)\n",
    "print(\"x is:\\n\",x)\n",
    "print(\"=================================\")\n",
    "print(\"normarlize for x is:\\n\",normalize_x)"
   ]
  },
  {
   "cell_type": "markdown",
   "id": "d3eeceaa",
   "metadata": {},
   "source": [
    "\n",
    "---\n",
    "\n",
    "### Exercise 32:\n",
    "Create two NumPy arrays and find the dot product.\n"
   ]
  },
  {
   "cell_type": "code",
   "execution_count": 68,
   "id": "5722e16b",
   "metadata": {},
   "outputs": [
    {
     "name": "stdout",
     "output_type": "stream",
     "text": [
      "Dot Product: 32\n"
     ]
    }
   ],
   "source": [
    "# Exercise 32\n",
    "# Create two NumPy arrays\n",
    "x = np.array([1, 2, 3])\n",
    "y= np.array([4, 5, 6])\n",
    "\n",
    "# Find the dot product\n",
    "dot_product = np.dot(x, y)\n",
    "\n",
    "print(\"Dot Product:\", dot_product)"
   ]
  },
  {
   "cell_type": "markdown",
   "id": "5b0c848f",
   "metadata": {},
   "source": [
    "\n",
    "---\n",
    "\n",
    "### Exercise 33:\n",
    "Find the trace of a square NumPy matrix.\n"
   ]
  },
  {
   "cell_type": "code",
   "execution_count": 70,
   "id": "6d6e90c2",
   "metadata": {},
   "outputs": [
    {
     "name": "stdout",
     "output_type": "stream",
     "text": [
      "Trace of the matrix: 15\n"
     ]
    }
   ],
   "source": [
    "# Exercise 33\n",
    "import numpy as np\n",
    "\n",
    "\n",
    "x = np.array([[1, 2, 3],\n",
    "                   [4, 5, 6],\n",
    "                   [7, 8, 9]])\n",
    "\n",
    "\n",
    "trace_value = np.trace(x)\n",
    "\n",
    "print(\"Trace of the matrix:\", trace_value)\n"
   ]
  },
  {
   "cell_type": "markdown",
   "id": "74f1f77e",
   "metadata": {},
   "source": [
    "\n",
    "---\n",
    "\n",
    "### Exercise 34:\n",
    "Create a 2D array and swap two rows.\n"
   ]
  },
  {
   "cell_type": "code",
   "execution_count": 72,
   "id": "24621129",
   "metadata": {},
   "outputs": [
    {
     "name": "stdout",
     "output_type": "stream",
     "text": [
      "Original array:\n",
      "[[10 20 30]\n",
      " [40 50 60]\n",
      " [70 80 90]]\n",
      "\n",
      "Array after swapping row 0 and row 2:\n",
      "[[70 80 90]\n",
      " [40 50 60]\n",
      " [10 20 30]]\n"
     ]
    }
   ],
   "source": [
    "# Exercise 34\n",
    "# Create a 2D array\n",
    "array_2d = np.array([[10, 20, 30],\n",
    "                     [40, 50, 60],\n",
    "                     [70, 80, 90]])\n",
    "\n",
    "print(\"Original array:\")\n",
    "print(array_2d)\n",
    "\n",
    "\n",
    "array_2d[[0, 2]] = array_2d[[2, 0]]\n",
    "\n",
    "print(\"\\nArray after swapping row 0 and row 2:\")\n",
    "print(array_2d)"
   ]
  },
  {
   "cell_type": "markdown",
   "id": "7875d348",
   "metadata": {},
   "source": [
    "\n",
    "---\n",
    "\n",
    "### Exercise 35:\n",
    "Create a 1D NumPy array and convert it into a column vector.\n"
   ]
  },
  {
   "cell_type": "code",
   "execution_count": 74,
   "id": "0039acda",
   "metadata": {},
   "outputs": [
    {
     "name": "stdout",
     "output_type": "stream",
     "text": [
      "Column vector:\n",
      "[[1]\n",
      " [2]\n",
      " [3]\n",
      " [4]\n",
      " [5]]\n"
     ]
    }
   ],
   "source": [
    "# Exercise 35\n",
    "# Create a 1D NumPy array\n",
    "array_1d = np.array([1, 2, 3, 4, 5])\n",
    "\n",
    "# Convert to a column vector\n",
    "column_vector = array_1d.reshape(-1, 1)\n",
    "\n",
    "print(\"Column vector:\")\n",
    "print(column_vector)"
   ]
  },
  {
   "cell_type": "markdown",
   "id": "234e605c",
   "metadata": {},
   "source": [
    "\n",
    "---\n",
    "\n",
    "### Exercise 36:\n",
    "Find the determinant of a 3x3 matrix.\n"
   ]
  },
  {
   "cell_type": "code",
   "execution_count": 76,
   "id": "9798d9c7",
   "metadata": {},
   "outputs": [
    {
     "name": "stdout",
     "output_type": "stream",
     "text": [
      "Determinant: -20.000000000000007\n"
     ]
    }
   ],
   "source": [
    "# Exercise 36\n",
    "# Define a 3x3 matrix\n",
    "matrix = np.array([[2, 5, 3],\n",
    "                   [1, -2, -1],\n",
    "                   [1, 3, 4]])\n",
    "\n",
    "# Calculate the determinant\n",
    "determinant = np.linalg.det(matrix)\n",
    "\n",
    "print(\"Determinant:\", determinant)"
   ]
  },
  {
   "cell_type": "markdown",
   "id": "6656af00",
   "metadata": {},
   "source": [
    "\n",
    "---\n",
    "\n",
    "### Exercise 37:\n",
    "Find the eigenvalues and eigenvectors of a 2x2 matrix.\n"
   ]
  },
  {
   "cell_type": "code",
   "execution_count": 78,
   "id": "89d64421",
   "metadata": {},
   "outputs": [
    {
     "name": "stdout",
     "output_type": "stream",
     "text": [
      "Eigenvalues:\n",
      "[5. 2.]\n",
      "\n",
      "Eigenvectors:\n",
      "[[ 0.89442719 -0.70710678]\n",
      " [ 0.4472136   0.70710678]]\n"
     ]
    }
   ],
   "source": [
    "# Exercise 37\n",
    "# Define a 2x2 matrix\n",
    "matrix = np.array([[4, 2],\n",
    "                   [1, 3]])\n",
    "\n",
    "# Compute eigenvalues and eigenvectors\n",
    "eigenvalues, eigenvectors = np.linalg.eig(matrix)\n",
    "\n",
    "print(\"Eigenvalues:\")\n",
    "print(eigenvalues)\n",
    "\n",
    "print(\"\\nEigenvectors:\")\n",
    "print(eigenvectors)"
   ]
  },
  {
   "cell_type": "markdown",
   "id": "7dc92bbb",
   "metadata": {},
   "source": [
    "\n",
    "---\n",
    "\n",
    "### Exercise 38:\n",
    "Solve a system of linear equations using NumPy.\n"
   ]
  },
  {
   "cell_type": "code",
   "execution_count": 80,
   "id": "9aad2d7e",
   "metadata": {},
   "outputs": [
    {
     "name": "stdout",
     "output_type": "stream",
     "text": [
      "Solution [x, y]: [1. 2.]\n"
     ]
    }
   ],
   "source": [
    "# Exercise 38\n",
    "\n",
    "# Coefficient matrix A\n",
    "A = np.array([[2, 3],\n",
    "              [3, 4]])\n",
    "\n",
    "# Constant terms vector B\n",
    "B = np.array([8, 11])\n",
    "\n",
    "# Solve the system\n",
    "solution = np.linalg.solve(A, B)\n",
    "\n",
    "print(\"Solution [x, y]:\", solution)"
   ]
  },
  {
   "cell_type": "markdown",
   "id": "4f146ae7",
   "metadata": {},
   "source": [
    "\n",
    "---\n",
    "\n",
    "### Exercise 39:\n",
    "Add Gaussian noise to a NumPy array.\n"
   ]
  },
  {
   "cell_type": "code",
   "execution_count": 82,
   "id": "1162c82d",
   "metadata": {},
   "outputs": [
    {
     "name": "stdout",
     "output_type": "stream",
     "text": [
      "Original array: [10 20 30 40 50]\n",
      "Noise: [-0.69799462  0.97010753 -0.43226734 -2.23969932  2.4869793 ]\n",
      "Noisy array: [ 9.30200538 20.97010753 29.56773266 37.76030068 52.4869793 ]\n"
     ]
    }
   ],
   "source": [
    "# Exercise 39\n",
    "# Create an original NumPy array\n",
    "original_array = np.array([10, 20, 30, 40, 50])\n",
    "\n",
    "# Define noise parameters\n",
    "mean = 0        # Mean of the noise\n",
    "std_dev = 2     # Standard deviation of the noise\n",
    "\n",
    "# Generate Gaussian noise\n",
    "noise = np.random.normal(mean, std_dev, original_array.shape)\n",
    "\n",
    "# Add noise to the original array\n",
    "noisy_array = original_array + noise\n",
    "\n",
    "print(\"Original array:\", original_array)\n",
    "print(\"Noise:\", noise)\n",
    "print(\"Noisy array:\", noisy_array)"
   ]
  },
  {
   "cell_type": "markdown",
   "id": "24f6d12f",
   "metadata": {},
   "source": [
    "\n",
    "---\n",
    "\n",
    "### Exercise 40:\n",
    "Create a 4x4 matrix and extract the diagonal elements.\n"
   ]
  },
  {
   "cell_type": "code",
   "execution_count": 84,
   "id": "228d823c",
   "metadata": {},
   "outputs": [
    {
     "name": "stdout",
     "output_type": "stream",
     "text": [
      "Original matrix:\n",
      "[[ 1  2  3  4]\n",
      " [ 5  6  7  8]\n",
      " [ 9 10 11 12]\n",
      " [13 14 15 16]]\n",
      "\n",
      "Diagonal elements:\n",
      "[ 1  6 11 16]\n"
     ]
    }
   ],
   "source": [
    "# Exercise 40\n",
    "# Create a 4x4 matrix\n",
    "matrix = np.array([[1, 2, 3, 4],\n",
    "                   [5, 6, 7, 8],\n",
    "                   [9, 10, 11, 12],\n",
    "                   [13, 14, 15, 16]])\n",
    "\n",
    "# Extract the diagonal elements\n",
    "diagonal_elements = np.diag(matrix)\n",
    "\n",
    "print(\"Original matrix:\")\n",
    "print(matrix)\n",
    "\n",
    "print(\"\\nDiagonal elements:\")\n",
    "print(diagonal_elements)\n"
   ]
  },
  {
   "cell_type": "markdown",
   "id": "6fe4e0e1",
   "metadata": {},
   "source": [
    "\n",
    "---\n",
    "\n",
    "### Exercise 41:\n",
    "Generate a NumPy array of 100 random values and clip the values to a range between 10 and 50.\n"
   ]
  },
  {
   "cell_type": "code",
   "execution_count": 86,
   "id": "250c818c",
   "metadata": {},
   "outputs": [
    {
     "name": "stdout",
     "output_type": "stream",
     "text": [
      "[31 46 25 11 23 48 42 49 46 26 44 31 16 43 37 20 32 38 22 42 47 48 19 21\n",
      " 30 18 10 28 37 33 22 22 46 49 47 13 28 39 14 26 30 34 24 11 33 23 14 45\n",
      " 43 24 23 36 32 19 24 28 46 42 28 40 49 10 25 29 14 24 29 47 38 32 34 44\n",
      " 47 47 35 39 37 17 45 38 12 25 34 40 31 32 19 38 27 27 41 15 25 34 47 18\n",
      " 41 15 11 25]\n",
      "100\n"
     ]
    }
   ],
   "source": [
    "# Exercise 41\n",
    "start=10\n",
    "stop=50\n",
    "size=100\n",
    "x=np.random.randint(start,stop,size)\n",
    "print(x)\n",
    "print(len(x))"
   ]
  },
  {
   "cell_type": "markdown",
   "id": "0aa4963a",
   "metadata": {},
   "source": [
    "\n",
    "---\n",
    "\n",
    "### Exercise 42:\n",
    "Create a 2D NumPy array and replace all negative values with zero.\n"
   ]
  },
  {
   "cell_type": "code",
   "execution_count": 88,
   "id": "c33cf5e2",
   "metadata": {},
   "outputs": [
    {
     "name": "stdout",
     "output_type": "stream",
     "text": [
      "[[5 0 2]\n",
      " [0 7 0]]\n"
     ]
    }
   ],
   "source": [
    "# Exercise 42\n",
    "x=np.array([[5,-3,2],[-1,7,-6]])\n",
    "x[x <0]= 0\n",
    "print(x)"
   ]
  },
  {
   "cell_type": "markdown",
   "id": "9902ee70",
   "metadata": {},
   "source": [
    "\n",
    "---\n",
    "\n",
    "### Exercise 43:\n",
    "Find the inner and outer products of two NumPy arrays.\n"
   ]
  },
  {
   "cell_type": "code",
   "execution_count": 90,
   "id": "36f488c8",
   "metadata": {},
   "outputs": [
    {
     "name": "stdout",
     "output_type": "stream",
     "text": [
      "Inner product: 32\n",
      "\n",
      "Outer product:\n",
      " [[ 4  5  6]\n",
      " [ 8 10 12]\n",
      " [12 15 18]]\n"
     ]
    }
   ],
   "source": [
    "# Exercise 43\n",
    "a = np.array([1, 2, 3])\n",
    "b = np.array([4, 5, 6])\n",
    "\n",
    "inner_product=np.inner(a,b)\n",
    "outer_product=np.outer(a,b)\n",
    "\n",
    "print(\"Inner product:\", inner_product)\n",
    "print(\"\\nOuter product:\\n\", outer_product)"
   ]
  },
  {
   "cell_type": "markdown",
   "id": "7dce9fa3",
   "metadata": {},
   "source": [
    "\n",
    "---\n",
    "\n",
    "### Exercise 44:\n",
    "Calculate the pairwise distances between points in a NumPy array.\n"
   ]
  },
  {
   "cell_type": "code",
   "execution_count": 92,
   "id": "94067655",
   "metadata": {},
   "outputs": [
    {
     "name": "stdout",
     "output_type": "stream",
     "text": [
      "Pairwise distance matrix:\n",
      "[[0.         1.41421356 2.        ]\n",
      " [1.41421356 0.         1.41421356]\n",
      " [2.         1.41421356 0.        ]]\n"
     ]
    }
   ],
   "source": [
    "# Exercise 44\n",
    "from scipy.spatial import distance_matrix\n",
    "points = np.array([[0, 0],\n",
    "                   [1, 1],\n",
    "                   [2, 0]])\n",
    "dist_matrix = distance_matrix(points, points)\n",
    "\n",
    "print(\"Pairwise distance matrix:\")\n",
    "print(dist_matrix)"
   ]
  },
  {
   "cell_type": "markdown",
   "id": "d4b272d3",
   "metadata": {},
   "source": [
    "\n",
    "---\n",
    "\n",
    "### Exercise 45:\n",
    "Create a structured NumPy array with fields for `name`, `age`, and `height`.\n"
   ]
  },
  {
   "cell_type": "code",
   "execution_count": 94,
   "id": "9b18e4f0",
   "metadata": {},
   "outputs": [
    {
     "name": "stdout",
     "output_type": "stream",
     "text": [
      "[('Alice', 25, 5.5) ('Bob', 30, 6. ) ('Charlie', 22, 5.8)]\n"
     ]
    }
   ],
   "source": [
    "# Exercise 45\n",
    "person_dtype = np.dtype([('name', 'U20'), \n",
    "                         ('age', 'i4'),    \n",
    "                         ('height', 'f4')]) \n",
    "\n",
    "people = np.array([('Alice', 25, 5.5),\n",
    "                   ('Bob', 30, 6.0),\n",
    "                   ('Charlie', 22, 5.8)], dtype=person_dtype)\n",
    "\n",
    "print(people)"
   ]
  },
  {
   "cell_type": "markdown",
   "id": "577f3e80",
   "metadata": {},
   "source": [
    "\n",
    "---\n",
    "\n",
    "### Exercise 46:\n",
    "Create a 5x5 matrix of random integers and count the occurrences of each unique value.\n"
   ]
  },
  {
   "cell_type": "code",
   "execution_count": 96,
   "id": "639b01fd",
   "metadata": {},
   "outputs": [
    {
     "name": "stdout",
     "output_type": "stream",
     "text": [
      "Matrix:\n",
      "[[2 7 2 1 6]\n",
      " [0 7 4 7 5]\n",
      " [4 5 4 3 3]\n",
      " [8 3 2 1 8]\n",
      " [2 6 4 9 6]]\n",
      "Value 0 occurs 1 times\n",
      "Value 1 occurs 2 times\n",
      "Value 2 occurs 4 times\n",
      "Value 3 occurs 3 times\n",
      "Value 4 occurs 4 times\n",
      "Value 5 occurs 2 times\n",
      "Value 6 occurs 3 times\n",
      "Value 7 occurs 3 times\n",
      "Value 8 occurs 2 times\n",
      "Value 9 occurs 1 times\n"
     ]
    }
   ],
   "source": [
    "# Exercise 46\n",
    "matrix = np.random.randint(0, 10, size=(5, 5))\n",
    "\n",
    "print(\"Matrix:\")\n",
    "print(matrix)\n",
    "\n",
    "unique_values, counts = np.unique(matrix, return_counts=True)\n",
    "\n",
    "for val, count in zip(unique_values, counts):\n",
    "    print(f\"Value {val} occurs {count} times\")"
   ]
  },
  {
   "cell_type": "markdown",
   "id": "e716555f",
   "metadata": {},
   "source": [
    "\n",
    "---\n",
    "\n",
    "### Exercise 47:\n",
    "Generate a random 3x3 NumPy array and subtract the mean of each row from the corresponding row.\n"
   ]
  },
  {
   "cell_type": "code",
   "execution_count": 98,
   "id": "03747d27",
   "metadata": {},
   "outputs": [
    {
     "name": "stdout",
     "output_type": "stream",
     "text": [
      "Array is:\n",
      " [[0.97001154 0.02211098 0.09096061]\n",
      " [0.82509323 0.95355716 0.41623109]\n",
      " [0.30178587 0.4446554  0.57234822]]\n",
      "=================\n",
      "Mean is\n",
      " [[0.36102771]\n",
      " [0.73162716]\n",
      " [0.4395965 ]]\n",
      "=================\n",
      "Result is:\n",
      " [[ 0.60898383 -0.33891673 -0.2700671 ]\n",
      " [ 0.09346607  0.22193    -0.31539607]\n",
      " [-0.13781062  0.0050589   0.13275172]]\n"
     ]
    }
   ],
   "source": [
    "# Exercise 47\n",
    "arr = np.random.rand(3, 3)\n",
    "row_means = arr.mean(axis=1, keepdims=True)\n",
    "result = arr - row_means\n",
    "print('Array is:\\n',arr)\n",
    "print(\"=================\")\n",
    "print(\"Mean is\\n\",row_means)\n",
    "print(\"=================\")\n",
    "print(\"Result is:\\n\",result)"
   ]
  },
  {
   "cell_type": "markdown",
   "id": "89148fb1",
   "metadata": {},
   "source": [
    "\n",
    "---\n",
    "\n",
    "### Exercise 48:\n",
    "Create a NumPy array of random integers and check if any of the values are greater than 50.\n"
   ]
  },
  {
   "cell_type": "code",
   "execution_count": 100,
   "id": "d329ca63",
   "metadata": {},
   "outputs": [
    {
     "name": "stdout",
     "output_type": "stream",
     "text": [
      "[78 32 51 36  6 97 49 91 81 24]\n",
      "Any values greater than 50: True\n"
     ]
    }
   ],
   "source": [
    "# Exercise 48\n",
    "arr = np.random.randint(0, 100, size=10)\n",
    "any_greater_than_50 = np.any(arr > 50)\n",
    "\n",
    "print(arr)\n",
    "print(\"Any values greater than 50:\", any_greater_than_50)"
   ]
  },
  {
   "cell_type": "markdown",
   "id": "806622f5",
   "metadata": {},
   "source": [
    "\n",
    "---\n",
    "\n",
    "### Exercise 49:\n",
    "Calculate the moving average of a 1D NumPy array.\n"
   ]
  },
  {
   "cell_type": "code",
   "execution_count": 102,
   "id": "866232ff",
   "metadata": {},
   "outputs": [
    {
     "name": "stdout",
     "output_type": "stream",
     "text": [
      "[2. 3. 4. 5. 6. 7. 8.]\n"
     ]
    }
   ],
   "source": [
    "# Exercise 49\n",
    "def moving_average(arr, window_size):\n",
    "    return np.convolve(arr, np.ones(window_size)/window_size, mode='valid')\n",
    "\n",
    "arr = np.array([1, 2, 3, 4, 5, 6, 7, 8, 9])\n",
    "window_size = 3\n",
    "ma = moving_average(arr, window_size)\n",
    "\n",
    "print(ma)"
   ]
  },
  {
   "cell_type": "markdown",
   "id": "9313446b",
   "metadata": {},
   "source": [
    "\n",
    "---\n",
    "\n",
    "### Exercise 50:\n",
    "Find the Pearson correlation coefficient between two NumPy arrays.\n"
   ]
  },
  {
   "cell_type": "code",
   "execution_count": 104,
   "id": "09c184ab",
   "metadata": {},
   "outputs": [
    {
     "name": "stdout",
     "output_type": "stream",
     "text": [
      "Pearson correlation coefficient: -0.9999999999999999\n"
     ]
    }
   ],
   "source": [
    "# Exercise 50\n",
    "x = np.array([1, 2, 3, 4, 5])\n",
    "y = np.array([5, 4, 3, 2, 1])\n",
    "\n",
    "correlation = np.corrcoef(x, y)[0, 1]\n",
    "\n",
    "\n",
    "print(\"Pearson correlation coefficient:\", correlation)"
   ]
  },
  {
   "cell_type": "markdown",
   "id": "8ee11395",
   "metadata": {},
   "source": [
    "\n",
    "---\n",
    "\n",
    "### Exercise 51:\n",
    "Convert a NumPy array of radians to degrees.\n"
   ]
  },
  {
   "cell_type": "code",
   "execution_count": 106,
   "id": "34ac5b8c",
   "metadata": {},
   "outputs": [
    {
     "name": "stdout",
     "output_type": "stream",
     "text": [
      "[  0.  90. 180. 270. 360.]\n"
     ]
    }
   ],
   "source": [
    "# Exercise 51\n",
    "radians = np.array([0, np.pi/2, np.pi, 3*np.pi/2, 2*np.pi])\n",
    "degrees = np.degrees(radians)\n",
    "\n",
    "print(degrees)"
   ]
  },
  {
   "cell_type": "markdown",
   "id": "f4fd9563",
   "metadata": {},
   "source": [
    "\n",
    "---\n",
    "\n",
    "### Exercise 52:\n",
    "Create a random NumPy array and compute its variance and standard deviation.\n"
   ]
  },
  {
   "cell_type": "code",
   "execution_count": 108,
   "id": "0559791a",
   "metadata": {},
   "outputs": [
    {
     "name": "stdout",
     "output_type": "stream",
     "text": [
      "Array: [0.07186792 0.43037375 0.01114936 0.4480784  0.0614717  0.73505383\n",
      " 0.23663211 0.32715583 0.42358769 0.35156286]\n",
      "Variance: 0.044231701368651385\n",
      "Standard Deviation: 0.21031334091933251\n"
     ]
    }
   ],
   "source": [
    "# Exercise 52\n",
    "arr = np.random.rand(10)\n",
    "variance = np.var(arr)\n",
    "std_dev = np.std(arr)\n",
    "\n",
    "print(\"Array:\", arr)\n",
    "print(\"Variance:\", variance)\n",
    "print(\"Standard Deviation:\", std_dev)"
   ]
  },
  {
   "cell_type": "markdown",
   "id": "b5bed93d",
   "metadata": {},
   "source": [
    "\n",
    "---\n",
    "\n",
    "### Exercise 53:\n",
    "Create a 2D NumPy array and find the indices of the maximum values along each axis.\n"
   ]
  },
  {
   "cell_type": "code",
   "execution_count": 110,
   "id": "37168529",
   "metadata": {},
   "outputs": [
    {
     "name": "stdout",
     "output_type": "stream",
     "text": [
      "Array:\n",
      " [[0.58731856 0.25653934 0.96704539 0.14076076 0.5587311 ]\n",
      " [0.43445491 0.88237406 0.00333579 0.06275934 0.83030365]\n",
      " [0.11601366 0.11223597 0.42816853 0.20482227 0.22833782]\n",
      " [0.06788128 0.98736289 0.63069237 0.61357083 0.69872373]]\n",
      "Indices of max values along axis 0: [0 3 0 3 1]\n",
      "Indices of max values along axis 1: [2 1 2 1]\n"
     ]
    }
   ],
   "source": [
    "# Exercise 53\n",
    "arr = np.random.rand(4, 5)\n",
    "max_indices_axis0 = np.argmax(arr, axis=0)\n",
    "max_indices_axis1 = np.argmax(arr, axis=1)\n",
    "\n",
    "print(\"Array:\\n\", arr)\n",
    "print(\"Indices of max values along axis 0:\", max_indices_axis0)\n",
    "print(\"Indices of max values along axis 1:\", max_indices_axis1)"
   ]
  },
  {
   "cell_type": "markdown",
   "id": "fd672293",
   "metadata": {},
   "source": [
    "\n",
    "---\n",
    "\n",
    "### Exercise 54:\n",
    "Compute the inverse of a 2x2 NumPy matrix.\n"
   ]
  },
  {
   "cell_type": "code",
   "execution_count": 112,
   "id": "d9eebfee",
   "metadata": {},
   "outputs": [
    {
     "name": "stdout",
     "output_type": "stream",
     "text": [
      "Inverse matrix:\n",
      "[[ 0.6 -0.7]\n",
      " [-0.2  0.4]]\n"
     ]
    }
   ],
   "source": [
    "# Exercise 54\n",
    "matrix = np.array([[4, 7],\n",
    "                   [2, 6]])\n",
    "\n",
    "inverse = np.linalg.inv(matrix)\n",
    "\n",
    "print(\"Inverse matrix:\")\n",
    "print(inverse)"
   ]
  },
  {
   "cell_type": "markdown",
   "id": "d635d87b",
   "metadata": {},
   "source": [
    "\n",
    "---\n",
    "\n",
    "### Exercise 55:\n",
    "Create a NumPy array of 10 random values and standardize it (mean 0, variance 1).\n"
   ]
  },
  {
   "cell_type": "code",
   "execution_count": 114,
   "id": "dc8ffa7d",
   "metadata": {},
   "outputs": [
    {
     "name": "stdout",
     "output_type": "stream",
     "text": [
      "Original array: [0.93041939 0.40473628 0.75578757 0.20530455 0.06379914 0.94645523\n",
      " 0.93211309 0.77702274 0.81480113 0.86734077]\n",
      "Standardized array: [ 0.84766079 -0.86197151  0.27972128 -1.51056553 -1.97077095  0.8998127\n",
      "  0.85316904  0.34878255  0.47164582  0.64251582]\n"
     ]
    }
   ],
   "source": [
    "# Exercise 55\n",
    "arr = np.random.rand(10)\n",
    "standardized = (arr - np.mean(arr)) / np.std(arr)\n",
    "\n",
    "print(\"Original array:\", arr)\n",
    "print(\"Standardized array:\", standardized)"
   ]
  },
  {
   "cell_type": "markdown",
   "id": "6db1e281",
   "metadata": {},
   "source": [
    "\n",
    "---\n",
    "\n",
    "### Exercise 56:\n",
    "Perform element-wise addition and subtraction on two NumPy arrays.\n"
   ]
  },
  {
   "cell_type": "code",
   "execution_count": 116,
   "id": "e8d4d852",
   "metadata": {},
   "outputs": [
    {
     "name": "stdout",
     "output_type": "stream",
     "text": [
      "Addition: [5 7 9]\n",
      "Subtraction: [-3 -3 -3]\n"
     ]
    }
   ],
   "source": [
    "# Exercise 56\n",
    "a = np.array([1, 2, 3])\n",
    "b = np.array([4, 5, 6])\n",
    "\n",
    "addition = a + b\n",
    "subtraction = a - b\n",
    "\n",
    "print(\"Addition:\", addition)\n",
    "print(\"Subtraction:\", subtraction)"
   ]
  },
  {
   "cell_type": "markdown",
   "id": "843ba956",
   "metadata": {},
   "source": [
    "\n",
    "---\n",
    "\n",
    "### Exercise 57:\n",
    "Create a NumPy array of random values and find the maximum element's index.\n"
   ]
  },
  {
   "cell_type": "code",
   "execution_count": 118,
   "id": "e4cbc318",
   "metadata": {},
   "outputs": [
    {
     "name": "stdout",
     "output_type": "stream",
     "text": [
      "Array: [0.49119605 0.01193675 0.71481856 0.71081121 0.21428402 0.54149661\n",
      " 0.9760695  0.32759892 0.48361486 0.61954409]\n",
      "Index of maximum element: 6\n"
     ]
    }
   ],
   "source": [
    "# Exercise 57\n",
    "arr = np.random.rand(10)\n",
    "max_index = np.argmax(arr)\n",
    "\n",
    "print(\"Array:\", arr)\n",
    "print(\"Index of maximum element:\", max_index)"
   ]
  },
  {
   "cell_type": "markdown",
   "id": "e8356250",
   "metadata": {},
   "source": [
    "\n",
    "---\n",
    "\n",
    "### Exercise 58:\n",
    "Create a 3x3 NumPy array and rotate it by 90 degrees.\n"
   ]
  },
  {
   "cell_type": "code",
   "execution_count": 120,
   "id": "f80c6616",
   "metadata": {},
   "outputs": [
    {
     "name": "stdout",
     "output_type": "stream",
     "text": [
      "[[3 6 9]\n",
      " [2 5 8]\n",
      " [1 4 7]]\n"
     ]
    }
   ],
   "source": [
    "# Exercise 58\n",
    "arr = np.array([[1, 2, 3],\n",
    "                [4, 5, 6],\n",
    "                [7, 8, 9]])\n",
    "\n",
    "rotated = np.rot90(arr)\n",
    "\n",
    "print(rotated)"
   ]
  },
  {
   "cell_type": "markdown",
   "id": "5bdbf96d",
   "metadata": {},
   "source": [
    "\n",
    "---\n",
    "\n",
    "### Exercise 59:\n",
    "Compute the Frobenius norm of a matrix.\n"
   ]
  },
  {
   "cell_type": "code",
   "execution_count": 122,
   "id": "bb81b41a",
   "metadata": {},
   "outputs": [
    {
     "name": "stdout",
     "output_type": "stream",
     "text": [
      "Frobenius norm: 5.477225575051661\n"
     ]
    }
   ],
   "source": [
    "# Exercise 59\n",
    "matrix = np.array([[1, 2],\n",
    "                   [3, 4]])\n",
    "\n",
    "frobenius_norm = np.linalg.norm(matrix, 'fro')\n",
    "\n",
    "print(\"Frobenius norm:\", frobenius_norm)"
   ]
  },
  {
   "cell_type": "markdown",
   "id": "9388b0db",
   "metadata": {},
   "source": [
    "\n",
    "---\n",
    "\n",
    "### Exercise 60:\n",
    "Create a 3D NumPy array and slice out a subarray.\n"
   ]
  },
  {
   "cell_type": "code",
   "execution_count": 124,
   "id": "f051d3a2",
   "metadata": {},
   "outputs": [
    {
     "name": "stdout",
     "output_type": "stream",
     "text": [
      "Original array:\n",
      " [[[ 0  1  2]\n",
      "  [ 3  4  5]\n",
      "  [ 6  7  8]]\n",
      "\n",
      " [[ 9 10 11]\n",
      "  [12 13 14]\n",
      "  [15 16 17]]\n",
      "\n",
      " [[18 19 20]\n",
      "  [21 22 23]\n",
      "  [24 25 26]]]\n",
      "\n",
      "Sliced subarray:\n",
      " [[[10 11]\n",
      "  [13 14]]\n",
      "\n",
      " [[19 20]\n",
      "  [22 23]]]\n"
     ]
    }
   ],
   "source": [
    "# Exercise 60\n",
    "arr = np.arange(27).reshape((3, 3, 3))\n",
    "\n",
    "subarray = arr[1:, :2, 1:]\n",
    "\n",
    "print(\"Original array:\\n\", arr)\n",
    "print(\"\\nSliced subarray:\\n\", subarray)\n",
    "\n",
    "\n",
    "\n",
    "\n",
    "\n",
    "\n"
   ]
  },
  {
   "cell_type": "markdown",
   "id": "9cb79001",
   "metadata": {},
   "source": [
    "\n",
    "---"
   ]
  }
 ],
 "metadata": {
  "kernelspec": {
   "display_name": "Python [conda env:base] *",
   "language": "python",
   "name": "conda-base-py"
  },
  "language_info": {
   "codemirror_mode": {
    "name": "ipython",
    "version": 3
   },
   "file_extension": ".py",
   "mimetype": "text/x-python",
   "name": "python",
   "nbconvert_exporter": "python",
   "pygments_lexer": "ipython3",
   "version": "3.11.7"
  }
 },
 "nbformat": 4,
 "nbformat_minor": 5
}
